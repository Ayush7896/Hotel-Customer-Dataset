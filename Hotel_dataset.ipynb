{
 "cells": [
  {
   "cell_type": "markdown",
   "metadata": {},
   "source": [
    "# Part 1\n",
    "\n"
   ]
  },
  {
   "cell_type": "markdown",
   "metadata": {},
   "source": [
    "Question 1\n",
    "\n",
    "Write a regex to extract all the numbers with orange color background from the below text in italics.\n",
    "\n",
    "\n",
    "{\"orders\":[{\"id\":1},{\"id\":2},{\"id\":3},{\"id\":4},{\"id\":5},{\"id\":6},{\"id\":7},{\"id\":8},{\"id\":9},{\"id\":10},{\"id\":11},{\"id\":648},{\"id\":649},{\"id\":650},{\"id\":651},{\"id\":652},{\"id\":653}],\"errors\":[{\"code\":3,\"message\":\"[PHP Warning #2] count(): Parameter must be an array or an object that implements Countable (153)\"}]}\n"
   ]
  },
  {
   "cell_type": "code",
   "execution_count": 1,
   "metadata": {},
   "outputs": [],
   "source": [
    "import re"
   ]
  },
  {
   "cell_type": "code",
   "execution_count": 2,
   "metadata": {},
   "outputs": [
    {
     "name": "stdout",
     "output_type": "stream",
     "text": [
      "[' 1', ' 2', ' 3', ' 4', ' 5', ' 6', ' 7', ' 8', ' 9', ' 10', ' 11', ' 648', ' 649', ' 650', ' 651', ' 652', ' 653', ' 3']\n"
     ]
    }
   ],
   "source": [
    "ques={\"orders\":[{\"id\":1},{\"id\":2},{\"id\":3},{\"id\":4},{\"id\":5},{\"id\":6},{\"id\":7},{\"id\":8},{\"id\":9},{\"id\":10},{\"id\":11},{\"id\":648},{\"id\":649},{\"id\":650},{\"id\":651},{\"id\":652},{\"id\":653}],\"errors\":[{\"code\":3,\"message\":\"[PHP Warning #2] count(): Parameter must be an array or an object that implements Countable (153)\"}]}\n",
    "result=re.findall(r'\\s[0-9]+',str(ques))\n",
    "\n",
    "print(result)"
   ]
  },
  {
   "cell_type": "markdown",
   "metadata": {},
   "source": [
    "# Part 2"
   ]
  },
  {
   "cell_type": "code",
   "execution_count": 3,
   "metadata": {},
   "outputs": [],
   "source": [
    "import numpy as np\n",
    "import pandas as pd\n",
    "from matplotlib import pyplot as plt\n",
    "import seaborn as sns\n",
    "from sklearn.model_selection import train_test_split\n",
    "import tensorflow as tf\n",
    "import keras\n",
    "from keras.layers import Dense,Input,Activation,Flatten,BatchNormalization,Dropout\n",
    "from keras.models import Model,Sequential\n",
    "from tensorflow.keras.callbacks import EarlyStopping\n",
    "from tensorflow.keras.callbacks import ModelCheckpoint\n",
    "import datetime\n",
    "from keras.initializers import he_normal\n",
    "from tensorflow.keras.optimizers import Adam\n",
    "import tensorboard\n",
    "from sklearn.decomposition import PCA\n",
    "from sklearn.cluster import KMeans\n",
    "from sklearn.preprocessing import MinMaxScaler\n",
    "from sklearn.cluster import Birch\n",
    "from sklearn.metrics import confusion_matrix,f1_score,recall_score,precision_score,classification_report\n",
    "import pickle\n",
    "import os\n",
    "from keras.models import load_model"
   ]
  },
  {
   "cell_type": "code",
   "execution_count": 4,
   "metadata": {},
   "outputs": [],
   "source": [
    "data=pd.read_csv('train_data_evaluation_part_2.csv')"
   ]
  },
  {
   "cell_type": "code",
   "execution_count": 5,
   "metadata": {},
   "outputs": [
    {
     "data": {
      "text/plain": [
       "(82580, 30)"
      ]
     },
     "execution_count": 5,
     "metadata": {},
     "output_type": "execute_result"
    }
   ],
   "source": [
    "data.shape"
   ]
  },
  {
   "cell_type": "code",
   "execution_count": 6,
   "metadata": {},
   "outputs": [],
   "source": [
    "pd.set_option('display.max_columns', None)"
   ]
  },
  {
   "cell_type": "code",
   "execution_count": 7,
   "metadata": {},
   "outputs": [
    {
     "data": {
      "text/html": [
       "<div>\n",
       "<style scoped>\n",
       "    .dataframe tbody tr th:only-of-type {\n",
       "        vertical-align: middle;\n",
       "    }\n",
       "\n",
       "    .dataframe tbody tr th {\n",
       "        vertical-align: top;\n",
       "    }\n",
       "\n",
       "    .dataframe thead th {\n",
       "        text-align: right;\n",
       "    }\n",
       "</style>\n",
       "<table border=\"1\" class=\"dataframe\">\n",
       "  <thead>\n",
       "    <tr style=\"text-align: right;\">\n",
       "      <th></th>\n",
       "      <th>Unnamed: 0</th>\n",
       "      <th>ID</th>\n",
       "      <th>Nationality</th>\n",
       "      <th>Age</th>\n",
       "      <th>DaysSinceCreation</th>\n",
       "      <th>AverageLeadTime</th>\n",
       "      <th>LodgingRevenue</th>\n",
       "      <th>OtherRevenue</th>\n",
       "      <th>BookingsCanceled</th>\n",
       "      <th>BookingsNoShowed</th>\n",
       "      <th>BookingsCheckedIn</th>\n",
       "      <th>PersonsNights</th>\n",
       "      <th>RoomNights</th>\n",
       "      <th>DaysSinceLastStay</th>\n",
       "      <th>DaysSinceFirstStay</th>\n",
       "      <th>DistributionChannel</th>\n",
       "      <th>MarketSegment</th>\n",
       "      <th>SRHighFloor</th>\n",
       "      <th>SRLowFloor</th>\n",
       "      <th>SRAccessibleRoom</th>\n",
       "      <th>SRMediumFloor</th>\n",
       "      <th>SRBathtub</th>\n",
       "      <th>SRShower</th>\n",
       "      <th>SRCrib</th>\n",
       "      <th>SRKingSizeBed</th>\n",
       "      <th>SRTwinBed</th>\n",
       "      <th>SRNearElevator</th>\n",
       "      <th>SRAwayFromElevator</th>\n",
       "      <th>SRNoAlcoholInMiniBar</th>\n",
       "      <th>SRQuietRoom</th>\n",
       "    </tr>\n",
       "  </thead>\n",
       "  <tbody>\n",
       "    <tr>\n",
       "      <th>0</th>\n",
       "      <td>0</td>\n",
       "      <td>1</td>\n",
       "      <td>PRT</td>\n",
       "      <td>51.0</td>\n",
       "      <td>150</td>\n",
       "      <td>45</td>\n",
       "      <td>371.0</td>\n",
       "      <td>105.3</td>\n",
       "      <td>1</td>\n",
       "      <td>0</td>\n",
       "      <td>3</td>\n",
       "      <td>8</td>\n",
       "      <td>5</td>\n",
       "      <td>151</td>\n",
       "      <td>1074</td>\n",
       "      <td>Corporate</td>\n",
       "      <td>Corporate</td>\n",
       "      <td>0</td>\n",
       "      <td>0</td>\n",
       "      <td>0</td>\n",
       "      <td>0</td>\n",
       "      <td>0</td>\n",
       "      <td>0</td>\n",
       "      <td>0</td>\n",
       "      <td>0</td>\n",
       "      <td>0</td>\n",
       "      <td>0</td>\n",
       "      <td>0</td>\n",
       "      <td>0</td>\n",
       "      <td>0</td>\n",
       "    </tr>\n",
       "    <tr>\n",
       "      <th>1</th>\n",
       "      <td>1</td>\n",
       "      <td>2</td>\n",
       "      <td>PRT</td>\n",
       "      <td>NaN</td>\n",
       "      <td>1095</td>\n",
       "      <td>61</td>\n",
       "      <td>280.0</td>\n",
       "      <td>53.0</td>\n",
       "      <td>0</td>\n",
       "      <td>0</td>\n",
       "      <td>1</td>\n",
       "      <td>10</td>\n",
       "      <td>5</td>\n",
       "      <td>1100</td>\n",
       "      <td>1100</td>\n",
       "      <td>Travel Agent/Operator</td>\n",
       "      <td>Travel Agent/Operator</td>\n",
       "      <td>0</td>\n",
       "      <td>0</td>\n",
       "      <td>0</td>\n",
       "      <td>0</td>\n",
       "      <td>0</td>\n",
       "      <td>0</td>\n",
       "      <td>0</td>\n",
       "      <td>0</td>\n",
       "      <td>0</td>\n",
       "      <td>0</td>\n",
       "      <td>0</td>\n",
       "      <td>0</td>\n",
       "      <td>0</td>\n",
       "    </tr>\n",
       "    <tr>\n",
       "      <th>2</th>\n",
       "      <td>2</td>\n",
       "      <td>3</td>\n",
       "      <td>DEU</td>\n",
       "      <td>31.0</td>\n",
       "      <td>1095</td>\n",
       "      <td>0</td>\n",
       "      <td>0.0</td>\n",
       "      <td>0.0</td>\n",
       "      <td>0</td>\n",
       "      <td>0</td>\n",
       "      <td>0</td>\n",
       "      <td>0</td>\n",
       "      <td>0</td>\n",
       "      <td>-1</td>\n",
       "      <td>-1</td>\n",
       "      <td>Travel Agent/Operator</td>\n",
       "      <td>Travel Agent/Operator</td>\n",
       "      <td>0</td>\n",
       "      <td>0</td>\n",
       "      <td>0</td>\n",
       "      <td>0</td>\n",
       "      <td>0</td>\n",
       "      <td>0</td>\n",
       "      <td>0</td>\n",
       "      <td>0</td>\n",
       "      <td>0</td>\n",
       "      <td>0</td>\n",
       "      <td>0</td>\n",
       "      <td>0</td>\n",
       "      <td>0</td>\n",
       "    </tr>\n",
       "    <tr>\n",
       "      <th>3</th>\n",
       "      <td>3</td>\n",
       "      <td>4</td>\n",
       "      <td>FRA</td>\n",
       "      <td>60.0</td>\n",
       "      <td>1095</td>\n",
       "      <td>93</td>\n",
       "      <td>240.0</td>\n",
       "      <td>60.0</td>\n",
       "      <td>0</td>\n",
       "      <td>0</td>\n",
       "      <td>1</td>\n",
       "      <td>10</td>\n",
       "      <td>5</td>\n",
       "      <td>1100</td>\n",
       "      <td>1100</td>\n",
       "      <td>Travel Agent/Operator</td>\n",
       "      <td>Travel Agent/Operator</td>\n",
       "      <td>0</td>\n",
       "      <td>0</td>\n",
       "      <td>0</td>\n",
       "      <td>0</td>\n",
       "      <td>0</td>\n",
       "      <td>0</td>\n",
       "      <td>0</td>\n",
       "      <td>0</td>\n",
       "      <td>0</td>\n",
       "      <td>0</td>\n",
       "      <td>0</td>\n",
       "      <td>0</td>\n",
       "      <td>0</td>\n",
       "    </tr>\n",
       "    <tr>\n",
       "      <th>4</th>\n",
       "      <td>4</td>\n",
       "      <td>5</td>\n",
       "      <td>FRA</td>\n",
       "      <td>51.0</td>\n",
       "      <td>1095</td>\n",
       "      <td>0</td>\n",
       "      <td>0.0</td>\n",
       "      <td>0.0</td>\n",
       "      <td>0</td>\n",
       "      <td>0</td>\n",
       "      <td>0</td>\n",
       "      <td>0</td>\n",
       "      <td>0</td>\n",
       "      <td>-1</td>\n",
       "      <td>-1</td>\n",
       "      <td>Travel Agent/Operator</td>\n",
       "      <td>Travel Agent/Operator</td>\n",
       "      <td>0</td>\n",
       "      <td>0</td>\n",
       "      <td>0</td>\n",
       "      <td>0</td>\n",
       "      <td>0</td>\n",
       "      <td>0</td>\n",
       "      <td>0</td>\n",
       "      <td>0</td>\n",
       "      <td>0</td>\n",
       "      <td>0</td>\n",
       "      <td>0</td>\n",
       "      <td>0</td>\n",
       "      <td>0</td>\n",
       "    </tr>\n",
       "  </tbody>\n",
       "</table>\n",
       "</div>"
      ],
      "text/plain": [
       "   Unnamed: 0  ID Nationality   Age  DaysSinceCreation  AverageLeadTime  \\\n",
       "0           0   1         PRT  51.0                150               45   \n",
       "1           1   2         PRT   NaN               1095               61   \n",
       "2           2   3         DEU  31.0               1095                0   \n",
       "3           3   4         FRA  60.0               1095               93   \n",
       "4           4   5         FRA  51.0               1095                0   \n",
       "\n",
       "   LodgingRevenue  OtherRevenue  BookingsCanceled  BookingsNoShowed  \\\n",
       "0           371.0         105.3                 1                 0   \n",
       "1           280.0          53.0                 0                 0   \n",
       "2             0.0           0.0                 0                 0   \n",
       "3           240.0          60.0                 0                 0   \n",
       "4             0.0           0.0                 0                 0   \n",
       "\n",
       "   BookingsCheckedIn  PersonsNights  RoomNights  DaysSinceLastStay  \\\n",
       "0                  3              8           5                151   \n",
       "1                  1             10           5               1100   \n",
       "2                  0              0           0                 -1   \n",
       "3                  1             10           5               1100   \n",
       "4                  0              0           0                 -1   \n",
       "\n",
       "   DaysSinceFirstStay    DistributionChannel          MarketSegment  \\\n",
       "0                1074              Corporate              Corporate   \n",
       "1                1100  Travel Agent/Operator  Travel Agent/Operator   \n",
       "2                  -1  Travel Agent/Operator  Travel Agent/Operator   \n",
       "3                1100  Travel Agent/Operator  Travel Agent/Operator   \n",
       "4                  -1  Travel Agent/Operator  Travel Agent/Operator   \n",
       "\n",
       "   SRHighFloor  SRLowFloor  SRAccessibleRoom  SRMediumFloor  SRBathtub  \\\n",
       "0            0           0                 0              0          0   \n",
       "1            0           0                 0              0          0   \n",
       "2            0           0                 0              0          0   \n",
       "3            0           0                 0              0          0   \n",
       "4            0           0                 0              0          0   \n",
       "\n",
       "   SRShower  SRCrib  SRKingSizeBed  SRTwinBed  SRNearElevator  \\\n",
       "0         0       0              0          0               0   \n",
       "1         0       0              0          0               0   \n",
       "2         0       0              0          0               0   \n",
       "3         0       0              0          0               0   \n",
       "4         0       0              0          0               0   \n",
       "\n",
       "   SRAwayFromElevator  SRNoAlcoholInMiniBar  SRQuietRoom  \n",
       "0                   0                     0            0  \n",
       "1                   0                     0            0  \n",
       "2                   0                     0            0  \n",
       "3                   0                     0            0  \n",
       "4                   0                     0            0  "
      ]
     },
     "execution_count": 7,
     "metadata": {},
     "output_type": "execute_result"
    }
   ],
   "source": [
    "data.head()"
   ]
  },
  {
   "cell_type": "code",
   "execution_count": 8,
   "metadata": {},
   "outputs": [
    {
     "data": {
      "text/plain": [
       "Index(['Unnamed: 0', 'ID', 'Nationality', 'Age', 'DaysSinceCreation',\n",
       "       'AverageLeadTime', 'LodgingRevenue', 'OtherRevenue', 'BookingsCanceled',\n",
       "       'BookingsNoShowed', 'BookingsCheckedIn', 'PersonsNights', 'RoomNights',\n",
       "       'DaysSinceLastStay', 'DaysSinceFirstStay', 'DistributionChannel',\n",
       "       'MarketSegment', 'SRHighFloor', 'SRLowFloor', 'SRAccessibleRoom',\n",
       "       'SRMediumFloor', 'SRBathtub', 'SRShower', 'SRCrib', 'SRKingSizeBed',\n",
       "       'SRTwinBed', 'SRNearElevator', 'SRAwayFromElevator',\n",
       "       'SRNoAlcoholInMiniBar', 'SRQuietRoom'],\n",
       "      dtype='object')"
      ]
     },
     "execution_count": 8,
     "metadata": {},
     "output_type": "execute_result"
    }
   ],
   "source": [
    "data.columns"
   ]
  },
  {
   "cell_type": "markdown",
   "metadata": {},
   "source": [
    "# Business Problem"
   ]
  },
  {
   "cell_type": "markdown",
   "metadata": {},
   "source": [
    "Train a machine learning model (preferably with a neural network) that \n",
    "predicts the customer who is going to be checked in. Once done, please test \n",
    "the prediction with below test data.\n"
   ]
  },
  {
   "cell_type": "markdown",
   "metadata": {},
   "source": [
    "# Performance Metric"
   ]
  },
  {
   "cell_type": "markdown",
   "metadata": {},
   "source": [
    "The performance metric I have used is Confusion Matrix,F1 Score"
   ]
  },
  {
   "cell_type": "markdown",
   "metadata": {},
   "source": [
    "## Exploratory data analysis"
   ]
  },
  {
   "cell_type": "code",
   "execution_count": 9,
   "metadata": {
    "scrolled": true
   },
   "outputs": [
    {
     "data": {
      "text/html": [
       "<div>\n",
       "<style scoped>\n",
       "    .dataframe tbody tr th:only-of-type {\n",
       "        vertical-align: middle;\n",
       "    }\n",
       "\n",
       "    .dataframe tbody tr th {\n",
       "        vertical-align: top;\n",
       "    }\n",
       "\n",
       "    .dataframe thead th {\n",
       "        text-align: right;\n",
       "    }\n",
       "</style>\n",
       "<table border=\"1\" class=\"dataframe\">\n",
       "  <thead>\n",
       "    <tr style=\"text-align: right;\">\n",
       "      <th></th>\n",
       "      <th>Unnamed: 0</th>\n",
       "      <th>ID</th>\n",
       "      <th>Age</th>\n",
       "      <th>DaysSinceCreation</th>\n",
       "      <th>AverageLeadTime</th>\n",
       "      <th>LodgingRevenue</th>\n",
       "      <th>OtherRevenue</th>\n",
       "      <th>BookingsCanceled</th>\n",
       "      <th>BookingsNoShowed</th>\n",
       "      <th>BookingsCheckedIn</th>\n",
       "      <th>PersonsNights</th>\n",
       "      <th>RoomNights</th>\n",
       "      <th>DaysSinceLastStay</th>\n",
       "      <th>DaysSinceFirstStay</th>\n",
       "      <th>SRHighFloor</th>\n",
       "      <th>SRLowFloor</th>\n",
       "      <th>SRAccessibleRoom</th>\n",
       "      <th>SRMediumFloor</th>\n",
       "      <th>SRBathtub</th>\n",
       "      <th>SRShower</th>\n",
       "      <th>SRCrib</th>\n",
       "      <th>SRKingSizeBed</th>\n",
       "      <th>SRTwinBed</th>\n",
       "      <th>SRNearElevator</th>\n",
       "      <th>SRAwayFromElevator</th>\n",
       "      <th>SRNoAlcoholInMiniBar</th>\n",
       "      <th>SRQuietRoom</th>\n",
       "    </tr>\n",
       "  </thead>\n",
       "  <tbody>\n",
       "    <tr>\n",
       "      <th>count</th>\n",
       "      <td>82580.000000</td>\n",
       "      <td>82580.000000</td>\n",
       "      <td>78834.000000</td>\n",
       "      <td>82580.000000</td>\n",
       "      <td>82580.000000</td>\n",
       "      <td>82580.000000</td>\n",
       "      <td>82580.000000</td>\n",
       "      <td>82580.000000</td>\n",
       "      <td>82580.000000</td>\n",
       "      <td>82580.000000</td>\n",
       "      <td>82580.000000</td>\n",
       "      <td>82580.000000</td>\n",
       "      <td>82580.000000</td>\n",
       "      <td>82580.000000</td>\n",
       "      <td>82580.000000</td>\n",
       "      <td>82580.000000</td>\n",
       "      <td>82580.000000</td>\n",
       "      <td>82580.000000</td>\n",
       "      <td>82580.000000</td>\n",
       "      <td>82580.000000</td>\n",
       "      <td>82580.000000</td>\n",
       "      <td>82580.000000</td>\n",
       "      <td>82580.000000</td>\n",
       "      <td>82580.000000</td>\n",
       "      <td>82580.000000</td>\n",
       "      <td>82580.000000</td>\n",
       "      <td>82580.000000</td>\n",
       "    </tr>\n",
       "    <tr>\n",
       "      <th>mean</th>\n",
       "      <td>41289.500000</td>\n",
       "      <td>41290.500000</td>\n",
       "      <td>45.468554</td>\n",
       "      <td>459.138157</td>\n",
       "      <td>66.557205</td>\n",
       "      <td>300.457373</td>\n",
       "      <td>67.890023</td>\n",
       "      <td>0.002047</td>\n",
       "      <td>0.000642</td>\n",
       "      <td>0.798402</td>\n",
       "      <td>4.667958</td>\n",
       "      <td>2.369411</td>\n",
       "      <td>405.935457</td>\n",
       "      <td>408.245071</td>\n",
       "      <td>0.047518</td>\n",
       "      <td>0.001429</td>\n",
       "      <td>0.000254</td>\n",
       "      <td>0.000884</td>\n",
       "      <td>0.002809</td>\n",
       "      <td>0.001732</td>\n",
       "      <td>0.012812</td>\n",
       "      <td>0.351671</td>\n",
       "      <td>0.142771</td>\n",
       "      <td>0.000303</td>\n",
       "      <td>0.003548</td>\n",
       "      <td>0.000121</td>\n",
       "      <td>0.088060</td>\n",
       "    </tr>\n",
       "    <tr>\n",
       "      <th>std</th>\n",
       "      <td>23838.936952</td>\n",
       "      <td>23838.936952</td>\n",
       "      <td>16.526276</td>\n",
       "      <td>311.309295</td>\n",
       "      <td>87.928995</td>\n",
       "      <td>373.337007</td>\n",
       "      <td>114.496223</td>\n",
       "      <td>0.067177</td>\n",
       "      <td>0.029725</td>\n",
       "      <td>0.696880</td>\n",
       "      <td>4.562507</td>\n",
       "      <td>2.281758</td>\n",
       "      <td>346.502341</td>\n",
       "      <td>347.247127</td>\n",
       "      <td>0.212744</td>\n",
       "      <td>0.037774</td>\n",
       "      <td>0.015945</td>\n",
       "      <td>0.029719</td>\n",
       "      <td>0.052930</td>\n",
       "      <td>0.041577</td>\n",
       "      <td>0.112463</td>\n",
       "      <td>0.477495</td>\n",
       "      <td>0.349841</td>\n",
       "      <td>0.017397</td>\n",
       "      <td>0.059460</td>\n",
       "      <td>0.011004</td>\n",
       "      <td>0.283384</td>\n",
       "    </tr>\n",
       "    <tr>\n",
       "      <th>min</th>\n",
       "      <td>0.000000</td>\n",
       "      <td>1.000000</td>\n",
       "      <td>-11.000000</td>\n",
       "      <td>12.000000</td>\n",
       "      <td>-1.000000</td>\n",
       "      <td>0.000000</td>\n",
       "      <td>0.000000</td>\n",
       "      <td>0.000000</td>\n",
       "      <td>0.000000</td>\n",
       "      <td>0.000000</td>\n",
       "      <td>0.000000</td>\n",
       "      <td>0.000000</td>\n",
       "      <td>-1.000000</td>\n",
       "      <td>-1.000000</td>\n",
       "      <td>0.000000</td>\n",
       "      <td>0.000000</td>\n",
       "      <td>0.000000</td>\n",
       "      <td>0.000000</td>\n",
       "      <td>0.000000</td>\n",
       "      <td>0.000000</td>\n",
       "      <td>0.000000</td>\n",
       "      <td>0.000000</td>\n",
       "      <td>0.000000</td>\n",
       "      <td>0.000000</td>\n",
       "      <td>0.000000</td>\n",
       "      <td>0.000000</td>\n",
       "      <td>0.000000</td>\n",
       "    </tr>\n",
       "    <tr>\n",
       "      <th>25%</th>\n",
       "      <td>20644.750000</td>\n",
       "      <td>20645.750000</td>\n",
       "      <td>34.000000</td>\n",
       "      <td>183.000000</td>\n",
       "      <td>0.000000</td>\n",
       "      <td>66.400000</td>\n",
       "      <td>2.000000</td>\n",
       "      <td>0.000000</td>\n",
       "      <td>0.000000</td>\n",
       "      <td>1.000000</td>\n",
       "      <td>1.000000</td>\n",
       "      <td>1.000000</td>\n",
       "      <td>42.000000</td>\n",
       "      <td>44.000000</td>\n",
       "      <td>0.000000</td>\n",
       "      <td>0.000000</td>\n",
       "      <td>0.000000</td>\n",
       "      <td>0.000000</td>\n",
       "      <td>0.000000</td>\n",
       "      <td>0.000000</td>\n",
       "      <td>0.000000</td>\n",
       "      <td>0.000000</td>\n",
       "      <td>0.000000</td>\n",
       "      <td>0.000000</td>\n",
       "      <td>0.000000</td>\n",
       "      <td>0.000000</td>\n",
       "      <td>0.000000</td>\n",
       "    </tr>\n",
       "    <tr>\n",
       "      <th>50%</th>\n",
       "      <td>41289.500000</td>\n",
       "      <td>41290.500000</td>\n",
       "      <td>46.000000</td>\n",
       "      <td>406.000000</td>\n",
       "      <td>30.000000</td>\n",
       "      <td>234.000000</td>\n",
       "      <td>39.000000</td>\n",
       "      <td>0.000000</td>\n",
       "      <td>0.000000</td>\n",
       "      <td>1.000000</td>\n",
       "      <td>4.000000</td>\n",
       "      <td>2.000000</td>\n",
       "      <td>378.000000</td>\n",
       "      <td>388.000000</td>\n",
       "      <td>0.000000</td>\n",
       "      <td>0.000000</td>\n",
       "      <td>0.000000</td>\n",
       "      <td>0.000000</td>\n",
       "      <td>0.000000</td>\n",
       "      <td>0.000000</td>\n",
       "      <td>0.000000</td>\n",
       "      <td>0.000000</td>\n",
       "      <td>0.000000</td>\n",
       "      <td>0.000000</td>\n",
       "      <td>0.000000</td>\n",
       "      <td>0.000000</td>\n",
       "      <td>0.000000</td>\n",
       "    </tr>\n",
       "    <tr>\n",
       "      <th>75%</th>\n",
       "      <td>61934.250000</td>\n",
       "      <td>61935.250000</td>\n",
       "      <td>57.000000</td>\n",
       "      <td>728.000000</td>\n",
       "      <td>104.000000</td>\n",
       "      <td>403.800000</td>\n",
       "      <td>88.000000</td>\n",
       "      <td>0.000000</td>\n",
       "      <td>0.000000</td>\n",
       "      <td>1.000000</td>\n",
       "      <td>7.000000</td>\n",
       "      <td>4.000000</td>\n",
       "      <td>698.000000</td>\n",
       "      <td>705.000000</td>\n",
       "      <td>0.000000</td>\n",
       "      <td>0.000000</td>\n",
       "      <td>0.000000</td>\n",
       "      <td>0.000000</td>\n",
       "      <td>0.000000</td>\n",
       "      <td>0.000000</td>\n",
       "      <td>0.000000</td>\n",
       "      <td>1.000000</td>\n",
       "      <td>0.000000</td>\n",
       "      <td>0.000000</td>\n",
       "      <td>0.000000</td>\n",
       "      <td>0.000000</td>\n",
       "      <td>0.000000</td>\n",
       "    </tr>\n",
       "    <tr>\n",
       "      <th>max</th>\n",
       "      <td>82579.000000</td>\n",
       "      <td>82580.000000</td>\n",
       "      <td>122.000000</td>\n",
       "      <td>1095.000000</td>\n",
       "      <td>588.000000</td>\n",
       "      <td>21781.000000</td>\n",
       "      <td>7730.250000</td>\n",
       "      <td>9.000000</td>\n",
       "      <td>3.000000</td>\n",
       "      <td>66.000000</td>\n",
       "      <td>116.000000</td>\n",
       "      <td>185.000000</td>\n",
       "      <td>1104.000000</td>\n",
       "      <td>1186.000000</td>\n",
       "      <td>1.000000</td>\n",
       "      <td>1.000000</td>\n",
       "      <td>1.000000</td>\n",
       "      <td>1.000000</td>\n",
       "      <td>1.000000</td>\n",
       "      <td>1.000000</td>\n",
       "      <td>1.000000</td>\n",
       "      <td>1.000000</td>\n",
       "      <td>1.000000</td>\n",
       "      <td>1.000000</td>\n",
       "      <td>1.000000</td>\n",
       "      <td>1.000000</td>\n",
       "      <td>1.000000</td>\n",
       "    </tr>\n",
       "  </tbody>\n",
       "</table>\n",
       "</div>"
      ],
      "text/plain": [
       "         Unnamed: 0            ID           Age  DaysSinceCreation  \\\n",
       "count  82580.000000  82580.000000  78834.000000       82580.000000   \n",
       "mean   41289.500000  41290.500000     45.468554         459.138157   \n",
       "std    23838.936952  23838.936952     16.526276         311.309295   \n",
       "min        0.000000      1.000000    -11.000000          12.000000   \n",
       "25%    20644.750000  20645.750000     34.000000         183.000000   \n",
       "50%    41289.500000  41290.500000     46.000000         406.000000   \n",
       "75%    61934.250000  61935.250000     57.000000         728.000000   \n",
       "max    82579.000000  82580.000000    122.000000        1095.000000   \n",
       "\n",
       "       AverageLeadTime  LodgingRevenue  OtherRevenue  BookingsCanceled  \\\n",
       "count     82580.000000    82580.000000  82580.000000      82580.000000   \n",
       "mean         66.557205      300.457373     67.890023          0.002047   \n",
       "std          87.928995      373.337007    114.496223          0.067177   \n",
       "min          -1.000000        0.000000      0.000000          0.000000   \n",
       "25%           0.000000       66.400000      2.000000          0.000000   \n",
       "50%          30.000000      234.000000     39.000000          0.000000   \n",
       "75%         104.000000      403.800000     88.000000          0.000000   \n",
       "max         588.000000    21781.000000   7730.250000          9.000000   \n",
       "\n",
       "       BookingsNoShowed  BookingsCheckedIn  PersonsNights    RoomNights  \\\n",
       "count      82580.000000       82580.000000   82580.000000  82580.000000   \n",
       "mean           0.000642           0.798402       4.667958      2.369411   \n",
       "std            0.029725           0.696880       4.562507      2.281758   \n",
       "min            0.000000           0.000000       0.000000      0.000000   \n",
       "25%            0.000000           1.000000       1.000000      1.000000   \n",
       "50%            0.000000           1.000000       4.000000      2.000000   \n",
       "75%            0.000000           1.000000       7.000000      4.000000   \n",
       "max            3.000000          66.000000     116.000000    185.000000   \n",
       "\n",
       "       DaysSinceLastStay  DaysSinceFirstStay   SRHighFloor    SRLowFloor  \\\n",
       "count       82580.000000        82580.000000  82580.000000  82580.000000   \n",
       "mean          405.935457          408.245071      0.047518      0.001429   \n",
       "std           346.502341          347.247127      0.212744      0.037774   \n",
       "min            -1.000000           -1.000000      0.000000      0.000000   \n",
       "25%            42.000000           44.000000      0.000000      0.000000   \n",
       "50%           378.000000          388.000000      0.000000      0.000000   \n",
       "75%           698.000000          705.000000      0.000000      0.000000   \n",
       "max          1104.000000         1186.000000      1.000000      1.000000   \n",
       "\n",
       "       SRAccessibleRoom  SRMediumFloor     SRBathtub      SRShower  \\\n",
       "count      82580.000000   82580.000000  82580.000000  82580.000000   \n",
       "mean           0.000254       0.000884      0.002809      0.001732   \n",
       "std            0.015945       0.029719      0.052930      0.041577   \n",
       "min            0.000000       0.000000      0.000000      0.000000   \n",
       "25%            0.000000       0.000000      0.000000      0.000000   \n",
       "50%            0.000000       0.000000      0.000000      0.000000   \n",
       "75%            0.000000       0.000000      0.000000      0.000000   \n",
       "max            1.000000       1.000000      1.000000      1.000000   \n",
       "\n",
       "             SRCrib  SRKingSizeBed     SRTwinBed  SRNearElevator  \\\n",
       "count  82580.000000   82580.000000  82580.000000    82580.000000   \n",
       "mean       0.012812       0.351671      0.142771        0.000303   \n",
       "std        0.112463       0.477495      0.349841        0.017397   \n",
       "min        0.000000       0.000000      0.000000        0.000000   \n",
       "25%        0.000000       0.000000      0.000000        0.000000   \n",
       "50%        0.000000       0.000000      0.000000        0.000000   \n",
       "75%        0.000000       1.000000      0.000000        0.000000   \n",
       "max        1.000000       1.000000      1.000000        1.000000   \n",
       "\n",
       "       SRAwayFromElevator  SRNoAlcoholInMiniBar   SRQuietRoom  \n",
       "count        82580.000000          82580.000000  82580.000000  \n",
       "mean             0.003548              0.000121      0.088060  \n",
       "std              0.059460              0.011004      0.283384  \n",
       "min              0.000000              0.000000      0.000000  \n",
       "25%              0.000000              0.000000      0.000000  \n",
       "50%              0.000000              0.000000      0.000000  \n",
       "75%              0.000000              0.000000      0.000000  \n",
       "max              1.000000              1.000000      1.000000  "
      ]
     },
     "execution_count": 9,
     "metadata": {},
     "output_type": "execute_result"
    }
   ],
   "source": [
    "data.describe()"
   ]
  },
  {
   "cell_type": "code",
   "execution_count": 10,
   "metadata": {},
   "outputs": [
    {
     "name": "stdout",
     "output_type": "stream",
     "text": [
      "<class 'pandas.core.frame.DataFrame'>\n",
      "RangeIndex: 82580 entries, 0 to 82579\n",
      "Data columns (total 30 columns):\n",
      " #   Column                Non-Null Count  Dtype  \n",
      "---  ------                --------------  -----  \n",
      " 0   Unnamed: 0            82580 non-null  int64  \n",
      " 1   ID                    82580 non-null  int64  \n",
      " 2   Nationality           82580 non-null  object \n",
      " 3   Age                   78834 non-null  float64\n",
      " 4   DaysSinceCreation     82580 non-null  int64  \n",
      " 5   AverageLeadTime       82580 non-null  int64  \n",
      " 6   LodgingRevenue        82580 non-null  float64\n",
      " 7   OtherRevenue          82580 non-null  float64\n",
      " 8   BookingsCanceled      82580 non-null  int64  \n",
      " 9   BookingsNoShowed      82580 non-null  int64  \n",
      " 10  BookingsCheckedIn     82580 non-null  int64  \n",
      " 11  PersonsNights         82580 non-null  int64  \n",
      " 12  RoomNights            82580 non-null  int64  \n",
      " 13  DaysSinceLastStay     82580 non-null  int64  \n",
      " 14  DaysSinceFirstStay    82580 non-null  int64  \n",
      " 15  DistributionChannel   82580 non-null  object \n",
      " 16  MarketSegment         82580 non-null  object \n",
      " 17  SRHighFloor           82580 non-null  int64  \n",
      " 18  SRLowFloor            82580 non-null  int64  \n",
      " 19  SRAccessibleRoom      82580 non-null  int64  \n",
      " 20  SRMediumFloor         82580 non-null  int64  \n",
      " 21  SRBathtub             82580 non-null  int64  \n",
      " 22  SRShower              82580 non-null  int64  \n",
      " 23  SRCrib                82580 non-null  int64  \n",
      " 24  SRKingSizeBed         82580 non-null  int64  \n",
      " 25  SRTwinBed             82580 non-null  int64  \n",
      " 26  SRNearElevator        82580 non-null  int64  \n",
      " 27  SRAwayFromElevator    82580 non-null  int64  \n",
      " 28  SRNoAlcoholInMiniBar  82580 non-null  int64  \n",
      " 29  SRQuietRoom           82580 non-null  int64  \n",
      "dtypes: float64(3), int64(24), object(3)\n",
      "memory usage: 18.9+ MB\n"
     ]
    }
   ],
   "source": [
    "data.info()"
   ]
  },
  {
   "cell_type": "code",
   "execution_count": 11,
   "metadata": {},
   "outputs": [
    {
     "data": {
      "text/plain": [
       "50.0     2015\n",
       "51.0     2013\n",
       "54.0     1965\n",
       "53.0     1913\n",
       "49.0     1871\n",
       "         ... \n",
       "110.0       1\n",
       "122.0       1\n",
       "96.0        1\n",
       "109.0       1\n",
       "91.0        1\n",
       "Name: Age, Length: 105, dtype: int64"
      ]
     },
     "execution_count": 11,
     "metadata": {},
     "output_type": "execute_result"
    }
   ],
   "source": [
    "data[\"Age\"].value_counts()\n"
   ]
  },
  {
   "cell_type": "code",
   "execution_count": 12,
   "metadata": {},
   "outputs": [
    {
     "data": {
      "image/png": "[encoded data removed]",
      "text/plain": [
       "<Figure size 576x576 with 1 Axes>"
      ]
     },
     "metadata": {
      "needs_background": "light"
     },
     "output_type": "display_data"
    }
   ],
   "source": [
    "plt.figure(figsize=(8,8))\n",
    "\n",
    "sns.histplot(data['Age'],kde=True)\n",
    "plt.show()"
   ]
  },
  {
   "cell_type": "markdown",
   "metadata": {},
   "source": [
    "We can say that most of the age groups lie between 30-65.\n",
    "\n",
    "There are some outliers too like there is age which is less than 0 and there are people with age >80"
   ]
  },
  {
   "cell_type": "markdown",
   "metadata": {},
   "source": [
    "We will remove outliers and age which is less than 0"
   ]
  },
  {
   "cell_type": "code",
   "execution_count": 13,
   "metadata": {},
   "outputs": [
    {
     "data": {
      "text/plain": [
       "731"
      ]
     },
     "execution_count": 13,
     "metadata": {},
     "output_type": "execute_result"
    }
   ],
   "source": [
    "len(data[data['Age']>80])"
   ]
  },
  {
   "cell_type": "code",
   "execution_count": 14,
   "metadata": {},
   "outputs": [],
   "source": [
    "data=data[data['Age']>0]\n"
   ]
  },
  {
   "cell_type": "markdown",
   "metadata": {},
   "source": [
    "Remove the age outliers in data"
   ]
  },
  {
   "cell_type": "code",
   "execution_count": 15,
   "metadata": {},
   "outputs": [
    {
     "data": {
      "image/png": "[encoded data removed]",
      "text/plain": [
       "<Figure size 576x576 with 1 Axes>"
      ]
     },
     "metadata": {
      "needs_background": "light"
     },
     "output_type": "display_data"
    }
   ],
   "source": [
    "plt.figure(figsize=(8,8))\n",
    "\n",
    "sns.histplot(data['AverageLeadTime'],kde=True)\n",
    "plt.show()"
   ]
  },
  {
   "cell_type": "code",
   "execution_count": 16,
   "metadata": {},
   "outputs": [],
   "source": [
    "data=data[data['AverageLeadTime']>=0]"
   ]
  },
  {
   "cell_type": "markdown",
   "metadata": {},
   "source": [
    "By seeing data.describe information we can see that time value has value less than 0.Therefore removing outlier of Average lead time."
   ]
  },
  {
   "cell_type": "code",
   "execution_count": 17,
   "metadata": {},
   "outputs": [
    {
     "data": {
      "text/plain": [
       "(78768, 30)"
      ]
     },
     "execution_count": 17,
     "metadata": {},
     "output_type": "execute_result"
    }
   ],
   "source": [
    "data.shape"
   ]
  },
  {
   "cell_type": "code",
   "execution_count": 18,
   "metadata": {},
   "outputs": [
    {
     "data": {
      "text/html": [
       "<div>\n",
       "<style scoped>\n",
       "    .dataframe tbody tr th:only-of-type {\n",
       "        vertical-align: middle;\n",
       "    }\n",
       "\n",
       "    .dataframe tbody tr th {\n",
       "        vertical-align: top;\n",
       "    }\n",
       "\n",
       "    .dataframe thead th {\n",
       "        text-align: right;\n",
       "    }\n",
       "</style>\n",
       "<table border=\"1\" class=\"dataframe\">\n",
       "  <thead>\n",
       "    <tr style=\"text-align: right;\">\n",
       "      <th></th>\n",
       "      <th>Unnamed: 0</th>\n",
       "      <th>ID</th>\n",
       "      <th>Age</th>\n",
       "      <th>DaysSinceCreation</th>\n",
       "      <th>AverageLeadTime</th>\n",
       "      <th>LodgingRevenue</th>\n",
       "      <th>OtherRevenue</th>\n",
       "      <th>BookingsCanceled</th>\n",
       "      <th>BookingsNoShowed</th>\n",
       "      <th>BookingsCheckedIn</th>\n",
       "      <th>PersonsNights</th>\n",
       "      <th>RoomNights</th>\n",
       "      <th>DaysSinceLastStay</th>\n",
       "      <th>DaysSinceFirstStay</th>\n",
       "      <th>SRHighFloor</th>\n",
       "      <th>SRLowFloor</th>\n",
       "      <th>SRAccessibleRoom</th>\n",
       "      <th>SRMediumFloor</th>\n",
       "      <th>SRBathtub</th>\n",
       "      <th>SRShower</th>\n",
       "      <th>SRCrib</th>\n",
       "      <th>SRKingSizeBed</th>\n",
       "      <th>SRTwinBed</th>\n",
       "      <th>SRNearElevator</th>\n",
       "      <th>SRAwayFromElevator</th>\n",
       "      <th>SRNoAlcoholInMiniBar</th>\n",
       "      <th>SRQuietRoom</th>\n",
       "    </tr>\n",
       "  </thead>\n",
       "  <tbody>\n",
       "    <tr>\n",
       "      <th>count</th>\n",
       "      <td>78768.000000</td>\n",
       "      <td>78768.000000</td>\n",
       "      <td>78768.000000</td>\n",
       "      <td>78768.000000</td>\n",
       "      <td>78768.000000</td>\n",
       "      <td>78768.000000</td>\n",
       "      <td>78768.000000</td>\n",
       "      <td>78768.000000</td>\n",
       "      <td>78768.000000</td>\n",
       "      <td>78768.000000</td>\n",
       "      <td>78768.000000</td>\n",
       "      <td>78768.000000</td>\n",
       "      <td>78768.000000</td>\n",
       "      <td>78768.000000</td>\n",
       "      <td>78768.000000</td>\n",
       "      <td>78768.000000</td>\n",
       "      <td>78768.000000</td>\n",
       "      <td>78768.000000</td>\n",
       "      <td>78768.000000</td>\n",
       "      <td>78768.000000</td>\n",
       "      <td>78768.000000</td>\n",
       "      <td>78768.000000</td>\n",
       "      <td>78768.000000</td>\n",
       "      <td>78768.000000</td>\n",
       "      <td>78768.000000</td>\n",
       "      <td>78768.000000</td>\n",
       "      <td>78768.000000</td>\n",
       "    </tr>\n",
       "    <tr>\n",
       "      <th>mean</th>\n",
       "      <td>41809.464529</td>\n",
       "      <td>41810.464529</td>\n",
       "      <td>45.502844</td>\n",
       "      <td>452.085809</td>\n",
       "      <td>67.192540</td>\n",
       "      <td>304.002909</td>\n",
       "      <td>68.289998</td>\n",
       "      <td>0.001866</td>\n",
       "      <td>0.000584</td>\n",
       "      <td>0.796999</td>\n",
       "      <td>4.719975</td>\n",
       "      <td>2.388572</td>\n",
       "      <td>399.307917</td>\n",
       "      <td>401.529847</td>\n",
       "      <td>0.048357</td>\n",
       "      <td>0.001473</td>\n",
       "      <td>0.000241</td>\n",
       "      <td>0.000889</td>\n",
       "      <td>0.002882</td>\n",
       "      <td>0.001803</td>\n",
       "      <td>0.012657</td>\n",
       "      <td>0.356261</td>\n",
       "      <td>0.143751</td>\n",
       "      <td>0.000317</td>\n",
       "      <td>0.003618</td>\n",
       "      <td>0.000127</td>\n",
       "      <td>0.090659</td>\n",
       "    </tr>\n",
       "    <tr>\n",
       "      <th>std</th>\n",
       "      <td>23719.045885</td>\n",
       "      <td>23719.045885</td>\n",
       "      <td>16.482405</td>\n",
       "      <td>308.530324</td>\n",
       "      <td>88.154436</td>\n",
       "      <td>368.500788</td>\n",
       "      <td>112.809760</td>\n",
       "      <td>0.066347</td>\n",
       "      <td>0.028499</td>\n",
       "      <td>0.691590</td>\n",
       "      <td>4.582284</td>\n",
       "      <td>2.195950</td>\n",
       "      <td>342.944640</td>\n",
       "      <td>343.666935</td>\n",
       "      <td>0.214521</td>\n",
       "      <td>0.038347</td>\n",
       "      <td>0.015529</td>\n",
       "      <td>0.029798</td>\n",
       "      <td>0.053606</td>\n",
       "      <td>0.042421</td>\n",
       "      <td>0.111792</td>\n",
       "      <td>0.478897</td>\n",
       "      <td>0.350840</td>\n",
       "      <td>0.017813</td>\n",
       "      <td>0.060043</td>\n",
       "      <td>0.011267</td>\n",
       "      <td>0.287125</td>\n",
       "    </tr>\n",
       "    <tr>\n",
       "      <th>min</th>\n",
       "      <td>0.000000</td>\n",
       "      <td>1.000000</td>\n",
       "      <td>1.000000</td>\n",
       "      <td>12.000000</td>\n",
       "      <td>0.000000</td>\n",
       "      <td>0.000000</td>\n",
       "      <td>0.000000</td>\n",
       "      <td>0.000000</td>\n",
       "      <td>0.000000</td>\n",
       "      <td>0.000000</td>\n",
       "      <td>0.000000</td>\n",
       "      <td>0.000000</td>\n",
       "      <td>-1.000000</td>\n",
       "      <td>-1.000000</td>\n",
       "      <td>0.000000</td>\n",
       "      <td>0.000000</td>\n",
       "      <td>0.000000</td>\n",
       "      <td>0.000000</td>\n",
       "      <td>0.000000</td>\n",
       "      <td>0.000000</td>\n",
       "      <td>0.000000</td>\n",
       "      <td>0.000000</td>\n",
       "      <td>0.000000</td>\n",
       "      <td>0.000000</td>\n",
       "      <td>0.000000</td>\n",
       "      <td>0.000000</td>\n",
       "      <td>0.000000</td>\n",
       "    </tr>\n",
       "    <tr>\n",
       "      <th>25%</th>\n",
       "      <td>21426.750000</td>\n",
       "      <td>21427.750000</td>\n",
       "      <td>34.000000</td>\n",
       "      <td>179.000000</td>\n",
       "      <td>0.000000</td>\n",
       "      <td>69.000000</td>\n",
       "      <td>2.000000</td>\n",
       "      <td>0.000000</td>\n",
       "      <td>0.000000</td>\n",
       "      <td>1.000000</td>\n",
       "      <td>1.000000</td>\n",
       "      <td>1.000000</td>\n",
       "      <td>40.000000</td>\n",
       "      <td>42.000000</td>\n",
       "      <td>0.000000</td>\n",
       "      <td>0.000000</td>\n",
       "      <td>0.000000</td>\n",
       "      <td>0.000000</td>\n",
       "      <td>0.000000</td>\n",
       "      <td>0.000000</td>\n",
       "      <td>0.000000</td>\n",
       "      <td>0.000000</td>\n",
       "      <td>0.000000</td>\n",
       "      <td>0.000000</td>\n",
       "      <td>0.000000</td>\n",
       "      <td>0.000000</td>\n",
       "      <td>0.000000</td>\n",
       "    </tr>\n",
       "    <tr>\n",
       "      <th>50%</th>\n",
       "      <td>41860.500000</td>\n",
       "      <td>41861.500000</td>\n",
       "      <td>46.000000</td>\n",
       "      <td>395.000000</td>\n",
       "      <td>31.000000</td>\n",
       "      <td>237.600000</td>\n",
       "      <td>40.500000</td>\n",
       "      <td>0.000000</td>\n",
       "      <td>0.000000</td>\n",
       "      <td>1.000000</td>\n",
       "      <td>4.000000</td>\n",
       "      <td>2.000000</td>\n",
       "      <td>365.000000</td>\n",
       "      <td>369.000000</td>\n",
       "      <td>0.000000</td>\n",
       "      <td>0.000000</td>\n",
       "      <td>0.000000</td>\n",
       "      <td>0.000000</td>\n",
       "      <td>0.000000</td>\n",
       "      <td>0.000000</td>\n",
       "      <td>0.000000</td>\n",
       "      <td>0.000000</td>\n",
       "      <td>0.000000</td>\n",
       "      <td>0.000000</td>\n",
       "      <td>0.000000</td>\n",
       "      <td>0.000000</td>\n",
       "      <td>0.000000</td>\n",
       "    </tr>\n",
       "    <tr>\n",
       "      <th>75%</th>\n",
       "      <td>62408.250000</td>\n",
       "      <td>62409.250000</td>\n",
       "      <td>57.000000</td>\n",
       "      <td>709.000000</td>\n",
       "      <td>105.000000</td>\n",
       "      <td>409.200000</td>\n",
       "      <td>89.000000</td>\n",
       "      <td>0.000000</td>\n",
       "      <td>0.000000</td>\n",
       "      <td>1.000000</td>\n",
       "      <td>8.000000</td>\n",
       "      <td>4.000000</td>\n",
       "      <td>683.000000</td>\n",
       "      <td>686.000000</td>\n",
       "      <td>0.000000</td>\n",
       "      <td>0.000000</td>\n",
       "      <td>0.000000</td>\n",
       "      <td>0.000000</td>\n",
       "      <td>0.000000</td>\n",
       "      <td>0.000000</td>\n",
       "      <td>0.000000</td>\n",
       "      <td>1.000000</td>\n",
       "      <td>0.000000</td>\n",
       "      <td>0.000000</td>\n",
       "      <td>0.000000</td>\n",
       "      <td>0.000000</td>\n",
       "      <td>0.000000</td>\n",
       "    </tr>\n",
       "    <tr>\n",
       "      <th>max</th>\n",
       "      <td>82579.000000</td>\n",
       "      <td>82580.000000</td>\n",
       "      <td>122.000000</td>\n",
       "      <td>1095.000000</td>\n",
       "      <td>588.000000</td>\n",
       "      <td>9682.400000</td>\n",
       "      <td>7730.250000</td>\n",
       "      <td>9.000000</td>\n",
       "      <td>3.000000</td>\n",
       "      <td>66.000000</td>\n",
       "      <td>116.000000</td>\n",
       "      <td>116.000000</td>\n",
       "      <td>1104.000000</td>\n",
       "      <td>1117.000000</td>\n",
       "      <td>1.000000</td>\n",
       "      <td>1.000000</td>\n",
       "      <td>1.000000</td>\n",
       "      <td>1.000000</td>\n",
       "      <td>1.000000</td>\n",
       "      <td>1.000000</td>\n",
       "      <td>1.000000</td>\n",
       "      <td>1.000000</td>\n",
       "      <td>1.000000</td>\n",
       "      <td>1.000000</td>\n",
       "      <td>1.000000</td>\n",
       "      <td>1.000000</td>\n",
       "      <td>1.000000</td>\n",
       "    </tr>\n",
       "  </tbody>\n",
       "</table>\n",
       "</div>"
      ],
      "text/plain": [
       "         Unnamed: 0            ID           Age  DaysSinceCreation  \\\n",
       "count  78768.000000  78768.000000  78768.000000       78768.000000   \n",
       "mean   41809.464529  41810.464529     45.502844         452.085809   \n",
       "std    23719.045885  23719.045885     16.482405         308.530324   \n",
       "min        0.000000      1.000000      1.000000          12.000000   \n",
       "25%    21426.750000  21427.750000     34.000000         179.000000   \n",
       "50%    41860.500000  41861.500000     46.000000         395.000000   \n",
       "75%    62408.250000  62409.250000     57.000000         709.000000   \n",
       "max    82579.000000  82580.000000    122.000000        1095.000000   \n",
       "\n",
       "       AverageLeadTime  LodgingRevenue  OtherRevenue  BookingsCanceled  \\\n",
       "count     78768.000000    78768.000000  78768.000000      78768.000000   \n",
       "mean         67.192540      304.002909     68.289998          0.001866   \n",
       "std          88.154436      368.500788    112.809760          0.066347   \n",
       "min           0.000000        0.000000      0.000000          0.000000   \n",
       "25%           0.000000       69.000000      2.000000          0.000000   \n",
       "50%          31.000000      237.600000     40.500000          0.000000   \n",
       "75%         105.000000      409.200000     89.000000          0.000000   \n",
       "max         588.000000     9682.400000   7730.250000          9.000000   \n",
       "\n",
       "       BookingsNoShowed  BookingsCheckedIn  PersonsNights    RoomNights  \\\n",
       "count      78768.000000       78768.000000   78768.000000  78768.000000   \n",
       "mean           0.000584           0.796999       4.719975      2.388572   \n",
       "std            0.028499           0.691590       4.582284      2.195950   \n",
       "min            0.000000           0.000000       0.000000      0.000000   \n",
       "25%            0.000000           1.000000       1.000000      1.000000   \n",
       "50%            0.000000           1.000000       4.000000      2.000000   \n",
       "75%            0.000000           1.000000       8.000000      4.000000   \n",
       "max            3.000000          66.000000     116.000000    116.000000   \n",
       "\n",
       "       DaysSinceLastStay  DaysSinceFirstStay   SRHighFloor    SRLowFloor  \\\n",
       "count       78768.000000        78768.000000  78768.000000  78768.000000   \n",
       "mean          399.307917          401.529847      0.048357      0.001473   \n",
       "std           342.944640          343.666935      0.214521      0.038347   \n",
       "min            -1.000000           -1.000000      0.000000      0.000000   \n",
       "25%            40.000000           42.000000      0.000000      0.000000   \n",
       "50%           365.000000          369.000000      0.000000      0.000000   \n",
       "75%           683.000000          686.000000      0.000000      0.000000   \n",
       "max          1104.000000         1117.000000      1.000000      1.000000   \n",
       "\n",
       "       SRAccessibleRoom  SRMediumFloor     SRBathtub      SRShower  \\\n",
       "count      78768.000000   78768.000000  78768.000000  78768.000000   \n",
       "mean           0.000241       0.000889      0.002882      0.001803   \n",
       "std            0.015529       0.029798      0.053606      0.042421   \n",
       "min            0.000000       0.000000      0.000000      0.000000   \n",
       "25%            0.000000       0.000000      0.000000      0.000000   \n",
       "50%            0.000000       0.000000      0.000000      0.000000   \n",
       "75%            0.000000       0.000000      0.000000      0.000000   \n",
       "max            1.000000       1.000000      1.000000      1.000000   \n",
       "\n",
       "             SRCrib  SRKingSizeBed     SRTwinBed  SRNearElevator  \\\n",
       "count  78768.000000   78768.000000  78768.000000    78768.000000   \n",
       "mean       0.012657       0.356261      0.143751        0.000317   \n",
       "std        0.111792       0.478897      0.350840        0.017813   \n",
       "min        0.000000       0.000000      0.000000        0.000000   \n",
       "25%        0.000000       0.000000      0.000000        0.000000   \n",
       "50%        0.000000       0.000000      0.000000        0.000000   \n",
       "75%        0.000000       1.000000      0.000000        0.000000   \n",
       "max        1.000000       1.000000      1.000000        1.000000   \n",
       "\n",
       "       SRAwayFromElevator  SRNoAlcoholInMiniBar   SRQuietRoom  \n",
       "count        78768.000000          78768.000000  78768.000000  \n",
       "mean             0.003618              0.000127      0.090659  \n",
       "std              0.060043              0.011267      0.287125  \n",
       "min              0.000000              0.000000      0.000000  \n",
       "25%              0.000000              0.000000      0.000000  \n",
       "50%              0.000000              0.000000      0.000000  \n",
       "75%              0.000000              0.000000      0.000000  \n",
       "max              1.000000              1.000000      1.000000  "
      ]
     },
     "execution_count": 18,
     "metadata": {},
     "output_type": "execute_result"
    }
   ],
   "source": [
    "data.describe()"
   ]
  },
  {
   "cell_type": "markdown",
   "metadata": {},
   "source": [
    "After removing outliers we can see that there is no negative values in age section and average lead time section"
   ]
  },
  {
   "cell_type": "code",
   "execution_count": 19,
   "metadata": {},
   "outputs": [
    {
     "data": {
      "text/plain": [
       "0"
      ]
     },
     "execution_count": 19,
     "metadata": {},
     "output_type": "execute_result"
    }
   ],
   "source": [
    "data.duplicated().sum()"
   ]
  },
  {
   "cell_type": "markdown",
   "metadata": {},
   "source": [
    "There is no duplicated values in the data"
   ]
  },
  {
   "cell_type": "code",
   "execution_count": 20,
   "metadata": {},
   "outputs": [
    {
     "data": {
      "text/plain": [
       "Index(['FRA', 'DEU', 'GBR', 'PRT', 'ESP', 'USA', 'ITA', 'BEL', 'BRA', 'NLD',\n",
       "       ...\n",
       "       'BHS', 'JEY', 'TMP', 'TON', 'TKM', 'VIR', 'GIN', 'FLK', 'PCN', 'LCA'],\n",
       "      dtype='object', length=187)"
      ]
     },
     "execution_count": 20,
     "metadata": {},
     "output_type": "execute_result"
    }
   ],
   "source": [
    "data['Nationality'].value_counts().index"
   ]
  },
  {
   "cell_type": "markdown",
   "metadata": {},
   "source": [
    "There are 188 countries in our dataset and here are the below top 20 countries whose peope made more booking. "
   ]
  },
  {
   "cell_type": "code",
   "execution_count": 21,
   "metadata": {},
   "outputs": [
    {
     "data": {
      "image/png": "[encoded data removed]",
      "text/plain": [
       "<Figure size 576x576 with 1 Axes>"
      ]
     },
     "metadata": {
      "needs_background": "light"
     },
     "output_type": "display_data"
    }
   ],
   "source": [
    "plt.figure(figsize=(8,8))\n",
    "sns.barplot(y=data['Nationality'].value_counts().index[:20],x=data['Nationality'].value_counts().values[:20],data=data)\n",
    "plt.xlabel('Count of Persons from differnet country')\n",
    "plt.ylabel('Countries')\n",
    "plt.title(\"Top 20 Countries\")\n",
    "plt.show()"
   ]
  },
  {
   "cell_type": "markdown",
   "metadata": {},
   "source": [
    "We can say that contries FRA and PRT made more bookings.\n",
    "\n"
   ]
  },
  {
   "cell_type": "code",
   "execution_count": 22,
   "metadata": {},
   "outputs": [],
   "source": [
    "values=data['MarketSegment'].value_counts().values"
   ]
  },
  {
   "cell_type": "code",
   "execution_count": 23,
   "metadata": {},
   "outputs": [],
   "source": [
    "labels=data['MarketSegment'].value_counts().index"
   ]
  },
  {
   "cell_type": "code",
   "execution_count": 24,
   "metadata": {},
   "outputs": [
    {
     "data": {
      "image/png": "[encoded data removed]",
      "text/plain": [
       "<Figure size 576x576 with 1 Axes>"
      ]
     },
     "metadata": {},
     "output_type": "display_data"
    }
   ],
   "source": [
    "plt.figure(figsize=(8,8))\n",
    "data1=values\n",
    "keys=labels\n",
    "explode = [0.1, 0.1, 0.1, 0.1, 0.1,0.1,0.1]\n",
    "\n",
    "palette_color = sns.color_palette('dark')\n",
    "\n",
    "plt.pie(data1, labels=keys, colors=palette_color,\n",
    "        explode=explode, autopct='%.0f%%')\n",
    "\n",
    "plt.show()"
   ]
  },
  {
   "cell_type": "markdown",
   "metadata": {},
   "source": [
    "As we can see that market major segment is shared by other which is 58% and then travel/agent operator"
   ]
  },
  {
   "cell_type": "code",
   "execution_count": 25,
   "metadata": {},
   "outputs": [],
   "source": [
    "values=data['DistributionChannel'].value_counts().values\n",
    "labels=data['DistributionChannel'].value_counts().index"
   ]
  },
  {
   "cell_type": "code",
   "execution_count": 26,
   "metadata": {},
   "outputs": [
    {
     "data": {
      "image/png": "[encoded data removed]",
      "text/plain": [
       "<Figure size 576x576 with 1 Axes>"
      ]
     },
     "metadata": {},
     "output_type": "display_data"
    }
   ],
   "source": [
    "plt.figure(figsize=(8,8))\n",
    "data1=values\n",
    "keys=labels\n",
    "explode = [0.1, 0.1, 0.1, 0.1]\n",
    "\n",
    "palette_color = sns.color_palette('dark')\n",
    "  \n",
    "\n",
    "plt.pie(data1, labels=keys, colors=palette_color,\n",
    "        explode=explode, autopct='%.0f%%')\n",
    "  \n",
    "\n",
    "plt.show()"
   ]
  },
  {
   "cell_type": "markdown",
   "metadata": {},
   "source": [
    "As we can see that distribution channel is shared by Travel Agent/Operator which is 82% and then by Direct"
   ]
  },
  {
   "cell_type": "markdown",
   "metadata": {},
   "source": [
    "In the below cell I have taken all the binary columns into list called binary_columns and do the analysis on it."
   ]
  },
  {
   "cell_type": "code",
   "execution_count": 27,
   "metadata": {},
   "outputs": [],
   "source": [
    "binary_columns=['SRHighFloor', 'SRLowFloor', 'SRAccessibleRoom',\n",
    "       'SRMediumFloor', 'SRBathtub', 'SRShower', 'SRCrib', 'SRKingSizeBed',\n",
    "       'SRTwinBed', 'SRNearElevator', 'SRAwayFromElevator',\n",
    "       'SRNoAlcoholInMiniBar', 'SRQuietRoom']"
   ]
  },
  {
   "cell_type": "code",
   "execution_count": 28,
   "metadata": {},
   "outputs": [
    {
     "data": {
      "image/png": "[encoded data removed]",
      "text/plain": [
       "<Figure size 1008x1008 with 15 Axes>"
      ]
     },
     "metadata": {
      "needs_background": "light"
     },
     "output_type": "display_data"
    }
   ],
   "source": [
    "fig,ax=plt.subplots(3,5,sharex=True,sharey=True,figsize=(14,14))\n",
    "ax=ax.reshape(-1)\n",
    "for i,j in enumerate (binary_columns):\n",
    "    sns.countplot(x=data[j],data=data,ax=ax[i])\n",
    "plt.show()"
   ]
  },
  {
   "cell_type": "markdown",
   "metadata": {},
   "source": [
    "From the above graphs we can say that people would like to live in rooms which is situated on high floor, which has king size bed,which has twin be. Most people also like quiet room too"
   ]
  },
  {
   "cell_type": "code",
   "execution_count": 29,
   "metadata": {},
   "outputs": [
    {
     "data": {
      "image/png": "[encoded data removed]",
      "text/plain": [
       "<Figure size 432x288 with 1 Axes>"
      ]
     },
     "metadata": {
      "needs_background": "light"
     },
     "output_type": "display_data"
    }
   ],
   "source": [
    "sns.histplot(x=data['PersonsNights'],data=data,kde=True)\n",
    "plt.show()"
   ]
  },
  {
   "cell_type": "code",
   "execution_count": 30,
   "metadata": {},
   "outputs": [
    {
     "data": {
      "image/png": "[encoded data removed]",
      "text/plain": [
       "<Figure size 432x288 with 1 Axes>"
      ]
     },
     "metadata": {
      "needs_background": "light"
     },
     "output_type": "display_data"
    }
   ],
   "source": [
    "sns.histplot(x=data['RoomNights'],data=data,kde=True)\n",
    "plt.show()"
   ]
  },
  {
   "cell_type": "code",
   "execution_count": 31,
   "metadata": {},
   "outputs": [
    {
     "data": {
      "image/png": "[encoded data removed]",
      "text/plain": [
       "<Figure size 432x288 with 1 Axes>"
      ]
     },
     "metadata": {
      "needs_background": "light"
     },
     "output_type": "display_data"
    }
   ],
   "source": [
    "sns.histplot(x=data['DaysSinceFirstStay'],data=data,kde=True)\n",
    "plt.show()"
   ]
  },
  {
   "cell_type": "code",
   "execution_count": 32,
   "metadata": {},
   "outputs": [
    {
     "data": {
      "image/png": "[encoded data removed]",
      "text/plain": [
       "<Figure size 432x288 with 1 Axes>"
      ]
     },
     "metadata": {
      "needs_background": "light"
     },
     "output_type": "display_data"
    }
   ],
   "source": [
    "sns.histplot(x=data['DaysSinceLastStay'],data=data,kde=True)\n",
    "plt.show()"
   ]
  },
  {
   "cell_type": "code",
   "execution_count": 33,
   "metadata": {},
   "outputs": [
    {
     "name": "stdout",
     "output_type": "stream",
     "text": [
      "(78768, 30)\n"
     ]
    }
   ],
   "source": [
    "print(data.shape)"
   ]
  },
  {
   "cell_type": "code",
   "execution_count": 34,
   "metadata": {},
   "outputs": [
    {
     "data": {
      "text/html": [
       "<div>\n",
       "<style scoped>\n",
       "    .dataframe tbody tr th:only-of-type {\n",
       "        vertical-align: middle;\n",
       "    }\n",
       "\n",
       "    .dataframe tbody tr th {\n",
       "        vertical-align: top;\n",
       "    }\n",
       "\n",
       "    .dataframe thead th {\n",
       "        text-align: right;\n",
       "    }\n",
       "</style>\n",
       "<table border=\"1\" class=\"dataframe\">\n",
       "  <thead>\n",
       "    <tr style=\"text-align: right;\">\n",
       "      <th></th>\n",
       "      <th>Unnamed: 0</th>\n",
       "      <th>ID</th>\n",
       "      <th>Nationality</th>\n",
       "      <th>Age</th>\n",
       "      <th>DaysSinceCreation</th>\n",
       "      <th>AverageLeadTime</th>\n",
       "      <th>LodgingRevenue</th>\n",
       "      <th>OtherRevenue</th>\n",
       "      <th>BookingsCanceled</th>\n",
       "      <th>BookingsNoShowed</th>\n",
       "      <th>BookingsCheckedIn</th>\n",
       "      <th>PersonsNights</th>\n",
       "      <th>RoomNights</th>\n",
       "      <th>DaysSinceLastStay</th>\n",
       "      <th>DaysSinceFirstStay</th>\n",
       "      <th>DistributionChannel</th>\n",
       "      <th>MarketSegment</th>\n",
       "      <th>SRHighFloor</th>\n",
       "      <th>SRLowFloor</th>\n",
       "      <th>SRAccessibleRoom</th>\n",
       "      <th>SRMediumFloor</th>\n",
       "      <th>SRBathtub</th>\n",
       "      <th>SRShower</th>\n",
       "      <th>SRCrib</th>\n",
       "      <th>SRKingSizeBed</th>\n",
       "      <th>SRTwinBed</th>\n",
       "      <th>SRNearElevator</th>\n",
       "      <th>SRAwayFromElevator</th>\n",
       "      <th>SRNoAlcoholInMiniBar</th>\n",
       "      <th>SRQuietRoom</th>\n",
       "    </tr>\n",
       "  </thead>\n",
       "  <tbody>\n",
       "    <tr>\n",
       "      <th>0</th>\n",
       "      <td>0</td>\n",
       "      <td>1</td>\n",
       "      <td>PRT</td>\n",
       "      <td>51.0</td>\n",
       "      <td>150</td>\n",
       "      <td>45</td>\n",
       "      <td>371.0</td>\n",
       "      <td>105.3</td>\n",
       "      <td>1</td>\n",
       "      <td>0</td>\n",
       "      <td>3</td>\n",
       "      <td>8</td>\n",
       "      <td>5</td>\n",
       "      <td>151</td>\n",
       "      <td>1074</td>\n",
       "      <td>Corporate</td>\n",
       "      <td>Corporate</td>\n",
       "      <td>0</td>\n",
       "      <td>0</td>\n",
       "      <td>0</td>\n",
       "      <td>0</td>\n",
       "      <td>0</td>\n",
       "      <td>0</td>\n",
       "      <td>0</td>\n",
       "      <td>0</td>\n",
       "      <td>0</td>\n",
       "      <td>0</td>\n",
       "      <td>0</td>\n",
       "      <td>0</td>\n",
       "      <td>0</td>\n",
       "    </tr>\n",
       "    <tr>\n",
       "      <th>2</th>\n",
       "      <td>2</td>\n",
       "      <td>3</td>\n",
       "      <td>DEU</td>\n",
       "      <td>31.0</td>\n",
       "      <td>1095</td>\n",
       "      <td>0</td>\n",
       "      <td>0.0</td>\n",
       "      <td>0.0</td>\n",
       "      <td>0</td>\n",
       "      <td>0</td>\n",
       "      <td>0</td>\n",
       "      <td>0</td>\n",
       "      <td>0</td>\n",
       "      <td>-1</td>\n",
       "      <td>-1</td>\n",
       "      <td>Travel Agent/Operator</td>\n",
       "      <td>Travel Agent/Operator</td>\n",
       "      <td>0</td>\n",
       "      <td>0</td>\n",
       "      <td>0</td>\n",
       "      <td>0</td>\n",
       "      <td>0</td>\n",
       "      <td>0</td>\n",
       "      <td>0</td>\n",
       "      <td>0</td>\n",
       "      <td>0</td>\n",
       "      <td>0</td>\n",
       "      <td>0</td>\n",
       "      <td>0</td>\n",
       "      <td>0</td>\n",
       "    </tr>\n",
       "    <tr>\n",
       "      <th>3</th>\n",
       "      <td>3</td>\n",
       "      <td>4</td>\n",
       "      <td>FRA</td>\n",
       "      <td>60.0</td>\n",
       "      <td>1095</td>\n",
       "      <td>93</td>\n",
       "      <td>240.0</td>\n",
       "      <td>60.0</td>\n",
       "      <td>0</td>\n",
       "      <td>0</td>\n",
       "      <td>1</td>\n",
       "      <td>10</td>\n",
       "      <td>5</td>\n",
       "      <td>1100</td>\n",
       "      <td>1100</td>\n",
       "      <td>Travel Agent/Operator</td>\n",
       "      <td>Travel Agent/Operator</td>\n",
       "      <td>0</td>\n",
       "      <td>0</td>\n",
       "      <td>0</td>\n",
       "      <td>0</td>\n",
       "      <td>0</td>\n",
       "      <td>0</td>\n",
       "      <td>0</td>\n",
       "      <td>0</td>\n",
       "      <td>0</td>\n",
       "      <td>0</td>\n",
       "      <td>0</td>\n",
       "      <td>0</td>\n",
       "      <td>0</td>\n",
       "    </tr>\n",
       "    <tr>\n",
       "      <th>4</th>\n",
       "      <td>4</td>\n",
       "      <td>5</td>\n",
       "      <td>FRA</td>\n",
       "      <td>51.0</td>\n",
       "      <td>1095</td>\n",
       "      <td>0</td>\n",
       "      <td>0.0</td>\n",
       "      <td>0.0</td>\n",
       "      <td>0</td>\n",
       "      <td>0</td>\n",
       "      <td>0</td>\n",
       "      <td>0</td>\n",
       "      <td>0</td>\n",
       "      <td>-1</td>\n",
       "      <td>-1</td>\n",
       "      <td>Travel Agent/Operator</td>\n",
       "      <td>Travel Agent/Operator</td>\n",
       "      <td>0</td>\n",
       "      <td>0</td>\n",
       "      <td>0</td>\n",
       "      <td>0</td>\n",
       "      <td>0</td>\n",
       "      <td>0</td>\n",
       "      <td>0</td>\n",
       "      <td>0</td>\n",
       "      <td>0</td>\n",
       "      <td>0</td>\n",
       "      <td>0</td>\n",
       "      <td>0</td>\n",
       "      <td>0</td>\n",
       "    </tr>\n",
       "    <tr>\n",
       "      <th>5</th>\n",
       "      <td>5</td>\n",
       "      <td>6</td>\n",
       "      <td>JPN</td>\n",
       "      <td>54.0</td>\n",
       "      <td>1095</td>\n",
       "      <td>58</td>\n",
       "      <td>230.0</td>\n",
       "      <td>24.0</td>\n",
       "      <td>0</td>\n",
       "      <td>0</td>\n",
       "      <td>1</td>\n",
       "      <td>4</td>\n",
       "      <td>2</td>\n",
       "      <td>1097</td>\n",
       "      <td>1097</td>\n",
       "      <td>Travel Agent/Operator</td>\n",
       "      <td>Other</td>\n",
       "      <td>0</td>\n",
       "      <td>0</td>\n",
       "      <td>0</td>\n",
       "      <td>0</td>\n",
       "      <td>0</td>\n",
       "      <td>0</td>\n",
       "      <td>0</td>\n",
       "      <td>0</td>\n",
       "      <td>0</td>\n",
       "      <td>0</td>\n",
       "      <td>0</td>\n",
       "      <td>0</td>\n",
       "      <td>0</td>\n",
       "    </tr>\n",
       "  </tbody>\n",
       "</table>\n",
       "</div>"
      ],
      "text/plain": [
       "   Unnamed: 0  ID Nationality   Age  DaysSinceCreation  AverageLeadTime  \\\n",
       "0           0   1         PRT  51.0                150               45   \n",
       "2           2   3         DEU  31.0               1095                0   \n",
       "3           3   4         FRA  60.0               1095               93   \n",
       "4           4   5         FRA  51.0               1095                0   \n",
       "5           5   6         JPN  54.0               1095               58   \n",
       "\n",
       "   LodgingRevenue  OtherRevenue  BookingsCanceled  BookingsNoShowed  \\\n",
       "0           371.0         105.3                 1                 0   \n",
       "2             0.0           0.0                 0                 0   \n",
       "3           240.0          60.0                 0                 0   \n",
       "4             0.0           0.0                 0                 0   \n",
       "5           230.0          24.0                 0                 0   \n",
       "\n",
       "   BookingsCheckedIn  PersonsNights  RoomNights  DaysSinceLastStay  \\\n",
       "0                  3              8           5                151   \n",
       "2                  0              0           0                 -1   \n",
       "3                  1             10           5               1100   \n",
       "4                  0              0           0                 -1   \n",
       "5                  1              4           2               1097   \n",
       "\n",
       "   DaysSinceFirstStay    DistributionChannel          MarketSegment  \\\n",
       "0                1074              Corporate              Corporate   \n",
       "2                  -1  Travel Agent/Operator  Travel Agent/Operator   \n",
       "3                1100  Travel Agent/Operator  Travel Agent/Operator   \n",
       "4                  -1  Travel Agent/Operator  Travel Agent/Operator   \n",
       "5                1097  Travel Agent/Operator                  Other   \n",
       "\n",
       "   SRHighFloor  SRLowFloor  SRAccessibleRoom  SRMediumFloor  SRBathtub  \\\n",
       "0            0           0                 0              0          0   \n",
       "2            0           0                 0              0          0   \n",
       "3            0           0                 0              0          0   \n",
       "4            0           0                 0              0          0   \n",
       "5            0           0                 0              0          0   \n",
       "\n",
       "   SRShower  SRCrib  SRKingSizeBed  SRTwinBed  SRNearElevator  \\\n",
       "0         0       0              0          0               0   \n",
       "2         0       0              0          0               0   \n",
       "3         0       0              0          0               0   \n",
       "4         0       0              0          0               0   \n",
       "5         0       0              0          0               0   \n",
       "\n",
       "   SRAwayFromElevator  SRNoAlcoholInMiniBar  SRQuietRoom  \n",
       "0                   0                     0            0  \n",
       "2                   0                     0            0  \n",
       "3                   0                     0            0  \n",
       "4                   0                     0            0  \n",
       "5                   0                     0            0  "
      ]
     },
     "execution_count": 34,
     "metadata": {},
     "output_type": "execute_result"
    }
   ],
   "source": [
    "data.head()"
   ]
  },
  {
   "cell_type": "code",
   "execution_count": 35,
   "metadata": {},
   "outputs": [],
   "source": [
    "dummy_column_distribution=pd.get_dummies(data['DistributionChannel'])"
   ]
  },
  {
   "cell_type": "code",
   "execution_count": 36,
   "metadata": {},
   "outputs": [
    {
     "data": {
      "text/html": [
       "<div>\n",
       "<style scoped>\n",
       "    .dataframe tbody tr th:only-of-type {\n",
       "        vertical-align: middle;\n",
       "    }\n",
       "\n",
       "    .dataframe tbody tr th {\n",
       "        vertical-align: top;\n",
       "    }\n",
       "\n",
       "    .dataframe thead th {\n",
       "        text-align: right;\n",
       "    }\n",
       "</style>\n",
       "<table border=\"1\" class=\"dataframe\">\n",
       "  <thead>\n",
       "    <tr style=\"text-align: right;\">\n",
       "      <th></th>\n",
       "      <th>Corporate</th>\n",
       "      <th>Direct</th>\n",
       "      <th>Electronic Distribution</th>\n",
       "      <th>Travel Agent/Operator</th>\n",
       "    </tr>\n",
       "  </thead>\n",
       "  <tbody>\n",
       "    <tr>\n",
       "      <th>0</th>\n",
       "      <td>1</td>\n",
       "      <td>0</td>\n",
       "      <td>0</td>\n",
       "      <td>0</td>\n",
       "    </tr>\n",
       "    <tr>\n",
       "      <th>2</th>\n",
       "      <td>0</td>\n",
       "      <td>0</td>\n",
       "      <td>0</td>\n",
       "      <td>1</td>\n",
       "    </tr>\n",
       "    <tr>\n",
       "      <th>3</th>\n",
       "      <td>0</td>\n",
       "      <td>0</td>\n",
       "      <td>0</td>\n",
       "      <td>1</td>\n",
       "    </tr>\n",
       "    <tr>\n",
       "      <th>4</th>\n",
       "      <td>0</td>\n",
       "      <td>0</td>\n",
       "      <td>0</td>\n",
       "      <td>1</td>\n",
       "    </tr>\n",
       "    <tr>\n",
       "      <th>5</th>\n",
       "      <td>0</td>\n",
       "      <td>0</td>\n",
       "      <td>0</td>\n",
       "      <td>1</td>\n",
       "    </tr>\n",
       "    <tr>\n",
       "      <th>...</th>\n",
       "      <td>...</td>\n",
       "      <td>...</td>\n",
       "      <td>...</td>\n",
       "      <td>...</td>\n",
       "    </tr>\n",
       "    <tr>\n",
       "      <th>82574</th>\n",
       "      <td>0</td>\n",
       "      <td>0</td>\n",
       "      <td>0</td>\n",
       "      <td>1</td>\n",
       "    </tr>\n",
       "    <tr>\n",
       "      <th>82575</th>\n",
       "      <td>0</td>\n",
       "      <td>0</td>\n",
       "      <td>0</td>\n",
       "      <td>1</td>\n",
       "    </tr>\n",
       "    <tr>\n",
       "      <th>82576</th>\n",
       "      <td>0</td>\n",
       "      <td>0</td>\n",
       "      <td>0</td>\n",
       "      <td>1</td>\n",
       "    </tr>\n",
       "    <tr>\n",
       "      <th>82577</th>\n",
       "      <td>0</td>\n",
       "      <td>0</td>\n",
       "      <td>0</td>\n",
       "      <td>1</td>\n",
       "    </tr>\n",
       "    <tr>\n",
       "      <th>82579</th>\n",
       "      <td>0</td>\n",
       "      <td>0</td>\n",
       "      <td>0</td>\n",
       "      <td>1</td>\n",
       "    </tr>\n",
       "  </tbody>\n",
       "</table>\n",
       "<p>78768 rows × 4 columns</p>\n",
       "</div>"
      ],
      "text/plain": [
       "       Corporate  Direct  Electronic Distribution  Travel Agent/Operator\n",
       "0              1       0                        0                      0\n",
       "2              0       0                        0                      1\n",
       "3              0       0                        0                      1\n",
       "4              0       0                        0                      1\n",
       "5              0       0                        0                      1\n",
       "...          ...     ...                      ...                    ...\n",
       "82574          0       0                        0                      1\n",
       "82575          0       0                        0                      1\n",
       "82576          0       0                        0                      1\n",
       "82577          0       0                        0                      1\n",
       "82579          0       0                        0                      1\n",
       "\n",
       "[78768 rows x 4 columns]"
      ]
     },
     "execution_count": 36,
     "metadata": {},
     "output_type": "execute_result"
    }
   ],
   "source": [
    "dummy_column_distribution\n"
   ]
  },
  {
   "cell_type": "code",
   "execution_count": 37,
   "metadata": {},
   "outputs": [],
   "source": [
    "dummy_column_market=pd.get_dummies(data['MarketSegment'])"
   ]
  },
  {
   "cell_type": "code",
   "execution_count": 38,
   "metadata": {},
   "outputs": [
    {
     "data": {
      "text/html": [
       "<div>\n",
       "<style scoped>\n",
       "    .dataframe tbody tr th:only-of-type {\n",
       "        vertical-align: middle;\n",
       "    }\n",
       "\n",
       "    .dataframe tbody tr th {\n",
       "        vertical-align: top;\n",
       "    }\n",
       "\n",
       "    .dataframe thead th {\n",
       "        text-align: right;\n",
       "    }\n",
       "</style>\n",
       "<table border=\"1\" class=\"dataframe\">\n",
       "  <thead>\n",
       "    <tr style=\"text-align: right;\">\n",
       "      <th></th>\n",
       "      <th>Aviation</th>\n",
       "      <th>Complementary</th>\n",
       "      <th>Corporate</th>\n",
       "      <th>Direct</th>\n",
       "      <th>Groups</th>\n",
       "      <th>Other</th>\n",
       "      <th>Travel Agent/Operator</th>\n",
       "    </tr>\n",
       "  </thead>\n",
       "  <tbody>\n",
       "    <tr>\n",
       "      <th>0</th>\n",
       "      <td>0</td>\n",
       "      <td>0</td>\n",
       "      <td>1</td>\n",
       "      <td>0</td>\n",
       "      <td>0</td>\n",
       "      <td>0</td>\n",
       "      <td>0</td>\n",
       "    </tr>\n",
       "    <tr>\n",
       "      <th>2</th>\n",
       "      <td>0</td>\n",
       "      <td>0</td>\n",
       "      <td>0</td>\n",
       "      <td>0</td>\n",
       "      <td>0</td>\n",
       "      <td>0</td>\n",
       "      <td>1</td>\n",
       "    </tr>\n",
       "    <tr>\n",
       "      <th>3</th>\n",
       "      <td>0</td>\n",
       "      <td>0</td>\n",
       "      <td>0</td>\n",
       "      <td>0</td>\n",
       "      <td>0</td>\n",
       "      <td>0</td>\n",
       "      <td>1</td>\n",
       "    </tr>\n",
       "    <tr>\n",
       "      <th>4</th>\n",
       "      <td>0</td>\n",
       "      <td>0</td>\n",
       "      <td>0</td>\n",
       "      <td>0</td>\n",
       "      <td>0</td>\n",
       "      <td>0</td>\n",
       "      <td>1</td>\n",
       "    </tr>\n",
       "    <tr>\n",
       "      <th>5</th>\n",
       "      <td>0</td>\n",
       "      <td>0</td>\n",
       "      <td>0</td>\n",
       "      <td>0</td>\n",
       "      <td>0</td>\n",
       "      <td>1</td>\n",
       "      <td>0</td>\n",
       "    </tr>\n",
       "    <tr>\n",
       "      <th>...</th>\n",
       "      <td>...</td>\n",
       "      <td>...</td>\n",
       "      <td>...</td>\n",
       "      <td>...</td>\n",
       "      <td>...</td>\n",
       "      <td>...</td>\n",
       "      <td>...</td>\n",
       "    </tr>\n",
       "    <tr>\n",
       "      <th>82574</th>\n",
       "      <td>0</td>\n",
       "      <td>0</td>\n",
       "      <td>0</td>\n",
       "      <td>0</td>\n",
       "      <td>0</td>\n",
       "      <td>1</td>\n",
       "      <td>0</td>\n",
       "    </tr>\n",
       "    <tr>\n",
       "      <th>82575</th>\n",
       "      <td>0</td>\n",
       "      <td>0</td>\n",
       "      <td>0</td>\n",
       "      <td>0</td>\n",
       "      <td>0</td>\n",
       "      <td>1</td>\n",
       "      <td>0</td>\n",
       "    </tr>\n",
       "    <tr>\n",
       "      <th>82576</th>\n",
       "      <td>0</td>\n",
       "      <td>0</td>\n",
       "      <td>0</td>\n",
       "      <td>0</td>\n",
       "      <td>0</td>\n",
       "      <td>1</td>\n",
       "      <td>0</td>\n",
       "    </tr>\n",
       "    <tr>\n",
       "      <th>82577</th>\n",
       "      <td>0</td>\n",
       "      <td>0</td>\n",
       "      <td>0</td>\n",
       "      <td>0</td>\n",
       "      <td>0</td>\n",
       "      <td>1</td>\n",
       "      <td>0</td>\n",
       "    </tr>\n",
       "    <tr>\n",
       "      <th>82579</th>\n",
       "      <td>0</td>\n",
       "      <td>0</td>\n",
       "      <td>0</td>\n",
       "      <td>0</td>\n",
       "      <td>0</td>\n",
       "      <td>1</td>\n",
       "      <td>0</td>\n",
       "    </tr>\n",
       "  </tbody>\n",
       "</table>\n",
       "<p>78768 rows × 7 columns</p>\n",
       "</div>"
      ],
      "text/plain": [
       "       Aviation  Complementary  Corporate  Direct  Groups  Other  \\\n",
       "0             0              0          1       0       0      0   \n",
       "2             0              0          0       0       0      0   \n",
       "3             0              0          0       0       0      0   \n",
       "4             0              0          0       0       0      0   \n",
       "5             0              0          0       0       0      1   \n",
       "...         ...            ...        ...     ...     ...    ...   \n",
       "82574         0              0          0       0       0      1   \n",
       "82575         0              0          0       0       0      1   \n",
       "82576         0              0          0       0       0      1   \n",
       "82577         0              0          0       0       0      1   \n",
       "82579         0              0          0       0       0      1   \n",
       "\n",
       "       Travel Agent/Operator  \n",
       "0                          0  \n",
       "2                          1  \n",
       "3                          1  \n",
       "4                          1  \n",
       "5                          0  \n",
       "...                      ...  \n",
       "82574                      0  \n",
       "82575                      0  \n",
       "82576                      0  \n",
       "82577                      0  \n",
       "82579                      0  \n",
       "\n",
       "[78768 rows x 7 columns]"
      ]
     },
     "execution_count": 38,
     "metadata": {},
     "output_type": "execute_result"
    }
   ],
   "source": [
    "dummy_column_market"
   ]
  },
  {
   "cell_type": "code",
   "execution_count": 39,
   "metadata": {},
   "outputs": [],
   "source": [
    "data_new_1=pd.concat([dummy_column_distribution,dummy_column_market],axis=1)"
   ]
  },
  {
   "cell_type": "code",
   "execution_count": 40,
   "metadata": {},
   "outputs": [
    {
     "data": {
      "text/plain": [
       "(78768, 11)"
      ]
     },
     "execution_count": 40,
     "metadata": {},
     "output_type": "execute_result"
    }
   ],
   "source": [
    "data_new_1.shape"
   ]
  },
  {
   "cell_type": "code",
   "execution_count": 41,
   "metadata": {},
   "outputs": [],
   "source": [
    "data_new=data.drop(['Nationality','DistributionChannel','Unnamed: 0','MarketSegment','ID'],axis=1)"
   ]
  },
  {
   "cell_type": "code",
   "execution_count": 42,
   "metadata": {},
   "outputs": [
    {
     "data": {
      "text/plain": [
       "(78768, 25)"
      ]
     },
     "execution_count": 42,
     "metadata": {},
     "output_type": "execute_result"
    }
   ],
   "source": [
    "data_new.shape"
   ]
  },
  {
   "cell_type": "code",
   "execution_count": 43,
   "metadata": {},
   "outputs": [],
   "source": [
    "data_new_1=pd.concat([data_new,data_new_1],axis=1)"
   ]
  },
  {
   "cell_type": "code",
   "execution_count": 44,
   "metadata": {},
   "outputs": [
    {
     "data": {
      "text/plain": [
       "(78768, 36)"
      ]
     },
     "execution_count": 44,
     "metadata": {},
     "output_type": "execute_result"
    }
   ],
   "source": [
    "data_new_1.shape"
   ]
  },
  {
   "cell_type": "code",
   "execution_count": 45,
   "metadata": {},
   "outputs": [
    {
     "data": {
      "text/plain": [
       "Age                        0\n",
       "DaysSinceCreation          0\n",
       "AverageLeadTime            0\n",
       "LodgingRevenue             0\n",
       "OtherRevenue               0\n",
       "BookingsCanceled           0\n",
       "BookingsNoShowed           0\n",
       "BookingsCheckedIn          0\n",
       "PersonsNights              0\n",
       "RoomNights                 0\n",
       "DaysSinceLastStay          0\n",
       "DaysSinceFirstStay         0\n",
       "SRHighFloor                0\n",
       "SRLowFloor                 0\n",
       "SRAccessibleRoom           0\n",
       "SRMediumFloor              0\n",
       "SRBathtub                  0\n",
       "SRShower                   0\n",
       "SRCrib                     0\n",
       "SRKingSizeBed              0\n",
       "SRTwinBed                  0\n",
       "SRNearElevator             0\n",
       "SRAwayFromElevator         0\n",
       "SRNoAlcoholInMiniBar       0\n",
       "SRQuietRoom                0\n",
       "Corporate                  0\n",
       "Direct                     0\n",
       "Electronic Distribution    0\n",
       "Travel Agent/Operator      0\n",
       "Aviation                   0\n",
       "Complementary              0\n",
       "Corporate                  0\n",
       "Direct                     0\n",
       "Groups                     0\n",
       "Other                      0\n",
       "Travel Agent/Operator      0\n",
       "dtype: int64"
      ]
     },
     "execution_count": 45,
     "metadata": {},
     "output_type": "execute_result"
    }
   ],
   "source": [
    "data_new_1.isnull().sum()"
   ]
  },
  {
   "cell_type": "code",
   "execution_count": 46,
   "metadata": {},
   "outputs": [
    {
     "data": {
      "text/html": [
       "<div>\n",
       "<style scoped>\n",
       "    .dataframe tbody tr th:only-of-type {\n",
       "        vertical-align: middle;\n",
       "    }\n",
       "\n",
       "    .dataframe tbody tr th {\n",
       "        vertical-align: top;\n",
       "    }\n",
       "\n",
       "    .dataframe thead th {\n",
       "        text-align: right;\n",
       "    }\n",
       "</style>\n",
       "<table border=\"1\" class=\"dataframe\">\n",
       "  <thead>\n",
       "    <tr style=\"text-align: right;\">\n",
       "      <th></th>\n",
       "      <th>Age</th>\n",
       "      <th>DaysSinceCreation</th>\n",
       "      <th>AverageLeadTime</th>\n",
       "      <th>LodgingRevenue</th>\n",
       "      <th>OtherRevenue</th>\n",
       "      <th>BookingsCanceled</th>\n",
       "      <th>BookingsNoShowed</th>\n",
       "      <th>BookingsCheckedIn</th>\n",
       "      <th>PersonsNights</th>\n",
       "      <th>RoomNights</th>\n",
       "      <th>DaysSinceLastStay</th>\n",
       "      <th>DaysSinceFirstStay</th>\n",
       "      <th>SRHighFloor</th>\n",
       "      <th>SRLowFloor</th>\n",
       "      <th>SRAccessibleRoom</th>\n",
       "      <th>SRMediumFloor</th>\n",
       "      <th>SRBathtub</th>\n",
       "      <th>SRShower</th>\n",
       "      <th>SRCrib</th>\n",
       "      <th>SRKingSizeBed</th>\n",
       "      <th>SRTwinBed</th>\n",
       "      <th>SRNearElevator</th>\n",
       "      <th>SRAwayFromElevator</th>\n",
       "      <th>SRNoAlcoholInMiniBar</th>\n",
       "      <th>SRQuietRoom</th>\n",
       "      <th>Corporate</th>\n",
       "      <th>Direct</th>\n",
       "      <th>Electronic Distribution</th>\n",
       "      <th>Travel Agent/Operator</th>\n",
       "      <th>Aviation</th>\n",
       "      <th>Complementary</th>\n",
       "      <th>Corporate</th>\n",
       "      <th>Direct</th>\n",
       "      <th>Groups</th>\n",
       "      <th>Other</th>\n",
       "      <th>Travel Agent/Operator</th>\n",
       "    </tr>\n",
       "  </thead>\n",
       "  <tbody>\n",
       "    <tr>\n",
       "      <th>0</th>\n",
       "      <td>51.0</td>\n",
       "      <td>150</td>\n",
       "      <td>45</td>\n",
       "      <td>371.0</td>\n",
       "      <td>105.3</td>\n",
       "      <td>1</td>\n",
       "      <td>0</td>\n",
       "      <td>3</td>\n",
       "      <td>8</td>\n",
       "      <td>5</td>\n",
       "      <td>151</td>\n",
       "      <td>1074</td>\n",
       "      <td>0</td>\n",
       "      <td>0</td>\n",
       "      <td>0</td>\n",
       "      <td>0</td>\n",
       "      <td>0</td>\n",
       "      <td>0</td>\n",
       "      <td>0</td>\n",
       "      <td>0</td>\n",
       "      <td>0</td>\n",
       "      <td>0</td>\n",
       "      <td>0</td>\n",
       "      <td>0</td>\n",
       "      <td>0</td>\n",
       "      <td>1</td>\n",
       "      <td>0</td>\n",
       "      <td>0</td>\n",
       "      <td>0</td>\n",
       "      <td>0</td>\n",
       "      <td>0</td>\n",
       "      <td>1</td>\n",
       "      <td>0</td>\n",
       "      <td>0</td>\n",
       "      <td>0</td>\n",
       "      <td>0</td>\n",
       "    </tr>\n",
       "    <tr>\n",
       "      <th>2</th>\n",
       "      <td>31.0</td>\n",
       "      <td>1095</td>\n",
       "      <td>0</td>\n",
       "      <td>0.0</td>\n",
       "      <td>0.0</td>\n",
       "      <td>0</td>\n",
       "      <td>0</td>\n",
       "      <td>0</td>\n",
       "      <td>0</td>\n",
       "      <td>0</td>\n",
       "      <td>-1</td>\n",
       "      <td>-1</td>\n",
       "      <td>0</td>\n",
       "      <td>0</td>\n",
       "      <td>0</td>\n",
       "      <td>0</td>\n",
       "      <td>0</td>\n",
       "      <td>0</td>\n",
       "      <td>0</td>\n",
       "      <td>0</td>\n",
       "      <td>0</td>\n",
       "      <td>0</td>\n",
       "      <td>0</td>\n",
       "      <td>0</td>\n",
       "      <td>0</td>\n",
       "      <td>0</td>\n",
       "      <td>0</td>\n",
       "      <td>0</td>\n",
       "      <td>1</td>\n",
       "      <td>0</td>\n",
       "      <td>0</td>\n",
       "      <td>0</td>\n",
       "      <td>0</td>\n",
       "      <td>0</td>\n",
       "      <td>0</td>\n",
       "      <td>1</td>\n",
       "    </tr>\n",
       "    <tr>\n",
       "      <th>3</th>\n",
       "      <td>60.0</td>\n",
       "      <td>1095</td>\n",
       "      <td>93</td>\n",
       "      <td>240.0</td>\n",
       "      <td>60.0</td>\n",
       "      <td>0</td>\n",
       "      <td>0</td>\n",
       "      <td>1</td>\n",
       "      <td>10</td>\n",
       "      <td>5</td>\n",
       "      <td>1100</td>\n",
       "      <td>1100</td>\n",
       "      <td>0</td>\n",
       "      <td>0</td>\n",
       "      <td>0</td>\n",
       "      <td>0</td>\n",
       "      <td>0</td>\n",
       "      <td>0</td>\n",
       "      <td>0</td>\n",
       "      <td>0</td>\n",
       "      <td>0</td>\n",
       "      <td>0</td>\n",
       "      <td>0</td>\n",
       "      <td>0</td>\n",
       "      <td>0</td>\n",
       "      <td>0</td>\n",
       "      <td>0</td>\n",
       "      <td>0</td>\n",
       "      <td>1</td>\n",
       "      <td>0</td>\n",
       "      <td>0</td>\n",
       "      <td>0</td>\n",
       "      <td>0</td>\n",
       "      <td>0</td>\n",
       "      <td>0</td>\n",
       "      <td>1</td>\n",
       "    </tr>\n",
       "    <tr>\n",
       "      <th>4</th>\n",
       "      <td>51.0</td>\n",
       "      <td>1095</td>\n",
       "      <td>0</td>\n",
       "      <td>0.0</td>\n",
       "      <td>0.0</td>\n",
       "      <td>0</td>\n",
       "      <td>0</td>\n",
       "      <td>0</td>\n",
       "      <td>0</td>\n",
       "      <td>0</td>\n",
       "      <td>-1</td>\n",
       "      <td>-1</td>\n",
       "      <td>0</td>\n",
       "      <td>0</td>\n",
       "      <td>0</td>\n",
       "      <td>0</td>\n",
       "      <td>0</td>\n",
       "      <td>0</td>\n",
       "      <td>0</td>\n",
       "      <td>0</td>\n",
       "      <td>0</td>\n",
       "      <td>0</td>\n",
       "      <td>0</td>\n",
       "      <td>0</td>\n",
       "      <td>0</td>\n",
       "      <td>0</td>\n",
       "      <td>0</td>\n",
       "      <td>0</td>\n",
       "      <td>1</td>\n",
       "      <td>0</td>\n",
       "      <td>0</td>\n",
       "      <td>0</td>\n",
       "      <td>0</td>\n",
       "      <td>0</td>\n",
       "      <td>0</td>\n",
       "      <td>1</td>\n",
       "    </tr>\n",
       "    <tr>\n",
       "      <th>5</th>\n",
       "      <td>54.0</td>\n",
       "      <td>1095</td>\n",
       "      <td>58</td>\n",
       "      <td>230.0</td>\n",
       "      <td>24.0</td>\n",
       "      <td>0</td>\n",
       "      <td>0</td>\n",
       "      <td>1</td>\n",
       "      <td>4</td>\n",
       "      <td>2</td>\n",
       "      <td>1097</td>\n",
       "      <td>1097</td>\n",
       "      <td>0</td>\n",
       "      <td>0</td>\n",
       "      <td>0</td>\n",
       "      <td>0</td>\n",
       "      <td>0</td>\n",
       "      <td>0</td>\n",
       "      <td>0</td>\n",
       "      <td>0</td>\n",
       "      <td>0</td>\n",
       "      <td>0</td>\n",
       "      <td>0</td>\n",
       "      <td>0</td>\n",
       "      <td>0</td>\n",
       "      <td>0</td>\n",
       "      <td>0</td>\n",
       "      <td>0</td>\n",
       "      <td>1</td>\n",
       "      <td>0</td>\n",
       "      <td>0</td>\n",
       "      <td>0</td>\n",
       "      <td>0</td>\n",
       "      <td>0</td>\n",
       "      <td>1</td>\n",
       "      <td>0</td>\n",
       "    </tr>\n",
       "  </tbody>\n",
       "</table>\n",
       "</div>"
      ],
      "text/plain": [
       "    Age  DaysSinceCreation  AverageLeadTime  LodgingRevenue  OtherRevenue  \\\n",
       "0  51.0                150               45           371.0         105.3   \n",
       "2  31.0               1095                0             0.0           0.0   \n",
       "3  60.0               1095               93           240.0          60.0   \n",
       "4  51.0               1095                0             0.0           0.0   \n",
       "5  54.0               1095               58           230.0          24.0   \n",
       "\n",
       "   BookingsCanceled  BookingsNoShowed  BookingsCheckedIn  PersonsNights  \\\n",
       "0                 1                 0                  3              8   \n",
       "2                 0                 0                  0              0   \n",
       "3                 0                 0                  1             10   \n",
       "4                 0                 0                  0              0   \n",
       "5                 0                 0                  1              4   \n",
       "\n",
       "   RoomNights  DaysSinceLastStay  DaysSinceFirstStay  SRHighFloor  SRLowFloor  \\\n",
       "0           5                151                1074            0           0   \n",
       "2           0                 -1                  -1            0           0   \n",
       "3           5               1100                1100            0           0   \n",
       "4           0                 -1                  -1            0           0   \n",
       "5           2               1097                1097            0           0   \n",
       "\n",
       "   SRAccessibleRoom  SRMediumFloor  SRBathtub  SRShower  SRCrib  \\\n",
       "0                 0              0          0         0       0   \n",
       "2                 0              0          0         0       0   \n",
       "3                 0              0          0         0       0   \n",
       "4                 0              0          0         0       0   \n",
       "5                 0              0          0         0       0   \n",
       "\n",
       "   SRKingSizeBed  SRTwinBed  SRNearElevator  SRAwayFromElevator  \\\n",
       "0              0          0               0                   0   \n",
       "2              0          0               0                   0   \n",
       "3              0          0               0                   0   \n",
       "4              0          0               0                   0   \n",
       "5              0          0               0                   0   \n",
       "\n",
       "   SRNoAlcoholInMiniBar  SRQuietRoom  Corporate  Direct  \\\n",
       "0                     0            0          1       0   \n",
       "2                     0            0          0       0   \n",
       "3                     0            0          0       0   \n",
       "4                     0            0          0       0   \n",
       "5                     0            0          0       0   \n",
       "\n",
       "   Electronic Distribution  Travel Agent/Operator  Aviation  Complementary  \\\n",
       "0                        0                      0         0              0   \n",
       "2                        0                      1         0              0   \n",
       "3                        0                      1         0              0   \n",
       "4                        0                      1         0              0   \n",
       "5                        0                      1         0              0   \n",
       "\n",
       "   Corporate  Direct  Groups  Other  Travel Agent/Operator  \n",
       "0          1       0       0      0                      0  \n",
       "2          0       0       0      0                      1  \n",
       "3          0       0       0      0                      1  \n",
       "4          0       0       0      0                      1  \n",
       "5          0       0       0      1                      0  "
      ]
     },
     "execution_count": 46,
     "metadata": {},
     "output_type": "execute_result"
    }
   ],
   "source": [
    "data_new_1.head()"
   ]
  },
  {
   "cell_type": "code",
   "execution_count": 47,
   "metadata": {},
   "outputs": [],
   "source": [
    "scaler=MinMaxScaler()\n",
    "data_scaled=scaler.fit_transform(data_new_1)"
   ]
  },
  {
   "cell_type": "code",
   "execution_count": 48,
   "metadata": {},
   "outputs": [],
   "source": [
    "data_scaled=pd.DataFrame(data_scaled,columns=data_new_1.columns)"
   ]
  },
  {
   "cell_type": "code",
   "execution_count": 49,
   "metadata": {},
   "outputs": [
    {
     "data": {
      "text/html": [
       "<div>\n",
       "<style scoped>\n",
       "    .dataframe tbody tr th:only-of-type {\n",
       "        vertical-align: middle;\n",
       "    }\n",
       "\n",
       "    .dataframe tbody tr th {\n",
       "        vertical-align: top;\n",
       "    }\n",
       "\n",
       "    .dataframe thead th {\n",
       "        text-align: right;\n",
       "    }\n",
       "</style>\n",
       "<table border=\"1\" class=\"dataframe\">\n",
       "  <thead>\n",
       "    <tr style=\"text-align: right;\">\n",
       "      <th></th>\n",
       "      <th>Age</th>\n",
       "      <th>DaysSinceCreation</th>\n",
       "      <th>AverageLeadTime</th>\n",
       "      <th>LodgingRevenue</th>\n",
       "      <th>OtherRevenue</th>\n",
       "      <th>BookingsCanceled</th>\n",
       "      <th>BookingsNoShowed</th>\n",
       "      <th>BookingsCheckedIn</th>\n",
       "      <th>PersonsNights</th>\n",
       "      <th>RoomNights</th>\n",
       "      <th>DaysSinceLastStay</th>\n",
       "      <th>DaysSinceFirstStay</th>\n",
       "      <th>SRHighFloor</th>\n",
       "      <th>SRLowFloor</th>\n",
       "      <th>SRAccessibleRoom</th>\n",
       "      <th>SRMediumFloor</th>\n",
       "      <th>SRBathtub</th>\n",
       "      <th>SRShower</th>\n",
       "      <th>SRCrib</th>\n",
       "      <th>SRKingSizeBed</th>\n",
       "      <th>SRTwinBed</th>\n",
       "      <th>SRNearElevator</th>\n",
       "      <th>SRAwayFromElevator</th>\n",
       "      <th>SRNoAlcoholInMiniBar</th>\n",
       "      <th>SRQuietRoom</th>\n",
       "      <th>Corporate</th>\n",
       "      <th>Direct</th>\n",
       "      <th>Electronic Distribution</th>\n",
       "      <th>Travel Agent/Operator</th>\n",
       "      <th>Aviation</th>\n",
       "      <th>Complementary</th>\n",
       "      <th>Corporate</th>\n",
       "      <th>Direct</th>\n",
       "      <th>Groups</th>\n",
       "      <th>Other</th>\n",
       "      <th>Travel Agent/Operator</th>\n",
       "    </tr>\n",
       "  </thead>\n",
       "  <tbody>\n",
       "    <tr>\n",
       "      <th>0</th>\n",
       "      <td>0.413223</td>\n",
       "      <td>0.127424</td>\n",
       "      <td>0.076531</td>\n",
       "      <td>0.038317</td>\n",
       "      <td>0.013622</td>\n",
       "      <td>0.111111</td>\n",
       "      <td>0.0</td>\n",
       "      <td>0.045455</td>\n",
       "      <td>0.068966</td>\n",
       "      <td>0.043103</td>\n",
       "      <td>0.137557</td>\n",
       "      <td>0.961538</td>\n",
       "      <td>0.0</td>\n",
       "      <td>0.0</td>\n",
       "      <td>0.0</td>\n",
       "      <td>0.0</td>\n",
       "      <td>0.0</td>\n",
       "      <td>0.0</td>\n",
       "      <td>0.0</td>\n",
       "      <td>0.0</td>\n",
       "      <td>0.0</td>\n",
       "      <td>0.0</td>\n",
       "      <td>0.0</td>\n",
       "      <td>0.0</td>\n",
       "      <td>0.0</td>\n",
       "      <td>1.0</td>\n",
       "      <td>0.0</td>\n",
       "      <td>0.0</td>\n",
       "      <td>0.0</td>\n",
       "      <td>0.0</td>\n",
       "      <td>0.0</td>\n",
       "      <td>1.0</td>\n",
       "      <td>0.0</td>\n",
       "      <td>0.0</td>\n",
       "      <td>0.0</td>\n",
       "      <td>0.0</td>\n",
       "    </tr>\n",
       "    <tr>\n",
       "      <th>1</th>\n",
       "      <td>0.247934</td>\n",
       "      <td>1.000000</td>\n",
       "      <td>0.000000</td>\n",
       "      <td>0.000000</td>\n",
       "      <td>0.000000</td>\n",
       "      <td>0.000000</td>\n",
       "      <td>0.0</td>\n",
       "      <td>0.000000</td>\n",
       "      <td>0.000000</td>\n",
       "      <td>0.000000</td>\n",
       "      <td>0.000000</td>\n",
       "      <td>0.000000</td>\n",
       "      <td>0.0</td>\n",
       "      <td>0.0</td>\n",
       "      <td>0.0</td>\n",
       "      <td>0.0</td>\n",
       "      <td>0.0</td>\n",
       "      <td>0.0</td>\n",
       "      <td>0.0</td>\n",
       "      <td>0.0</td>\n",
       "      <td>0.0</td>\n",
       "      <td>0.0</td>\n",
       "      <td>0.0</td>\n",
       "      <td>0.0</td>\n",
       "      <td>0.0</td>\n",
       "      <td>0.0</td>\n",
       "      <td>0.0</td>\n",
       "      <td>0.0</td>\n",
       "      <td>1.0</td>\n",
       "      <td>0.0</td>\n",
       "      <td>0.0</td>\n",
       "      <td>0.0</td>\n",
       "      <td>0.0</td>\n",
       "      <td>0.0</td>\n",
       "      <td>0.0</td>\n",
       "      <td>1.0</td>\n",
       "    </tr>\n",
       "    <tr>\n",
       "      <th>2</th>\n",
       "      <td>0.487603</td>\n",
       "      <td>1.000000</td>\n",
       "      <td>0.158163</td>\n",
       "      <td>0.024787</td>\n",
       "      <td>0.007762</td>\n",
       "      <td>0.000000</td>\n",
       "      <td>0.0</td>\n",
       "      <td>0.015152</td>\n",
       "      <td>0.086207</td>\n",
       "      <td>0.043103</td>\n",
       "      <td>0.996380</td>\n",
       "      <td>0.984794</td>\n",
       "      <td>0.0</td>\n",
       "      <td>0.0</td>\n",
       "      <td>0.0</td>\n",
       "      <td>0.0</td>\n",
       "      <td>0.0</td>\n",
       "      <td>0.0</td>\n",
       "      <td>0.0</td>\n",
       "      <td>0.0</td>\n",
       "      <td>0.0</td>\n",
       "      <td>0.0</td>\n",
       "      <td>0.0</td>\n",
       "      <td>0.0</td>\n",
       "      <td>0.0</td>\n",
       "      <td>0.0</td>\n",
       "      <td>0.0</td>\n",
       "      <td>0.0</td>\n",
       "      <td>1.0</td>\n",
       "      <td>0.0</td>\n",
       "      <td>0.0</td>\n",
       "      <td>0.0</td>\n",
       "      <td>0.0</td>\n",
       "      <td>0.0</td>\n",
       "      <td>0.0</td>\n",
       "      <td>1.0</td>\n",
       "    </tr>\n",
       "    <tr>\n",
       "      <th>3</th>\n",
       "      <td>0.413223</td>\n",
       "      <td>1.000000</td>\n",
       "      <td>0.000000</td>\n",
       "      <td>0.000000</td>\n",
       "      <td>0.000000</td>\n",
       "      <td>0.000000</td>\n",
       "      <td>0.0</td>\n",
       "      <td>0.000000</td>\n",
       "      <td>0.000000</td>\n",
       "      <td>0.000000</td>\n",
       "      <td>0.000000</td>\n",
       "      <td>0.000000</td>\n",
       "      <td>0.0</td>\n",
       "      <td>0.0</td>\n",
       "      <td>0.0</td>\n",
       "      <td>0.0</td>\n",
       "      <td>0.0</td>\n",
       "      <td>0.0</td>\n",
       "      <td>0.0</td>\n",
       "      <td>0.0</td>\n",
       "      <td>0.0</td>\n",
       "      <td>0.0</td>\n",
       "      <td>0.0</td>\n",
       "      <td>0.0</td>\n",
       "      <td>0.0</td>\n",
       "      <td>0.0</td>\n",
       "      <td>0.0</td>\n",
       "      <td>0.0</td>\n",
       "      <td>1.0</td>\n",
       "      <td>0.0</td>\n",
       "      <td>0.0</td>\n",
       "      <td>0.0</td>\n",
       "      <td>0.0</td>\n",
       "      <td>0.0</td>\n",
       "      <td>0.0</td>\n",
       "      <td>1.0</td>\n",
       "    </tr>\n",
       "    <tr>\n",
       "      <th>4</th>\n",
       "      <td>0.438017</td>\n",
       "      <td>1.000000</td>\n",
       "      <td>0.098639</td>\n",
       "      <td>0.023754</td>\n",
       "      <td>0.003105</td>\n",
       "      <td>0.000000</td>\n",
       "      <td>0.0</td>\n",
       "      <td>0.015152</td>\n",
       "      <td>0.034483</td>\n",
       "      <td>0.017241</td>\n",
       "      <td>0.993665</td>\n",
       "      <td>0.982111</td>\n",
       "      <td>0.0</td>\n",
       "      <td>0.0</td>\n",
       "      <td>0.0</td>\n",
       "      <td>0.0</td>\n",
       "      <td>0.0</td>\n",
       "      <td>0.0</td>\n",
       "      <td>0.0</td>\n",
       "      <td>0.0</td>\n",
       "      <td>0.0</td>\n",
       "      <td>0.0</td>\n",
       "      <td>0.0</td>\n",
       "      <td>0.0</td>\n",
       "      <td>0.0</td>\n",
       "      <td>0.0</td>\n",
       "      <td>0.0</td>\n",
       "      <td>0.0</td>\n",
       "      <td>1.0</td>\n",
       "      <td>0.0</td>\n",
       "      <td>0.0</td>\n",
       "      <td>0.0</td>\n",
       "      <td>0.0</td>\n",
       "      <td>0.0</td>\n",
       "      <td>1.0</td>\n",
       "      <td>0.0</td>\n",
       "    </tr>\n",
       "  </tbody>\n",
       "</table>\n",
       "</div>"
      ],
      "text/plain": [
       "        Age  DaysSinceCreation  AverageLeadTime  LodgingRevenue  OtherRevenue  \\\n",
       "0  0.413223           0.127424         0.076531        0.038317      0.013622   \n",
       "1  0.247934           1.000000         0.000000        0.000000      0.000000   \n",
       "2  0.487603           1.000000         0.158163        0.024787      0.007762   \n",
       "3  0.413223           1.000000         0.000000        0.000000      0.000000   \n",
       "4  0.438017           1.000000         0.098639        0.023754      0.003105   \n",
       "\n",
       "   BookingsCanceled  BookingsNoShowed  BookingsCheckedIn  PersonsNights  \\\n",
       "0          0.111111               0.0           0.045455       0.068966   \n",
       "1          0.000000               0.0           0.000000       0.000000   \n",
       "2          0.000000               0.0           0.015152       0.086207   \n",
       "3          0.000000               0.0           0.000000       0.000000   \n",
       "4          0.000000               0.0           0.015152       0.034483   \n",
       "\n",
       "   RoomNights  DaysSinceLastStay  DaysSinceFirstStay  SRHighFloor  SRLowFloor  \\\n",
       "0    0.043103           0.137557            0.961538          0.0         0.0   \n",
       "1    0.000000           0.000000            0.000000          0.0         0.0   \n",
       "2    0.043103           0.996380            0.984794          0.0         0.0   \n",
       "3    0.000000           0.000000            0.000000          0.0         0.0   \n",
       "4    0.017241           0.993665            0.982111          0.0         0.0   \n",
       "\n",
       "   SRAccessibleRoom  SRMediumFloor  SRBathtub  SRShower  SRCrib  \\\n",
       "0               0.0            0.0        0.0       0.0     0.0   \n",
       "1               0.0            0.0        0.0       0.0     0.0   \n",
       "2               0.0            0.0        0.0       0.0     0.0   \n",
       "3               0.0            0.0        0.0       0.0     0.0   \n",
       "4               0.0            0.0        0.0       0.0     0.0   \n",
       "\n",
       "   SRKingSizeBed  SRTwinBed  SRNearElevator  SRAwayFromElevator  \\\n",
       "0            0.0        0.0             0.0                 0.0   \n",
       "1            0.0        0.0             0.0                 0.0   \n",
       "2            0.0        0.0             0.0                 0.0   \n",
       "3            0.0        0.0             0.0                 0.0   \n",
       "4            0.0        0.0             0.0                 0.0   \n",
       "\n",
       "   SRNoAlcoholInMiniBar  SRQuietRoom  Corporate  Direct  \\\n",
       "0                   0.0          0.0        1.0     0.0   \n",
       "1                   0.0          0.0        0.0     0.0   \n",
       "2                   0.0          0.0        0.0     0.0   \n",
       "3                   0.0          0.0        0.0     0.0   \n",
       "4                   0.0          0.0        0.0     0.0   \n",
       "\n",
       "   Electronic Distribution  Travel Agent/Operator  Aviation  Complementary  \\\n",
       "0                      0.0                    0.0       0.0            0.0   \n",
       "1                      0.0                    1.0       0.0            0.0   \n",
       "2                      0.0                    1.0       0.0            0.0   \n",
       "3                      0.0                    1.0       0.0            0.0   \n",
       "4                      0.0                    1.0       0.0            0.0   \n",
       "\n",
       "   Corporate  Direct  Groups  Other  Travel Agent/Operator  \n",
       "0        1.0     0.0     0.0    0.0                    0.0  \n",
       "1        0.0     0.0     0.0    0.0                    1.0  \n",
       "2        0.0     0.0     0.0    0.0                    1.0  \n",
       "3        0.0     0.0     0.0    0.0                    1.0  \n",
       "4        0.0     0.0     0.0    1.0                    0.0  "
      ]
     },
     "execution_count": 49,
     "metadata": {},
     "output_type": "execute_result"
    }
   ],
   "source": [
    "data_scaled.head()"
   ]
  },
  {
   "cell_type": "code",
   "execution_count": 50,
   "metadata": {},
   "outputs": [],
   "source": [
    "pca=PCA(n_components=2)\n",
    "data_pca=pca.fit_transform(data_scaled)"
   ]
  },
  {
   "cell_type": "code",
   "execution_count": 51,
   "metadata": {},
   "outputs": [
    {
     "data": {
      "text/plain": [
       "(78768, 2)"
      ]
     },
     "execution_count": 51,
     "metadata": {},
     "output_type": "execute_result"
    }
   ],
   "source": [
    "data_pca.shape"
   ]
  },
  {
   "cell_type": "code",
   "execution_count": 52,
   "metadata": {},
   "outputs": [],
   "source": [
    "clustering = KMeans(n_clusters=2,init='k-means++', \n",
    "                    n_init=10, max_iter=300, tol=0.0001, verbose=0, random_state=None, copy_x=True, algorithm='auto')\n",
    "clustering.fit_predict(data_pca)\n",
    "train_labels=clustering.labels_\n"
   ]
  },
  {
   "cell_type": "code",
   "execution_count": 53,
   "metadata": {},
   "outputs": [
    {
     "name": "stdout",
     "output_type": "stream",
     "text": [
      "[1 0 0 ... 0 0 0]\n"
     ]
    }
   ],
   "source": [
    "print(train_labels)"
   ]
  },
  {
   "cell_type": "code",
   "execution_count": 54,
   "metadata": {},
   "outputs": [
    {
     "data": {
      "image/png": "[encoded data removed]",
      "text/plain": [
       "<Figure size 432x288 with 1 Axes>"
      ]
     },
     "metadata": {
      "needs_background": "light"
     },
     "output_type": "display_data"
    }
   ],
   "source": [
    "filtered_label0 = data_pca[train_labels == 0]\n",
    " \n",
    "filtered_label1 = data_pca[train_labels == 1]\n",
    " \n",
    "#Plotting the results\n",
    "plt.scatter(filtered_label0[:,0] , filtered_label0[:,1] , color = 'red')\n",
    "plt.scatter(filtered_label1[:,0] , filtered_label1[:,1] , color = 'black')\n",
    "plt.show()"
   ]
  },
  {
   "cell_type": "code",
   "execution_count": 55,
   "metadata": {},
   "outputs": [
    {
     "data": {
      "text/plain": [
       "(78768, 36)"
      ]
     },
     "execution_count": 55,
     "metadata": {},
     "output_type": "execute_result"
    }
   ],
   "source": [
    "data_scaled.shape"
   ]
  },
  {
   "cell_type": "code",
   "execution_count": 56,
   "metadata": {},
   "outputs": [
    {
     "data": {
      "text/plain": [
       "0    66249\n",
       "1    12519\n",
       "Name: Kmean-Labels, dtype: int64"
      ]
     },
     "execution_count": 56,
     "metadata": {},
     "output_type": "execute_result"
    }
   ],
   "source": [
    "data_scaled['Kmean-Labels'] = train_labels\n",
    "data_scaled['Kmean-Labels'].value_counts()"
   ]
  },
  {
   "cell_type": "code",
   "execution_count": 57,
   "metadata": {},
   "outputs": [
    {
     "data": {
      "text/html": [
       "<div>\n",
       "<style scoped>\n",
       "    .dataframe tbody tr th:only-of-type {\n",
       "        vertical-align: middle;\n",
       "    }\n",
       "\n",
       "    .dataframe tbody tr th {\n",
       "        vertical-align: top;\n",
       "    }\n",
       "\n",
       "    .dataframe thead th {\n",
       "        text-align: right;\n",
       "    }\n",
       "</style>\n",
       "<table border=\"1\" class=\"dataframe\">\n",
       "  <thead>\n",
       "    <tr style=\"text-align: right;\">\n",
       "      <th></th>\n",
       "      <th>Age</th>\n",
       "      <th>DaysSinceCreation</th>\n",
       "      <th>AverageLeadTime</th>\n",
       "      <th>LodgingRevenue</th>\n",
       "      <th>OtherRevenue</th>\n",
       "      <th>BookingsCanceled</th>\n",
       "      <th>BookingsNoShowed</th>\n",
       "      <th>BookingsCheckedIn</th>\n",
       "      <th>PersonsNights</th>\n",
       "      <th>RoomNights</th>\n",
       "      <th>DaysSinceLastStay</th>\n",
       "      <th>DaysSinceFirstStay</th>\n",
       "      <th>SRHighFloor</th>\n",
       "      <th>SRLowFloor</th>\n",
       "      <th>SRAccessibleRoom</th>\n",
       "      <th>SRMediumFloor</th>\n",
       "      <th>SRBathtub</th>\n",
       "      <th>SRShower</th>\n",
       "      <th>SRCrib</th>\n",
       "      <th>SRKingSizeBed</th>\n",
       "      <th>SRTwinBed</th>\n",
       "      <th>SRNearElevator</th>\n",
       "      <th>SRAwayFromElevator</th>\n",
       "      <th>SRNoAlcoholInMiniBar</th>\n",
       "      <th>SRQuietRoom</th>\n",
       "      <th>Corporate</th>\n",
       "      <th>Direct</th>\n",
       "      <th>Electronic Distribution</th>\n",
       "      <th>Travel Agent/Operator</th>\n",
       "      <th>Aviation</th>\n",
       "      <th>Complementary</th>\n",
       "      <th>Corporate</th>\n",
       "      <th>Direct</th>\n",
       "      <th>Groups</th>\n",
       "      <th>Other</th>\n",
       "      <th>Travel Agent/Operator</th>\n",
       "      <th>Kmean-Labels</th>\n",
       "    </tr>\n",
       "  </thead>\n",
       "  <tbody>\n",
       "    <tr>\n",
       "      <th>0</th>\n",
       "      <td>0.413223</td>\n",
       "      <td>0.127424</td>\n",
       "      <td>0.076531</td>\n",
       "      <td>0.038317</td>\n",
       "      <td>0.013622</td>\n",
       "      <td>0.111111</td>\n",
       "      <td>0.0</td>\n",
       "      <td>0.045455</td>\n",
       "      <td>0.068966</td>\n",
       "      <td>0.043103</td>\n",
       "      <td>0.137557</td>\n",
       "      <td>0.961538</td>\n",
       "      <td>0.0</td>\n",
       "      <td>0.0</td>\n",
       "      <td>0.0</td>\n",
       "      <td>0.0</td>\n",
       "      <td>0.0</td>\n",
       "      <td>0.0</td>\n",
       "      <td>0.0</td>\n",
       "      <td>0.0</td>\n",
       "      <td>0.0</td>\n",
       "      <td>0.0</td>\n",
       "      <td>0.0</td>\n",
       "      <td>0.0</td>\n",
       "      <td>0.0</td>\n",
       "      <td>1.0</td>\n",
       "      <td>0.0</td>\n",
       "      <td>0.0</td>\n",
       "      <td>0.0</td>\n",
       "      <td>0.0</td>\n",
       "      <td>0.0</td>\n",
       "      <td>1.0</td>\n",
       "      <td>0.0</td>\n",
       "      <td>0.0</td>\n",
       "      <td>0.0</td>\n",
       "      <td>0.0</td>\n",
       "      <td>1</td>\n",
       "    </tr>\n",
       "    <tr>\n",
       "      <th>1</th>\n",
       "      <td>0.247934</td>\n",
       "      <td>1.000000</td>\n",
       "      <td>0.000000</td>\n",
       "      <td>0.000000</td>\n",
       "      <td>0.000000</td>\n",
       "      <td>0.000000</td>\n",
       "      <td>0.0</td>\n",
       "      <td>0.000000</td>\n",
       "      <td>0.000000</td>\n",
       "      <td>0.000000</td>\n",
       "      <td>0.000000</td>\n",
       "      <td>0.000000</td>\n",
       "      <td>0.0</td>\n",
       "      <td>0.0</td>\n",
       "      <td>0.0</td>\n",
       "      <td>0.0</td>\n",
       "      <td>0.0</td>\n",
       "      <td>0.0</td>\n",
       "      <td>0.0</td>\n",
       "      <td>0.0</td>\n",
       "      <td>0.0</td>\n",
       "      <td>0.0</td>\n",
       "      <td>0.0</td>\n",
       "      <td>0.0</td>\n",
       "      <td>0.0</td>\n",
       "      <td>0.0</td>\n",
       "      <td>0.0</td>\n",
       "      <td>0.0</td>\n",
       "      <td>1.0</td>\n",
       "      <td>0.0</td>\n",
       "      <td>0.0</td>\n",
       "      <td>0.0</td>\n",
       "      <td>0.0</td>\n",
       "      <td>0.0</td>\n",
       "      <td>0.0</td>\n",
       "      <td>1.0</td>\n",
       "      <td>0</td>\n",
       "    </tr>\n",
       "    <tr>\n",
       "      <th>2</th>\n",
       "      <td>0.487603</td>\n",
       "      <td>1.000000</td>\n",
       "      <td>0.158163</td>\n",
       "      <td>0.024787</td>\n",
       "      <td>0.007762</td>\n",
       "      <td>0.000000</td>\n",
       "      <td>0.0</td>\n",
       "      <td>0.015152</td>\n",
       "      <td>0.086207</td>\n",
       "      <td>0.043103</td>\n",
       "      <td>0.996380</td>\n",
       "      <td>0.984794</td>\n",
       "      <td>0.0</td>\n",
       "      <td>0.0</td>\n",
       "      <td>0.0</td>\n",
       "      <td>0.0</td>\n",
       "      <td>0.0</td>\n",
       "      <td>0.0</td>\n",
       "      <td>0.0</td>\n",
       "      <td>0.0</td>\n",
       "      <td>0.0</td>\n",
       "      <td>0.0</td>\n",
       "      <td>0.0</td>\n",
       "      <td>0.0</td>\n",
       "      <td>0.0</td>\n",
       "      <td>0.0</td>\n",
       "      <td>0.0</td>\n",
       "      <td>0.0</td>\n",
       "      <td>1.0</td>\n",
       "      <td>0.0</td>\n",
       "      <td>0.0</td>\n",
       "      <td>0.0</td>\n",
       "      <td>0.0</td>\n",
       "      <td>0.0</td>\n",
       "      <td>0.0</td>\n",
       "      <td>1.0</td>\n",
       "      <td>0</td>\n",
       "    </tr>\n",
       "    <tr>\n",
       "      <th>3</th>\n",
       "      <td>0.413223</td>\n",
       "      <td>1.000000</td>\n",
       "      <td>0.000000</td>\n",
       "      <td>0.000000</td>\n",
       "      <td>0.000000</td>\n",
       "      <td>0.000000</td>\n",
       "      <td>0.0</td>\n",
       "      <td>0.000000</td>\n",
       "      <td>0.000000</td>\n",
       "      <td>0.000000</td>\n",
       "      <td>0.000000</td>\n",
       "      <td>0.000000</td>\n",
       "      <td>0.0</td>\n",
       "      <td>0.0</td>\n",
       "      <td>0.0</td>\n",
       "      <td>0.0</td>\n",
       "      <td>0.0</td>\n",
       "      <td>0.0</td>\n",
       "      <td>0.0</td>\n",
       "      <td>0.0</td>\n",
       "      <td>0.0</td>\n",
       "      <td>0.0</td>\n",
       "      <td>0.0</td>\n",
       "      <td>0.0</td>\n",
       "      <td>0.0</td>\n",
       "      <td>0.0</td>\n",
       "      <td>0.0</td>\n",
       "      <td>0.0</td>\n",
       "      <td>1.0</td>\n",
       "      <td>0.0</td>\n",
       "      <td>0.0</td>\n",
       "      <td>0.0</td>\n",
       "      <td>0.0</td>\n",
       "      <td>0.0</td>\n",
       "      <td>0.0</td>\n",
       "      <td>1.0</td>\n",
       "      <td>0</td>\n",
       "    </tr>\n",
       "    <tr>\n",
       "      <th>4</th>\n",
       "      <td>0.438017</td>\n",
       "      <td>1.000000</td>\n",
       "      <td>0.098639</td>\n",
       "      <td>0.023754</td>\n",
       "      <td>0.003105</td>\n",
       "      <td>0.000000</td>\n",
       "      <td>0.0</td>\n",
       "      <td>0.015152</td>\n",
       "      <td>0.034483</td>\n",
       "      <td>0.017241</td>\n",
       "      <td>0.993665</td>\n",
       "      <td>0.982111</td>\n",
       "      <td>0.0</td>\n",
       "      <td>0.0</td>\n",
       "      <td>0.0</td>\n",
       "      <td>0.0</td>\n",
       "      <td>0.0</td>\n",
       "      <td>0.0</td>\n",
       "      <td>0.0</td>\n",
       "      <td>0.0</td>\n",
       "      <td>0.0</td>\n",
       "      <td>0.0</td>\n",
       "      <td>0.0</td>\n",
       "      <td>0.0</td>\n",
       "      <td>0.0</td>\n",
       "      <td>0.0</td>\n",
       "      <td>0.0</td>\n",
       "      <td>0.0</td>\n",
       "      <td>1.0</td>\n",
       "      <td>0.0</td>\n",
       "      <td>0.0</td>\n",
       "      <td>0.0</td>\n",
       "      <td>0.0</td>\n",
       "      <td>0.0</td>\n",
       "      <td>1.0</td>\n",
       "      <td>0.0</td>\n",
       "      <td>0</td>\n",
       "    </tr>\n",
       "  </tbody>\n",
       "</table>\n",
       "</div>"
      ],
      "text/plain": [
       "        Age  DaysSinceCreation  AverageLeadTime  LodgingRevenue  OtherRevenue  \\\n",
       "0  0.413223           0.127424         0.076531        0.038317      0.013622   \n",
       "1  0.247934           1.000000         0.000000        0.000000      0.000000   \n",
       "2  0.487603           1.000000         0.158163        0.024787      0.007762   \n",
       "3  0.413223           1.000000         0.000000        0.000000      0.000000   \n",
       "4  0.438017           1.000000         0.098639        0.023754      0.003105   \n",
       "\n",
       "   BookingsCanceled  BookingsNoShowed  BookingsCheckedIn  PersonsNights  \\\n",
       "0          0.111111               0.0           0.045455       0.068966   \n",
       "1          0.000000               0.0           0.000000       0.000000   \n",
       "2          0.000000               0.0           0.015152       0.086207   \n",
       "3          0.000000               0.0           0.000000       0.000000   \n",
       "4          0.000000               0.0           0.015152       0.034483   \n",
       "\n",
       "   RoomNights  DaysSinceLastStay  DaysSinceFirstStay  SRHighFloor  SRLowFloor  \\\n",
       "0    0.043103           0.137557            0.961538          0.0         0.0   \n",
       "1    0.000000           0.000000            0.000000          0.0         0.0   \n",
       "2    0.043103           0.996380            0.984794          0.0         0.0   \n",
       "3    0.000000           0.000000            0.000000          0.0         0.0   \n",
       "4    0.017241           0.993665            0.982111          0.0         0.0   \n",
       "\n",
       "   SRAccessibleRoom  SRMediumFloor  SRBathtub  SRShower  SRCrib  \\\n",
       "0               0.0            0.0        0.0       0.0     0.0   \n",
       "1               0.0            0.0        0.0       0.0     0.0   \n",
       "2               0.0            0.0        0.0       0.0     0.0   \n",
       "3               0.0            0.0        0.0       0.0     0.0   \n",
       "4               0.0            0.0        0.0       0.0     0.0   \n",
       "\n",
       "   SRKingSizeBed  SRTwinBed  SRNearElevator  SRAwayFromElevator  \\\n",
       "0            0.0        0.0             0.0                 0.0   \n",
       "1            0.0        0.0             0.0                 0.0   \n",
       "2            0.0        0.0             0.0                 0.0   \n",
       "3            0.0        0.0             0.0                 0.0   \n",
       "4            0.0        0.0             0.0                 0.0   \n",
       "\n",
       "   SRNoAlcoholInMiniBar  SRQuietRoom  Corporate  Direct  \\\n",
       "0                   0.0          0.0        1.0     0.0   \n",
       "1                   0.0          0.0        0.0     0.0   \n",
       "2                   0.0          0.0        0.0     0.0   \n",
       "3                   0.0          0.0        0.0     0.0   \n",
       "4                   0.0          0.0        0.0     0.0   \n",
       "\n",
       "   Electronic Distribution  Travel Agent/Operator  Aviation  Complementary  \\\n",
       "0                      0.0                    0.0       0.0            0.0   \n",
       "1                      0.0                    1.0       0.0            0.0   \n",
       "2                      0.0                    1.0       0.0            0.0   \n",
       "3                      0.0                    1.0       0.0            0.0   \n",
       "4                      0.0                    1.0       0.0            0.0   \n",
       "\n",
       "   Corporate  Direct  Groups  Other  Travel Agent/Operator  Kmean-Labels  \n",
       "0        1.0     0.0     0.0    0.0                    0.0             1  \n",
       "1        0.0     0.0     0.0    0.0                    1.0             0  \n",
       "2        0.0     0.0     0.0    0.0                    1.0             0  \n",
       "3        0.0     0.0     0.0    0.0                    1.0             0  \n",
       "4        0.0     0.0     0.0    1.0                    0.0             0  "
      ]
     },
     "execution_count": 57,
     "metadata": {},
     "output_type": "execute_result"
    }
   ],
   "source": [
    "data_scaled.head()"
   ]
  },
  {
   "cell_type": "code",
   "execution_count": 58,
   "metadata": {},
   "outputs": [
    {
     "data": {
      "text/plain": [
       "(78768, 37)"
      ]
     },
     "execution_count": 58,
     "metadata": {},
     "output_type": "execute_result"
    }
   ],
   "source": [
    "data_scaled.shape"
   ]
  },
  {
   "cell_type": "markdown",
   "metadata": {},
   "source": [
    "# Train - Test Split\n"
   ]
  },
  {
   "cell_type": "markdown",
   "metadata": {},
   "source": [
    "# Model 1"
   ]
  },
  {
   "cell_type": "markdown",
   "metadata": {},
   "source": [
    "This model take dummy features + original features. I have done clustering and taken number of clusters =2 for binary classification task as either will person be going to checked in or not.\n",
    "\n",
    "The binary value 0 means that person will be going to checked in and binary value 1 means that person will not be going to be \n",
    "checked in."
   ]
  },
  {
   "cell_type": "code",
   "execution_count": 59,
   "metadata": {},
   "outputs": [],
   "source": [
    "y=data_scaled['Kmean-Labels'].values\n",
    "X=data_scaled.drop(['Kmean-Labels'],axis=1)"
   ]
  },
  {
   "cell_type": "code",
   "execution_count": 60,
   "metadata": {},
   "outputs": [],
   "source": [
    "X_train,X_test,y_train,y_test=train_test_split(X,y,stratify=y,random_state=42)"
   ]
  },
  {
   "cell_type": "code",
   "execution_count": 61,
   "metadata": {},
   "outputs": [
    {
     "name": "stdout",
     "output_type": "stream",
     "text": [
      "(59076, 36) (59076,)\n",
      "(19692, 36) (19692,)\n"
     ]
    }
   ],
   "source": [
    "print((X_train.shape),y_train.shape)\n",
    "print((X_test.shape),y_test.shape)"
   ]
  },
  {
   "cell_type": "code",
   "execution_count": 62,
   "metadata": {},
   "outputs": [
    {
     "name": "stdout",
     "output_type": "stream",
     "text": [
      "Model: \"sequential\"\n",
      "_________________________________________________________________\n",
      " Layer (type)                Output Shape              Param #   \n",
      "=================================================================\n",
      " dense (Dense)               (None, 64)                2368      \n",
      "                                                                 \n",
      " dense_1 (Dense)             (None, 64)                4160      \n",
      "                                                                 \n",
      " dropout (Dropout)           (None, 64)                0         \n",
      "                                                                 \n",
      " batch_normalization (BatchN  (None, 64)               256       \n",
      " ormalization)                                                   \n",
      "                                                                 \n",
      " dense_2 (Dense)             (None, 16)                1040      \n",
      "                                                                 \n",
      " dense_3 (Dense)             (None, 1)                 17        \n",
      "                                                                 \n",
      "=================================================================\n",
      "Total params: 7,841\n",
      "Trainable params: 7,713\n",
      "Non-trainable params: 128\n",
      "_________________________________________________________________\n"
     ]
    },
    {
     "name": "stderr",
     "output_type": "stream",
     "text": [
      "C:\\Anaconda\\lib\\site-packages\\keras\\optimizer_v2\\adam.py:105: UserWarning: The `lr` argument is deprecated, use `learning_rate` instead.\n",
      "  super(Adam, self).__init__(name, **kwargs)\n"
     ]
    }
   ],
   "source": [
    "input_shape=(36,)\n",
    "model1=Sequential()\n",
    "\n",
    "model1.add(Dense(64,activation='relu',input_shape=input_shape,kernel_initializer=he_normal(),kernel_regularizer=tf.keras.regularizers.l1(0.0001)))\n",
    "model1.add((Dense(64,activation='relu',kernel_initializer=he_normal(),kernel_regularizer=tf.keras.regularizers.l1(0.0001))))\n",
    "model1.add(Dropout(0.5))\n",
    "model1.add(BatchNormalization())\n",
    "model1.add((Dense(16,activation='relu',kernel_initializer=he_normal(),kernel_regularizer=tf.keras.regularizers.l1(0.0001))))\n",
    "model1.add(Dense(1, activation='sigmoid',kernel_initializer=he_normal(),kernel_regularizer=tf.keras.regularizers.l1(0.0001)))\n",
    "model1.compile(loss='binary_crossentropy',optimizer=Adam(lr=0.0001),metrics=['accuracy'])\n",
    "\n",
    "model1.summary()"
   ]
  },
  {
   "cell_type": "code",
   "execution_count": 63,
   "metadata": {},
   "outputs": [
    {
     "name": "stdout",
     "output_type": "stream",
     "text": [
      "Epoch 1/10\n",
      "1847/1847 [==============================] - 4s 2ms/step - loss: 0.2806 - accuracy: 0.9554 - val_loss: 0.1369 - val_accuracy: 0.9896\n",
      "Epoch 2/10\n",
      "1847/1847 [==============================] - 3s 2ms/step - loss: 0.1380 - accuracy: 0.9906 - val_loss: 0.1126 - val_accuracy: 0.9963\n",
      "Epoch 3/10\n",
      "1847/1847 [==============================] - 4s 2ms/step - loss: 0.1156 - accuracy: 0.9941 - val_loss: 0.0991 - val_accuracy: 0.9987\n",
      "Epoch 4/10\n",
      "1847/1847 [==============================] - 3s 2ms/step - loss: 0.1022 - accuracy: 0.9958 - val_loss: 0.0898 - val_accuracy: 0.9990\n",
      "Epoch 5/10\n",
      "1847/1847 [==============================] - 3s 2ms/step - loss: 0.0934 - accuracy: 0.9967 - val_loss: 0.0832 - val_accuracy: 0.9990\n",
      "Epoch 6/10\n",
      "1847/1847 [==============================] - 3s 2ms/step - loss: 0.0853 - accuracy: 0.9976 - val_loss: 0.0770 - val_accuracy: 0.9991\n",
      "Epoch 7/10\n",
      "1847/1847 [==============================] - 4s 2ms/step - loss: 0.0788 - accuracy: 0.9976 - val_loss: 0.0712 - val_accuracy: 0.9994\n",
      "Epoch 8/10\n",
      "1847/1847 [==============================] - 3s 2ms/step - loss: 0.0732 - accuracy: 0.9979 - val_loss: 0.0670 - val_accuracy: 0.9992\n",
      "Epoch 9/10\n",
      "1847/1847 [==============================] - 3s 2ms/step - loss: 0.0688 - accuracy: 0.9980 - val_loss: 0.0627 - val_accuracy: 0.9991\n",
      "Epoch 10/10\n",
      "1847/1847 [==============================] - 3s 2ms/step - loss: 0.0643 - accuracy: 0.9982 - val_loss: 0.0590 - val_accuracy: 0.9992\n"
     ]
    }
   ],
   "source": [
    "# log_dir = os.path.join(\"logs\", datetime.datetime.now().strftime(\"%Y%m%d-%H%M%S\"))\n",
    "# tensorboard_callback = tf.keras.callbacks.TensorBoard(log_dir=log_dir,histogram_freq=1,write_graph=True)\n",
    "\n",
    "history=model1.fit(X_train,y_train,epochs=10,verbose=1,batch_size=32,\n",
    "         validation_data=(X_test,y_test))"
   ]
  },
  {
   "cell_type": "code",
   "execution_count": 64,
   "metadata": {},
   "outputs": [
    {
     "data": {
      "image/png": "[encoded data removed]",
      "text/plain": [
       "<Figure size 576x576 with 1 Axes>"
      ]
     },
     "metadata": {
      "needs_background": "light"
     },
     "output_type": "display_data"
    },
    {
     "data": {
      "image/png": "[encoded data removed]",
      "text/plain": [
       "<Figure size 576x576 with 1 Axes>"
      ]
     },
     "metadata": {
      "needs_background": "light"
     },
     "output_type": "display_data"
    }
   ],
   "source": [
    "# machine learning mastery\n",
    "plt.figure(figsize=(8,8))\n",
    "plt.plot(history.history['accuracy'])\n",
    "plt.plot(history.history['val_accuracy'])\n",
    "plt.title('model accuracy')\n",
    "plt.ylabel('accuracy')\n",
    "plt.xlabel('epoch')\n",
    "plt.legend(['train', 'test'], loc='upper left')\n",
    "plt.show()\n",
    "\n",
    "\n",
    "plt.figure(figsize=(8,8))\n",
    "plt.plot(history.history['loss'])\n",
    "plt.plot(history.history['val_loss'])\n",
    "plt.title('model loss')\n",
    "plt.ylabel('loss')\n",
    "plt.xlabel('epoch')\n",
    "plt.legend(['train', 'test'], loc='upper left')\n",
    "plt.show()"
   ]
  },
  {
   "cell_type": "code",
   "execution_count": 65,
   "metadata": {},
   "outputs": [
    {
     "name": "stdout",
     "output_type": "stream",
     "text": [
      "[0 0 0 ... 0 0 0]\n",
      "19692\n",
      "[[1.9268582e-05]\n",
      " [3.8488507e-03]\n",
      " [5.8189034e-03]\n",
      " ...\n",
      " [2.0946949e-05]\n",
      " [4.0732539e-05]\n",
      " [8.2069535e-05]]\n"
     ]
    }
   ],
   "source": [
    "y_pred=model1.predict(X_test)\n",
    "\n",
    "\n",
    "print(y_test)\n",
    "print(len(y_test))\n",
    "\n",
    "print(y_pred)"
   ]
  },
  {
   "cell_type": "code",
   "execution_count": 66,
   "metadata": {},
   "outputs": [
    {
     "name": "stdout",
     "output_type": "stream",
     "text": [
      "[[1.9268582e-05]\n",
      " [3.8488507e-03]\n",
      " [5.8189034e-03]\n",
      " ...\n",
      " [2.0946949e-05]\n",
      " [4.0732539e-05]\n",
      " [8.2069535e-05]]\n",
      "19692\n"
     ]
    }
   ],
   "source": [
    "print(y_pred)\n",
    "\n",
    "result=list(map(lambda x:1 if x>=0.5 else 0,y_pred))\n",
    "print(len(result))"
   ]
  },
  {
   "cell_type": "code",
   "execution_count": 67,
   "metadata": {},
   "outputs": [
    {
     "data": {
      "image/png": "[encoded data removed]",
      "text/plain": [
       "<Figure size 720x720 with 2 Axes>"
      ]
     },
     "metadata": {
      "needs_background": "light"
     },
     "output_type": "display_data"
    }
   ],
   "source": [
    "cf_matrix=(confusion_matrix(y_test,result))\n",
    "\n",
    "\n",
    "# https://medium.com/@dtuk81/confusion-matrix-visualization-fc31e3f30fea\n",
    "plt.figure(figsize=(10,10))\n",
    "group_names = ['True Neg','False Pos','False Neg','True Pos']\n",
    "group_counts = [\"{0:0.0f}\".format(value) for value in\n",
    "                cf_matrix.flatten()]\n",
    "group_percentages = [\"{0:.2%}\".format(value) for value in\n",
    "                     cf_matrix.flatten()/np.sum(cf_matrix)]\n",
    "labels = [f\"{v1}\\n{v2}\\n{v3}\" for v1, v2, v3 in\n",
    "          zip(group_names,group_counts,group_percentages)]\n",
    "labels = np.asarray(labels).reshape(2,2)\n",
    "sns.heatmap(cf_matrix, annot=labels, fmt='', cmap='Blues')\n",
    "plt.show()"
   ]
  },
  {
   "cell_type": "code",
   "execution_count": 68,
   "metadata": {},
   "outputs": [
    {
     "name": "stdout",
     "output_type": "stream",
     "text": [
      "              precision    recall  f1-score   support\n",
      "\n",
      "           0       1.00      1.00      1.00     16562\n",
      "           1       1.00      1.00      1.00      3130\n",
      "\n",
      "    accuracy                           1.00     19692\n",
      "   macro avg       1.00      1.00      1.00     19692\n",
      "weighted avg       1.00      1.00      1.00     19692\n",
      "\n"
     ]
    }
   ],
   "source": [
    "print(classification_report(y_test,result))"
   ]
  },
  {
   "cell_type": "markdown",
   "metadata": {},
   "source": [
    "Taken a random sample of points to check the model,how model is performing."
   ]
  },
  {
   "cell_type": "code",
   "execution_count": 69,
   "metadata": {},
   "outputs": [],
   "source": [
    "data_sample=data_scaled.sample(n=40000)\n",
    "y_actual=data_sample['Kmean-Labels'].values"
   ]
  },
  {
   "cell_type": "code",
   "execution_count": 70,
   "metadata": {},
   "outputs": [
    {
     "data": {
      "text/html": [
       "<div>\n",
       "<style scoped>\n",
       "    .dataframe tbody tr th:only-of-type {\n",
       "        vertical-align: middle;\n",
       "    }\n",
       "\n",
       "    .dataframe tbody tr th {\n",
       "        vertical-align: top;\n",
       "    }\n",
       "\n",
       "    .dataframe thead th {\n",
       "        text-align: right;\n",
       "    }\n",
       "</style>\n",
       "<table border=\"1\" class=\"dataframe\">\n",
       "  <thead>\n",
       "    <tr style=\"text-align: right;\">\n",
       "      <th></th>\n",
       "      <th>Age</th>\n",
       "      <th>DaysSinceCreation</th>\n",
       "      <th>AverageLeadTime</th>\n",
       "      <th>LodgingRevenue</th>\n",
       "      <th>OtherRevenue</th>\n",
       "      <th>BookingsCanceled</th>\n",
       "      <th>BookingsNoShowed</th>\n",
       "      <th>BookingsCheckedIn</th>\n",
       "      <th>PersonsNights</th>\n",
       "      <th>RoomNights</th>\n",
       "      <th>DaysSinceLastStay</th>\n",
       "      <th>DaysSinceFirstStay</th>\n",
       "      <th>SRHighFloor</th>\n",
       "      <th>SRLowFloor</th>\n",
       "      <th>SRAccessibleRoom</th>\n",
       "      <th>SRMediumFloor</th>\n",
       "      <th>SRBathtub</th>\n",
       "      <th>SRShower</th>\n",
       "      <th>SRCrib</th>\n",
       "      <th>SRKingSizeBed</th>\n",
       "      <th>SRTwinBed</th>\n",
       "      <th>SRNearElevator</th>\n",
       "      <th>SRAwayFromElevator</th>\n",
       "      <th>SRNoAlcoholInMiniBar</th>\n",
       "      <th>SRQuietRoom</th>\n",
       "      <th>Corporate</th>\n",
       "      <th>Direct</th>\n",
       "      <th>Electronic Distribution</th>\n",
       "      <th>Travel Agent/Operator</th>\n",
       "      <th>Aviation</th>\n",
       "      <th>Complementary</th>\n",
       "      <th>Corporate</th>\n",
       "      <th>Direct</th>\n",
       "      <th>Groups</th>\n",
       "      <th>Other</th>\n",
       "      <th>Travel Agent/Operator</th>\n",
       "    </tr>\n",
       "  </thead>\n",
       "  <tbody>\n",
       "    <tr>\n",
       "      <th>7269</th>\n",
       "      <td>0.289256</td>\n",
       "      <td>0.848569</td>\n",
       "      <td>0.232993</td>\n",
       "      <td>0.022386</td>\n",
       "      <td>0.004851</td>\n",
       "      <td>0.0</td>\n",
       "      <td>0.0</td>\n",
       "      <td>0.015152</td>\n",
       "      <td>0.051724</td>\n",
       "      <td>0.025862</td>\n",
       "      <td>0.846154</td>\n",
       "      <td>0.836315</td>\n",
       "      <td>0.0</td>\n",
       "      <td>0.0</td>\n",
       "      <td>0.0</td>\n",
       "      <td>0.0</td>\n",
       "      <td>0.0</td>\n",
       "      <td>0.0</td>\n",
       "      <td>0.0</td>\n",
       "      <td>0.0</td>\n",
       "      <td>0.0</td>\n",
       "      <td>0.0</td>\n",
       "      <td>0.0</td>\n",
       "      <td>0.0</td>\n",
       "      <td>0.0</td>\n",
       "      <td>0.0</td>\n",
       "      <td>0.0</td>\n",
       "      <td>0.0</td>\n",
       "      <td>1.0</td>\n",
       "      <td>0.0</td>\n",
       "      <td>0.0</td>\n",
       "      <td>0.0</td>\n",
       "      <td>0.0</td>\n",
       "      <td>0.0</td>\n",
       "      <td>0.0</td>\n",
       "      <td>1.0</td>\n",
       "    </tr>\n",
       "    <tr>\n",
       "      <th>51754</th>\n",
       "      <td>0.421488</td>\n",
       "      <td>0.211450</td>\n",
       "      <td>0.197279</td>\n",
       "      <td>0.055946</td>\n",
       "      <td>0.020633</td>\n",
       "      <td>0.0</td>\n",
       "      <td>0.0</td>\n",
       "      <td>0.015152</td>\n",
       "      <td>0.103448</td>\n",
       "      <td>0.034483</td>\n",
       "      <td>0.222624</td>\n",
       "      <td>0.220036</td>\n",
       "      <td>0.0</td>\n",
       "      <td>0.0</td>\n",
       "      <td>0.0</td>\n",
       "      <td>0.0</td>\n",
       "      <td>0.0</td>\n",
       "      <td>0.0</td>\n",
       "      <td>0.0</td>\n",
       "      <td>1.0</td>\n",
       "      <td>0.0</td>\n",
       "      <td>0.0</td>\n",
       "      <td>0.0</td>\n",
       "      <td>0.0</td>\n",
       "      <td>0.0</td>\n",
       "      <td>0.0</td>\n",
       "      <td>0.0</td>\n",
       "      <td>0.0</td>\n",
       "      <td>1.0</td>\n",
       "      <td>0.0</td>\n",
       "      <td>0.0</td>\n",
       "      <td>0.0</td>\n",
       "      <td>0.0</td>\n",
       "      <td>0.0</td>\n",
       "      <td>1.0</td>\n",
       "      <td>0.0</td>\n",
       "    </tr>\n",
       "    <tr>\n",
       "      <th>36061</th>\n",
       "      <td>0.314050</td>\n",
       "      <td>0.402585</td>\n",
       "      <td>0.013605</td>\n",
       "      <td>0.026956</td>\n",
       "      <td>0.011060</td>\n",
       "      <td>0.0</td>\n",
       "      <td>0.0</td>\n",
       "      <td>0.015152</td>\n",
       "      <td>0.051724</td>\n",
       "      <td>0.025862</td>\n",
       "      <td>0.409050</td>\n",
       "      <td>0.404293</td>\n",
       "      <td>0.0</td>\n",
       "      <td>0.0</td>\n",
       "      <td>0.0</td>\n",
       "      <td>0.0</td>\n",
       "      <td>0.0</td>\n",
       "      <td>0.0</td>\n",
       "      <td>0.0</td>\n",
       "      <td>0.0</td>\n",
       "      <td>0.0</td>\n",
       "      <td>0.0</td>\n",
       "      <td>0.0</td>\n",
       "      <td>0.0</td>\n",
       "      <td>0.0</td>\n",
       "      <td>0.0</td>\n",
       "      <td>0.0</td>\n",
       "      <td>0.0</td>\n",
       "      <td>1.0</td>\n",
       "      <td>0.0</td>\n",
       "      <td>0.0</td>\n",
       "      <td>0.0</td>\n",
       "      <td>0.0</td>\n",
       "      <td>0.0</td>\n",
       "      <td>1.0</td>\n",
       "      <td>0.0</td>\n",
       "    </tr>\n",
       "    <tr>\n",
       "      <th>8015</th>\n",
       "      <td>0.421488</td>\n",
       "      <td>0.836565</td>\n",
       "      <td>0.326531</td>\n",
       "      <td>0.018384</td>\n",
       "      <td>0.002329</td>\n",
       "      <td>0.0</td>\n",
       "      <td>0.0</td>\n",
       "      <td>0.015152</td>\n",
       "      <td>0.017241</td>\n",
       "      <td>0.017241</td>\n",
       "      <td>0.833484</td>\n",
       "      <td>0.823792</td>\n",
       "      <td>0.0</td>\n",
       "      <td>0.0</td>\n",
       "      <td>0.0</td>\n",
       "      <td>0.0</td>\n",
       "      <td>0.0</td>\n",
       "      <td>0.0</td>\n",
       "      <td>0.0</td>\n",
       "      <td>0.0</td>\n",
       "      <td>0.0</td>\n",
       "      <td>0.0</td>\n",
       "      <td>0.0</td>\n",
       "      <td>0.0</td>\n",
       "      <td>0.0</td>\n",
       "      <td>0.0</td>\n",
       "      <td>0.0</td>\n",
       "      <td>0.0</td>\n",
       "      <td>1.0</td>\n",
       "      <td>0.0</td>\n",
       "      <td>0.0</td>\n",
       "      <td>0.0</td>\n",
       "      <td>0.0</td>\n",
       "      <td>1.0</td>\n",
       "      <td>0.0</td>\n",
       "      <td>0.0</td>\n",
       "    </tr>\n",
       "    <tr>\n",
       "      <th>59716</th>\n",
       "      <td>0.347107</td>\n",
       "      <td>0.150508</td>\n",
       "      <td>0.000000</td>\n",
       "      <td>0.000000</td>\n",
       "      <td>0.000000</td>\n",
       "      <td>0.0</td>\n",
       "      <td>0.0</td>\n",
       "      <td>0.000000</td>\n",
       "      <td>0.000000</td>\n",
       "      <td>0.000000</td>\n",
       "      <td>0.000000</td>\n",
       "      <td>0.000000</td>\n",
       "      <td>1.0</td>\n",
       "      <td>0.0</td>\n",
       "      <td>0.0</td>\n",
       "      <td>0.0</td>\n",
       "      <td>0.0</td>\n",
       "      <td>0.0</td>\n",
       "      <td>0.0</td>\n",
       "      <td>1.0</td>\n",
       "      <td>0.0</td>\n",
       "      <td>0.0</td>\n",
       "      <td>0.0</td>\n",
       "      <td>0.0</td>\n",
       "      <td>0.0</td>\n",
       "      <td>0.0</td>\n",
       "      <td>0.0</td>\n",
       "      <td>0.0</td>\n",
       "      <td>1.0</td>\n",
       "      <td>0.0</td>\n",
       "      <td>0.0</td>\n",
       "      <td>0.0</td>\n",
       "      <td>0.0</td>\n",
       "      <td>0.0</td>\n",
       "      <td>1.0</td>\n",
       "      <td>0.0</td>\n",
       "    </tr>\n",
       "  </tbody>\n",
       "</table>\n",
       "</div>"
      ],
      "text/plain": [
       "            Age  DaysSinceCreation  AverageLeadTime  LodgingRevenue  \\\n",
       "7269   0.289256           0.848569         0.232993        0.022386   \n",
       "51754  0.421488           0.211450         0.197279        0.055946   \n",
       "36061  0.314050           0.402585         0.013605        0.026956   \n",
       "8015   0.421488           0.836565         0.326531        0.018384   \n",
       "59716  0.347107           0.150508         0.000000        0.000000   \n",
       "\n",
       "       OtherRevenue  BookingsCanceled  BookingsNoShowed  BookingsCheckedIn  \\\n",
       "7269       0.004851               0.0               0.0           0.015152   \n",
       "51754      0.020633               0.0               0.0           0.015152   \n",
       "36061      0.011060               0.0               0.0           0.015152   \n",
       "8015       0.002329               0.0               0.0           0.015152   \n",
       "59716      0.000000               0.0               0.0           0.000000   \n",
       "\n",
       "       PersonsNights  RoomNights  DaysSinceLastStay  DaysSinceFirstStay  \\\n",
       "7269        0.051724    0.025862           0.846154            0.836315   \n",
       "51754       0.103448    0.034483           0.222624            0.220036   \n",
       "36061       0.051724    0.025862           0.409050            0.404293   \n",
       "8015        0.017241    0.017241           0.833484            0.823792   \n",
       "59716       0.000000    0.000000           0.000000            0.000000   \n",
       "\n",
       "       SRHighFloor  SRLowFloor  SRAccessibleRoom  SRMediumFloor  SRBathtub  \\\n",
       "7269           0.0         0.0               0.0            0.0        0.0   \n",
       "51754          0.0         0.0               0.0            0.0        0.0   \n",
       "36061          0.0         0.0               0.0            0.0        0.0   \n",
       "8015           0.0         0.0               0.0            0.0        0.0   \n",
       "59716          1.0         0.0               0.0            0.0        0.0   \n",
       "\n",
       "       SRShower  SRCrib  SRKingSizeBed  SRTwinBed  SRNearElevator  \\\n",
       "7269        0.0     0.0            0.0        0.0             0.0   \n",
       "51754       0.0     0.0            1.0        0.0             0.0   \n",
       "36061       0.0     0.0            0.0        0.0             0.0   \n",
       "8015        0.0     0.0            0.0        0.0             0.0   \n",
       "59716       0.0     0.0            1.0        0.0             0.0   \n",
       "\n",
       "       SRAwayFromElevator  SRNoAlcoholInMiniBar  SRQuietRoom  Corporate  \\\n",
       "7269                  0.0                   0.0          0.0        0.0   \n",
       "51754                 0.0                   0.0          0.0        0.0   \n",
       "36061                 0.0                   0.0          0.0        0.0   \n",
       "8015                  0.0                   0.0          0.0        0.0   \n",
       "59716                 0.0                   0.0          0.0        0.0   \n",
       "\n",
       "       Direct  Electronic Distribution  Travel Agent/Operator  Aviation  \\\n",
       "7269      0.0                      0.0                    1.0       0.0   \n",
       "51754     0.0                      0.0                    1.0       0.0   \n",
       "36061     0.0                      0.0                    1.0       0.0   \n",
       "8015      0.0                      0.0                    1.0       0.0   \n",
       "59716     0.0                      0.0                    1.0       0.0   \n",
       "\n",
       "       Complementary  Corporate  Direct  Groups  Other  Travel Agent/Operator  \n",
       "7269             0.0        0.0     0.0     0.0    0.0                    1.0  \n",
       "51754            0.0        0.0     0.0     0.0    1.0                    0.0  \n",
       "36061            0.0        0.0     0.0     0.0    1.0                    0.0  \n",
       "8015             0.0        0.0     0.0     1.0    0.0                    0.0  \n",
       "59716            0.0        0.0     0.0     0.0    1.0                    0.0  "
      ]
     },
     "execution_count": 70,
     "metadata": {},
     "output_type": "execute_result"
    }
   ],
   "source": [
    "data_sample_1=data_sample.drop(['Kmean-Labels'],axis=1)\n",
    "\n",
    "data_sample_1.head()"
   ]
  },
  {
   "cell_type": "code",
   "execution_count": 71,
   "metadata": {},
   "outputs": [
    {
     "name": "stdout",
     "output_type": "stream",
     "text": [
      "[[6.2682440e-05]\n",
      " [1.4841557e-04]\n",
      " [4.2482810e-05]\n",
      " ...\n",
      " [1.4501810e-04]\n",
      " [3.1845022e-05]\n",
      " [1.7118454e-04]]\n"
     ]
    }
   ],
   "source": [
    "y_predicted=model1.predict(data_sample_1)\n",
    "\n",
    "print(y_predicted)"
   ]
  },
  {
   "cell_type": "code",
   "execution_count": 72,
   "metadata": {},
   "outputs": [
    {
     "name": "stdout",
     "output_type": "stream",
     "text": [
      "19692\n"
     ]
    }
   ],
   "source": [
    "result_new=list(map(lambda x:1 if x>=0.5 else 0,y_pred))\n",
    "print(len(result_new))\n",
    "# print(result)"
   ]
  },
  {
   "cell_type": "code",
   "execution_count": 73,
   "metadata": {},
   "outputs": [
    {
     "data": {
      "image/png": "[encoded data removed]",
      "text/plain": [
       "<Figure size 720x720 with 2 Axes>"
      ]
     },
     "metadata": {
      "needs_background": "light"
     },
     "output_type": "display_data"
    }
   ],
   "source": [
    "cf_matrix=(confusion_matrix(y_test,result_new))\n",
    "\n",
    "\n",
    "# https://medium.com/@dtuk81/confusion-matrix-visualization-fc31e3f30fea\n",
    "plt.figure(figsize=(10,10))\n",
    "group_names = ['True Neg','False Pos','False Neg','True Pos']\n",
    "group_counts = [\"{0:0.0f}\".format(value) for value in\n",
    "                cf_matrix.flatten()]\n",
    "group_percentages = [\"{0:.2%}\".format(value) for value in\n",
    "                     cf_matrix.flatten()/np.sum(cf_matrix)]\n",
    "labels = [f\"{v1}\\n{v2}\\n{v3}\" for v1, v2, v3 in\n",
    "          zip(group_names,group_counts,group_percentages)]\n",
    "labels = np.asarray(labels).reshape(2,2)\n",
    "sns.heatmap(cf_matrix, annot=labels, fmt='', cmap='Blues')\n",
    "plt.show()"
   ]
  },
  {
   "cell_type": "markdown",
   "metadata": {},
   "source": [
    "# Model 2"
   ]
  },
  {
   "cell_type": "markdown",
   "metadata": {},
   "source": [
    "This model take original features. I have done clustering and taken number of clusters =2 for binary classification task as either will person be going to checked in or not.\n",
    "\n",
    "The feature are visualized by PCA with n_compenents =2. The number of clusters taken 2 beacause I have to classify the \n",
    "either will person be going to checked in or not. The number of clusters can be taken more than 2 by using elbow method. \n",
    "\n",
    "\n",
    "The binary value 0 means that person will be going to checked in and binary value 1 means that person will not be going to be \n",
    "checked in."
   ]
  },
  {
   "cell_type": "code",
   "execution_count": 74,
   "metadata": {},
   "outputs": [
    {
     "data": {
      "text/html": [
       "<div>\n",
       "<style scoped>\n",
       "    .dataframe tbody tr th:only-of-type {\n",
       "        vertical-align: middle;\n",
       "    }\n",
       "\n",
       "    .dataframe tbody tr th {\n",
       "        vertical-align: top;\n",
       "    }\n",
       "\n",
       "    .dataframe thead th {\n",
       "        text-align: right;\n",
       "    }\n",
       "</style>\n",
       "<table border=\"1\" class=\"dataframe\">\n",
       "  <thead>\n",
       "    <tr style=\"text-align: right;\">\n",
       "      <th></th>\n",
       "      <th>Age</th>\n",
       "      <th>DaysSinceCreation</th>\n",
       "      <th>AverageLeadTime</th>\n",
       "      <th>LodgingRevenue</th>\n",
       "      <th>OtherRevenue</th>\n",
       "      <th>BookingsCanceled</th>\n",
       "      <th>BookingsNoShowed</th>\n",
       "      <th>BookingsCheckedIn</th>\n",
       "      <th>PersonsNights</th>\n",
       "      <th>RoomNights</th>\n",
       "      <th>DaysSinceLastStay</th>\n",
       "      <th>DaysSinceFirstStay</th>\n",
       "      <th>SRHighFloor</th>\n",
       "      <th>SRLowFloor</th>\n",
       "      <th>SRAccessibleRoom</th>\n",
       "      <th>SRMediumFloor</th>\n",
       "      <th>SRBathtub</th>\n",
       "      <th>SRShower</th>\n",
       "      <th>SRCrib</th>\n",
       "      <th>SRKingSizeBed</th>\n",
       "      <th>SRTwinBed</th>\n",
       "      <th>SRNearElevator</th>\n",
       "      <th>SRAwayFromElevator</th>\n",
       "      <th>SRNoAlcoholInMiniBar</th>\n",
       "      <th>SRQuietRoom</th>\n",
       "    </tr>\n",
       "  </thead>\n",
       "  <tbody>\n",
       "    <tr>\n",
       "      <th>0</th>\n",
       "      <td>51.0</td>\n",
       "      <td>150</td>\n",
       "      <td>45</td>\n",
       "      <td>371.0</td>\n",
       "      <td>105.3</td>\n",
       "      <td>1</td>\n",
       "      <td>0</td>\n",
       "      <td>3</td>\n",
       "      <td>8</td>\n",
       "      <td>5</td>\n",
       "      <td>151</td>\n",
       "      <td>1074</td>\n",
       "      <td>0</td>\n",
       "      <td>0</td>\n",
       "      <td>0</td>\n",
       "      <td>0</td>\n",
       "      <td>0</td>\n",
       "      <td>0</td>\n",
       "      <td>0</td>\n",
       "      <td>0</td>\n",
       "      <td>0</td>\n",
       "      <td>0</td>\n",
       "      <td>0</td>\n",
       "      <td>0</td>\n",
       "      <td>0</td>\n",
       "    </tr>\n",
       "    <tr>\n",
       "      <th>2</th>\n",
       "      <td>31.0</td>\n",
       "      <td>1095</td>\n",
       "      <td>0</td>\n",
       "      <td>0.0</td>\n",
       "      <td>0.0</td>\n",
       "      <td>0</td>\n",
       "      <td>0</td>\n",
       "      <td>0</td>\n",
       "      <td>0</td>\n",
       "      <td>0</td>\n",
       "      <td>-1</td>\n",
       "      <td>-1</td>\n",
       "      <td>0</td>\n",
       "      <td>0</td>\n",
       "      <td>0</td>\n",
       "      <td>0</td>\n",
       "      <td>0</td>\n",
       "      <td>0</td>\n",
       "      <td>0</td>\n",
       "      <td>0</td>\n",
       "      <td>0</td>\n",
       "      <td>0</td>\n",
       "      <td>0</td>\n",
       "      <td>0</td>\n",
       "      <td>0</td>\n",
       "    </tr>\n",
       "    <tr>\n",
       "      <th>3</th>\n",
       "      <td>60.0</td>\n",
       "      <td>1095</td>\n",
       "      <td>93</td>\n",
       "      <td>240.0</td>\n",
       "      <td>60.0</td>\n",
       "      <td>0</td>\n",
       "      <td>0</td>\n",
       "      <td>1</td>\n",
       "      <td>10</td>\n",
       "      <td>5</td>\n",
       "      <td>1100</td>\n",
       "      <td>1100</td>\n",
       "      <td>0</td>\n",
       "      <td>0</td>\n",
       "      <td>0</td>\n",
       "      <td>0</td>\n",
       "      <td>0</td>\n",
       "      <td>0</td>\n",
       "      <td>0</td>\n",
       "      <td>0</td>\n",
       "      <td>0</td>\n",
       "      <td>0</td>\n",
       "      <td>0</td>\n",
       "      <td>0</td>\n",
       "      <td>0</td>\n",
       "    </tr>\n",
       "    <tr>\n",
       "      <th>4</th>\n",
       "      <td>51.0</td>\n",
       "      <td>1095</td>\n",
       "      <td>0</td>\n",
       "      <td>0.0</td>\n",
       "      <td>0.0</td>\n",
       "      <td>0</td>\n",
       "      <td>0</td>\n",
       "      <td>0</td>\n",
       "      <td>0</td>\n",
       "      <td>0</td>\n",
       "      <td>-1</td>\n",
       "      <td>-1</td>\n",
       "      <td>0</td>\n",
       "      <td>0</td>\n",
       "      <td>0</td>\n",
       "      <td>0</td>\n",
       "      <td>0</td>\n",
       "      <td>0</td>\n",
       "      <td>0</td>\n",
       "      <td>0</td>\n",
       "      <td>0</td>\n",
       "      <td>0</td>\n",
       "      <td>0</td>\n",
       "      <td>0</td>\n",
       "      <td>0</td>\n",
       "    </tr>\n",
       "    <tr>\n",
       "      <th>5</th>\n",
       "      <td>54.0</td>\n",
       "      <td>1095</td>\n",
       "      <td>58</td>\n",
       "      <td>230.0</td>\n",
       "      <td>24.0</td>\n",
       "      <td>0</td>\n",
       "      <td>0</td>\n",
       "      <td>1</td>\n",
       "      <td>4</td>\n",
       "      <td>2</td>\n",
       "      <td>1097</td>\n",
       "      <td>1097</td>\n",
       "      <td>0</td>\n",
       "      <td>0</td>\n",
       "      <td>0</td>\n",
       "      <td>0</td>\n",
       "      <td>0</td>\n",
       "      <td>0</td>\n",
       "      <td>0</td>\n",
       "      <td>0</td>\n",
       "      <td>0</td>\n",
       "      <td>0</td>\n",
       "      <td>0</td>\n",
       "      <td>0</td>\n",
       "      <td>0</td>\n",
       "    </tr>\n",
       "  </tbody>\n",
       "</table>\n",
       "</div>"
      ],
      "text/plain": [
       "    Age  DaysSinceCreation  AverageLeadTime  LodgingRevenue  OtherRevenue  \\\n",
       "0  51.0                150               45           371.0         105.3   \n",
       "2  31.0               1095                0             0.0           0.0   \n",
       "3  60.0               1095               93           240.0          60.0   \n",
       "4  51.0               1095                0             0.0           0.0   \n",
       "5  54.0               1095               58           230.0          24.0   \n",
       "\n",
       "   BookingsCanceled  BookingsNoShowed  BookingsCheckedIn  PersonsNights  \\\n",
       "0                 1                 0                  3              8   \n",
       "2                 0                 0                  0              0   \n",
       "3                 0                 0                  1             10   \n",
       "4                 0                 0                  0              0   \n",
       "5                 0                 0                  1              4   \n",
       "\n",
       "   RoomNights  DaysSinceLastStay  DaysSinceFirstStay  SRHighFloor  SRLowFloor  \\\n",
       "0           5                151                1074            0           0   \n",
       "2           0                 -1                  -1            0           0   \n",
       "3           5               1100                1100            0           0   \n",
       "4           0                 -1                  -1            0           0   \n",
       "5           2               1097                1097            0           0   \n",
       "\n",
       "   SRAccessibleRoom  SRMediumFloor  SRBathtub  SRShower  SRCrib  \\\n",
       "0                 0              0          0         0       0   \n",
       "2                 0              0          0         0       0   \n",
       "3                 0              0          0         0       0   \n",
       "4                 0              0          0         0       0   \n",
       "5                 0              0          0         0       0   \n",
       "\n",
       "   SRKingSizeBed  SRTwinBed  SRNearElevator  SRAwayFromElevator  \\\n",
       "0              0          0               0                   0   \n",
       "2              0          0               0                   0   \n",
       "3              0          0               0                   0   \n",
       "4              0          0               0                   0   \n",
       "5              0          0               0                   0   \n",
       "\n",
       "   SRNoAlcoholInMiniBar  SRQuietRoom  \n",
       "0                     0            0  \n",
       "2                     0            0  \n",
       "3                     0            0  \n",
       "4                     0            0  \n",
       "5                     0            0  "
      ]
     },
     "execution_count": 74,
     "metadata": {},
     "output_type": "execute_result"
    }
   ],
   "source": [
    "data_new.head()"
   ]
  },
  {
   "cell_type": "code",
   "execution_count": 75,
   "metadata": {},
   "outputs": [],
   "source": [
    "scaler=MinMaxScaler()\n",
    "data_scaled_basic=scaler.fit_transform(data_new)\n",
    "\n",
    "data_scaled_basic=pd.DataFrame(data_scaled_basic,columns=data_new.columns)\n",
    "\n",
    "pca=PCA(n_components=2)\n",
    "data_pca_basic=pca.fit_transform(data_scaled_basic)\n"
   ]
  },
  {
   "cell_type": "code",
   "execution_count": 76,
   "metadata": {},
   "outputs": [
    {
     "data": {
      "text/plain": [
       "(78768, 2)"
      ]
     },
     "execution_count": 76,
     "metadata": {},
     "output_type": "execute_result"
    }
   ],
   "source": [
    "data_pca_basic.shape"
   ]
  },
  {
   "cell_type": "code",
   "execution_count": 77,
   "metadata": {},
   "outputs": [
    {
     "name": "stdout",
     "output_type": "stream",
     "text": [
      "[0 0 0 ... 1 0 0]\n"
     ]
    }
   ],
   "source": [
    "clustering = KMeans(n_clusters=2,init='k-means++', \n",
    "                    n_init=10, max_iter=300, tol=0.0001, verbose=0, random_state=None, copy_x=True, algorithm='elkan')\n",
    "clustering.fit_predict(data_pca_basic)\n",
    "train_labels=clustering.labels_\n",
    "\n",
    "print(train_labels)"
   ]
  },
  {
   "cell_type": "code",
   "execution_count": 78,
   "metadata": {},
   "outputs": [
    {
     "data": {
      "image/png": "[encoded data removed]",
      "text/plain": [
       "<Figure size 432x288 with 1 Axes>"
      ]
     },
     "metadata": {
      "needs_background": "light"
     },
     "output_type": "display_data"
    }
   ],
   "source": [
    "filtered_label0 = data_pca_basic[train_labels == 0]\n",
    " \n",
    "filtered_label1 = data_pca_basic[train_labels == 1]\n",
    " \n",
    "#Plotting the results\n",
    "plt.scatter(filtered_label0[:,0] , filtered_label0[:,1] , color = 'red')\n",
    "plt.scatter(filtered_label1[:,0] , filtered_label1[:,1] , color = 'black')\n",
    "plt.show()"
   ]
  },
  {
   "cell_type": "code",
   "execution_count": 79,
   "metadata": {},
   "outputs": [
    {
     "data": {
      "text/plain": [
       "(78768, 25)"
      ]
     },
     "execution_count": 79,
     "metadata": {},
     "output_type": "execute_result"
    }
   ],
   "source": [
    "data_scaled_basic.shape"
   ]
  },
  {
   "cell_type": "code",
   "execution_count": 80,
   "metadata": {},
   "outputs": [
    {
     "data": {
      "text/plain": [
       "0    50706\n",
       "1    28062\n",
       "Name: labels, dtype: int64"
      ]
     },
     "execution_count": 80,
     "metadata": {},
     "output_type": "execute_result"
    }
   ],
   "source": [
    "data_scaled_basic['labels']=train_labels\n",
    "data_scaled_basic['labels'].value_counts()"
   ]
  },
  {
   "cell_type": "code",
   "execution_count": 81,
   "metadata": {},
   "outputs": [],
   "source": [
    "y=data_scaled_basic['labels'].values\n",
    "X=data_scaled_basic.drop(['labels'],axis=1)"
   ]
  },
  {
   "cell_type": "code",
   "execution_count": 82,
   "metadata": {},
   "outputs": [
    {
     "data": {
      "text/plain": [
       "(78768, 26)"
      ]
     },
     "execution_count": 82,
     "metadata": {},
     "output_type": "execute_result"
    }
   ],
   "source": [
    "data_scaled_basic.shape"
   ]
  },
  {
   "cell_type": "code",
   "execution_count": 83,
   "metadata": {},
   "outputs": [
    {
     "name": "stdout",
     "output_type": "stream",
     "text": [
      "(59076, 25) (59076,)\n",
      "(19692, 25) (19692,)\n"
     ]
    }
   ],
   "source": [
    "X_train,X_test,y_train,y_test=train_test_split(X,y,stratify=y,random_state=42,shuffle=True)\n",
    "\n",
    "print((X_train.shape),y_train.shape)\n",
    "print((X_test.shape),y_test.shape)"
   ]
  },
  {
   "cell_type": "code",
   "execution_count": 84,
   "metadata": {},
   "outputs": [
    {
     "name": "stdout",
     "output_type": "stream",
     "text": [
      "Model: \"sequential_1\"\n",
      "_________________________________________________________________\n",
      " Layer (type)                Output Shape              Param #   \n",
      "=================================================================\n",
      " dense_4 (Dense)             (None, 64)                1664      \n",
      "                                                                 \n",
      " dense_5 (Dense)             (None, 32)                2080      \n",
      "                                                                 \n",
      " dropout_1 (Dropout)         (None, 32)                0         \n",
      "                                                                 \n",
      " batch_normalization_1 (Batc  (None, 32)               128       \n",
      " hNormalization)                                                 \n",
      "                                                                 \n",
      " dense_6 (Dense)             (None, 8)                 264       \n",
      "                                                                 \n",
      " dense_7 (Dense)             (None, 1)                 9         \n",
      "                                                                 \n",
      "=================================================================\n",
      "Total params: 4,145\n",
      "Trainable params: 4,081\n",
      "Non-trainable params: 64\n",
      "_________________________________________________________________\n"
     ]
    },
    {
     "name": "stderr",
     "output_type": "stream",
     "text": [
      "C:\\Anaconda\\lib\\site-packages\\keras\\optimizer_v2\\adam.py:105: UserWarning: The `lr` argument is deprecated, use `learning_rate` instead.\n",
      "  super(Adam, self).__init__(name, **kwargs)\n"
     ]
    }
   ],
   "source": [
    "input_shape=(25,)\n",
    "model2=Sequential()\n",
    "\n",
    "model2.add(Dense(64,activation='relu',input_shape=input_shape,kernel_initializer=he_normal(),kernel_regularizer=tf.keras.regularizers.l1(0.0001)))\n",
    "model2.add((Dense(32,activation='relu',kernel_initializer=he_normal(),kernel_regularizer=tf.keras.regularizers.l1(0.0001))))\n",
    "model2.add(Dropout(0.4))\n",
    "model2.add(BatchNormalization())\n",
    "model2.add((Dense(8,activation='relu',kernel_initializer=he_normal(),kernel_regularizer=tf.keras.regularizers.l1(0.0001))))\n",
    "model2.add(Dense(1, activation='sigmoid',kernel_initializer=he_normal(),kernel_regularizer=tf.keras.regularizers.l1(0.0001)))\n",
    "model2.compile(loss='binary_crossentropy',optimizer=Adam(lr=0.0001),metrics=['accuracy'])\n",
    "\n",
    "model2.summary()"
   ]
  },
  {
   "cell_type": "code",
   "execution_count": 85,
   "metadata": {},
   "outputs": [
    {
     "name": "stdout",
     "output_type": "stream",
     "text": [
      "Epoch 1/10\n",
      "1847/1847 [==============================] - 4s 2ms/step - loss: 0.2885 - accuracy: 0.9320 - val_loss: 0.0900 - val_accuracy: 0.9998\n",
      "Epoch 2/10\n",
      "1847/1847 [==============================] - 3s 2ms/step - loss: 0.0921 - accuracy: 0.9974 - val_loss: 0.0645 - val_accuracy: 1.0000\n",
      "Epoch 3/10\n",
      "1847/1847 [==============================] - 3s 2ms/step - loss: 0.0687 - accuracy: 0.9986 - val_loss: 0.0562 - val_accuracy: 1.0000\n",
      "Epoch 4/10\n",
      "1847/1847 [==============================] - 3s 2ms/step - loss: 0.0576 - accuracy: 0.9994 - val_loss: 0.0500 - val_accuracy: 1.0000\n",
      "Epoch 5/10\n",
      "1847/1847 [==============================] - 3s 2ms/step - loss: 0.0493 - accuracy: 0.9996 - val_loss: 0.0436 - val_accuracy: 1.0000\n",
      "Epoch 6/10\n",
      "1847/1847 [==============================] - 3s 2ms/step - loss: 0.0423 - accuracy: 0.9997 - val_loss: 0.0373 - val_accuracy: 1.0000\n",
      "Epoch 7/10\n",
      "1847/1847 [==============================] - 3s 2ms/step - loss: 0.0360 - accuracy: 0.9997 - val_loss: 0.0319 - val_accuracy: 1.0000\n",
      "Epoch 8/10\n",
      "1847/1847 [==============================] - 3s 2ms/step - loss: 0.0310 - accuracy: 0.9998 - val_loss: 0.0274 - val_accuracy: 1.0000\n",
      "Epoch 9/10\n",
      "1847/1847 [==============================] - 3s 2ms/step - loss: 0.0267 - accuracy: 0.9998 - val_loss: 0.0239 - val_accuracy: 1.0000\n",
      "Epoch 10/10\n",
      "1847/1847 [==============================] - 3s 2ms/step - loss: 0.0232 - accuracy: 0.9999 - val_loss: 0.0208 - val_accuracy: 1.0000\n"
     ]
    }
   ],
   "source": [
    "history=model2.fit(X_train,y_train,epochs=10,verbose=1,batch_size=32,\n",
    "         validation_data=(X_test,y_test))"
   ]
  },
  {
   "cell_type": "code",
   "execution_count": 86,
   "metadata": {},
   "outputs": [
    {
     "data": {
      "image/png": "[encoded data removed]",
      "text/plain": [
       "<Figure size 576x576 with 1 Axes>"
      ]
     },
     "metadata": {
      "needs_background": "light"
     },
     "output_type": "display_data"
    },
    {
     "data": {
      "image/png": "[encoded data removed]",
      "text/plain": [
       "<Figure size 576x576 with 1 Axes>"
      ]
     },
     "metadata": {
      "needs_background": "light"
     },
     "output_type": "display_data"
    }
   ],
   "source": [
    "# machine learning mastery\n",
    "plt.figure(figsize=(8,8))\n",
    "plt.plot(history.history['accuracy'])\n",
    "plt.plot(history.history['val_accuracy'])\n",
    "plt.title('model accuracy')\n",
    "plt.ylabel('accuracy')\n",
    "plt.xlabel('epoch')\n",
    "plt.legend(['train', 'test'], loc='upper left')\n",
    "plt.show()\n",
    "\n",
    "\n",
    "plt.figure(figsize=(8,8))\n",
    "plt.plot(history.history['loss'])\n",
    "plt.plot(history.history['val_loss'])\n",
    "plt.title('model loss')\n",
    "plt.ylabel('loss')\n",
    "plt.xlabel('epoch')\n",
    "plt.legend(['train', 'test'], loc='upper left')\n",
    "plt.show()"
   ]
  },
  {
   "cell_type": "code",
   "execution_count": 87,
   "metadata": {},
   "outputs": [
    {
     "name": "stdout",
     "output_type": "stream",
     "text": [
      "[0 0 0 ... 0 1 0]\n",
      "19692\n"
     ]
    }
   ],
   "source": [
    "y_pred=model2.predict(X_test)\n",
    "\n",
    "\n",
    "print(y_test)\n",
    "print(len(y_test))"
   ]
  },
  {
   "cell_type": "code",
   "execution_count": 88,
   "metadata": {},
   "outputs": [
    {
     "name": "stdout",
     "output_type": "stream",
     "text": [
      "19692\n"
     ]
    }
   ],
   "source": [
    "result=list(map(lambda x:1 if x>=0.5 else 0,y_pred))\n",
    "print(len(result))\n",
    "# print(result)"
   ]
  },
  {
   "cell_type": "code",
   "execution_count": 89,
   "metadata": {},
   "outputs": [
    {
     "data": {
      "image/png": "[encoded data removed]",
      "text/plain": [
       "<Figure size 720x720 with 2 Axes>"
      ]
     },
     "metadata": {
      "needs_background": "light"
     },
     "output_type": "display_data"
    }
   ],
   "source": [
    "cf_matrix=(confusion_matrix(y_test,result))\n",
    "\n",
    "\n",
    "# https://medium.com/@dtuk81/confusion-matrix-visualization-fc31e3f30fea\n",
    "plt.figure(figsize=(10,10))\n",
    "group_names = ['True Neg','False Pos','False Neg','True Pos']\n",
    "group_counts = [\"{0:0.0f}\".format(value) for value in\n",
    "                cf_matrix.flatten()]\n",
    "group_percentages = [\"{0:.2%}\".format(value) for value in\n",
    "                     cf_matrix.flatten()/np.sum(cf_matrix)]\n",
    "labels = [f\"{v1}\\n{v2}\\n{v3}\" for v1, v2, v3 in\n",
    "          zip(group_names,group_counts,group_percentages)]\n",
    "labels = np.asarray(labels).reshape(2,2)\n",
    "sns.heatmap(cf_matrix, annot=labels, fmt='', cmap='Blues')\n",
    "plt.show()"
   ]
  },
  {
   "cell_type": "code",
   "execution_count": 90,
   "metadata": {},
   "outputs": [
    {
     "name": "stdout",
     "output_type": "stream",
     "text": [
      "              precision    recall  f1-score   support\n",
      "\n",
      "           0       1.00      1.00      1.00     12677\n",
      "           1       1.00      1.00      1.00      7015\n",
      "\n",
      "    accuracy                           1.00     19692\n",
      "   macro avg       1.00      1.00      1.00     19692\n",
      "weighted avg       1.00      1.00      1.00     19692\n",
      "\n"
     ]
    }
   ],
   "source": [
    "print(classification_report(y_test,result))"
   ]
  },
  {
   "cell_type": "markdown",
   "metadata": {},
   "source": [
    "Taken a random sample of points to check the model,how model is performing."
   ]
  },
  {
   "cell_type": "code",
   "execution_count": 91,
   "metadata": {},
   "outputs": [],
   "source": [
    "data_sample=data_scaled_basic.sample(n=40000)\n",
    "y_actual=data_sample['labels'].values"
   ]
  },
  {
   "cell_type": "code",
   "execution_count": 92,
   "metadata": {},
   "outputs": [
    {
     "data": {
      "text/html": [
       "<div>\n",
       "<style scoped>\n",
       "    .dataframe tbody tr th:only-of-type {\n",
       "        vertical-align: middle;\n",
       "    }\n",
       "\n",
       "    .dataframe tbody tr th {\n",
       "        vertical-align: top;\n",
       "    }\n",
       "\n",
       "    .dataframe thead th {\n",
       "        text-align: right;\n",
       "    }\n",
       "</style>\n",
       "<table border=\"1\" class=\"dataframe\">\n",
       "  <thead>\n",
       "    <tr style=\"text-align: right;\">\n",
       "      <th></th>\n",
       "      <th>Age</th>\n",
       "      <th>DaysSinceCreation</th>\n",
       "      <th>AverageLeadTime</th>\n",
       "      <th>LodgingRevenue</th>\n",
       "      <th>OtherRevenue</th>\n",
       "      <th>BookingsCanceled</th>\n",
       "      <th>BookingsNoShowed</th>\n",
       "      <th>BookingsCheckedIn</th>\n",
       "      <th>PersonsNights</th>\n",
       "      <th>RoomNights</th>\n",
       "      <th>DaysSinceLastStay</th>\n",
       "      <th>DaysSinceFirstStay</th>\n",
       "      <th>SRHighFloor</th>\n",
       "      <th>SRLowFloor</th>\n",
       "      <th>SRAccessibleRoom</th>\n",
       "      <th>SRMediumFloor</th>\n",
       "      <th>SRBathtub</th>\n",
       "      <th>SRShower</th>\n",
       "      <th>SRCrib</th>\n",
       "      <th>SRKingSizeBed</th>\n",
       "      <th>SRTwinBed</th>\n",
       "      <th>SRNearElevator</th>\n",
       "      <th>SRAwayFromElevator</th>\n",
       "      <th>SRNoAlcoholInMiniBar</th>\n",
       "      <th>SRQuietRoom</th>\n",
       "    </tr>\n",
       "  </thead>\n",
       "  <tbody>\n",
       "    <tr>\n",
       "      <th>76295</th>\n",
       "      <td>0.404959</td>\n",
       "      <td>0.030471</td>\n",
       "      <td>0.115646</td>\n",
       "      <td>0.047845</td>\n",
       "      <td>0.001423</td>\n",
       "      <td>0.0</td>\n",
       "      <td>0.0</td>\n",
       "      <td>0.015152</td>\n",
       "      <td>0.043103</td>\n",
       "      <td>0.043103</td>\n",
       "      <td>0.046154</td>\n",
       "      <td>0.045617</td>\n",
       "      <td>0.0</td>\n",
       "      <td>0.0</td>\n",
       "      <td>0.0</td>\n",
       "      <td>0.0</td>\n",
       "      <td>0.0</td>\n",
       "      <td>0.0</td>\n",
       "      <td>0.0</td>\n",
       "      <td>1.0</td>\n",
       "      <td>0.0</td>\n",
       "      <td>0.0</td>\n",
       "      <td>0.0</td>\n",
       "      <td>0.0</td>\n",
       "      <td>0.0</td>\n",
       "    </tr>\n",
       "    <tr>\n",
       "      <th>30851</th>\n",
       "      <td>0.280992</td>\n",
       "      <td>0.475531</td>\n",
       "      <td>0.049320</td>\n",
       "      <td>0.017041</td>\n",
       "      <td>0.003169</td>\n",
       "      <td>0.0</td>\n",
       "      <td>0.0</td>\n",
       "      <td>0.015152</td>\n",
       "      <td>0.025862</td>\n",
       "      <td>0.008621</td>\n",
       "      <td>0.478733</td>\n",
       "      <td>0.473166</td>\n",
       "      <td>0.0</td>\n",
       "      <td>0.0</td>\n",
       "      <td>0.0</td>\n",
       "      <td>0.0</td>\n",
       "      <td>0.0</td>\n",
       "      <td>0.0</td>\n",
       "      <td>0.0</td>\n",
       "      <td>0.0</td>\n",
       "      <td>1.0</td>\n",
       "      <td>0.0</td>\n",
       "      <td>0.0</td>\n",
       "      <td>0.0</td>\n",
       "      <td>0.0</td>\n",
       "    </tr>\n",
       "    <tr>\n",
       "      <th>32487</th>\n",
       "      <td>0.214876</td>\n",
       "      <td>0.450600</td>\n",
       "      <td>0.000000</td>\n",
       "      <td>0.017351</td>\n",
       "      <td>0.003234</td>\n",
       "      <td>0.0</td>\n",
       "      <td>0.0</td>\n",
       "      <td>0.015152</td>\n",
       "      <td>0.017241</td>\n",
       "      <td>0.008621</td>\n",
       "      <td>0.454299</td>\n",
       "      <td>0.449016</td>\n",
       "      <td>1.0</td>\n",
       "      <td>0.0</td>\n",
       "      <td>0.0</td>\n",
       "      <td>0.0</td>\n",
       "      <td>0.0</td>\n",
       "      <td>0.0</td>\n",
       "      <td>0.0</td>\n",
       "      <td>1.0</td>\n",
       "      <td>0.0</td>\n",
       "      <td>0.0</td>\n",
       "      <td>0.0</td>\n",
       "      <td>0.0</td>\n",
       "      <td>0.0</td>\n",
       "    </tr>\n",
       "    <tr>\n",
       "      <th>4342</th>\n",
       "      <td>0.429752</td>\n",
       "      <td>0.900277</td>\n",
       "      <td>0.005102</td>\n",
       "      <td>0.027576</td>\n",
       "      <td>0.004269</td>\n",
       "      <td>0.0</td>\n",
       "      <td>0.0</td>\n",
       "      <td>0.015152</td>\n",
       "      <td>0.017241</td>\n",
       "      <td>0.008621</td>\n",
       "      <td>0.895023</td>\n",
       "      <td>0.884615</td>\n",
       "      <td>0.0</td>\n",
       "      <td>0.0</td>\n",
       "      <td>0.0</td>\n",
       "      <td>0.0</td>\n",
       "      <td>0.0</td>\n",
       "      <td>0.0</td>\n",
       "      <td>0.0</td>\n",
       "      <td>0.0</td>\n",
       "      <td>0.0</td>\n",
       "      <td>0.0</td>\n",
       "      <td>0.0</td>\n",
       "      <td>0.0</td>\n",
       "      <td>0.0</td>\n",
       "    </tr>\n",
       "    <tr>\n",
       "      <th>32285</th>\n",
       "      <td>0.330579</td>\n",
       "      <td>0.453370</td>\n",
       "      <td>0.435374</td>\n",
       "      <td>0.038539</td>\n",
       "      <td>0.009055</td>\n",
       "      <td>0.0</td>\n",
       "      <td>0.0</td>\n",
       "      <td>0.015152</td>\n",
       "      <td>0.086207</td>\n",
       "      <td>0.043103</td>\n",
       "      <td>0.460633</td>\n",
       "      <td>0.455277</td>\n",
       "      <td>0.0</td>\n",
       "      <td>0.0</td>\n",
       "      <td>0.0</td>\n",
       "      <td>0.0</td>\n",
       "      <td>0.0</td>\n",
       "      <td>0.0</td>\n",
       "      <td>0.0</td>\n",
       "      <td>0.0</td>\n",
       "      <td>0.0</td>\n",
       "      <td>0.0</td>\n",
       "      <td>0.0</td>\n",
       "      <td>0.0</td>\n",
       "      <td>1.0</td>\n",
       "    </tr>\n",
       "  </tbody>\n",
       "</table>\n",
       "</div>"
      ],
      "text/plain": [
       "            Age  DaysSinceCreation  AverageLeadTime  LodgingRevenue  \\\n",
       "76295  0.404959           0.030471         0.115646        0.047845   \n",
       "30851  0.280992           0.475531         0.049320        0.017041   \n",
       "32487  0.214876           0.450600         0.000000        0.017351   \n",
       "4342   0.429752           0.900277         0.005102        0.027576   \n",
       "32285  0.330579           0.453370         0.435374        0.038539   \n",
       "\n",
       "       OtherRevenue  BookingsCanceled  BookingsNoShowed  BookingsCheckedIn  \\\n",
       "76295      0.001423               0.0               0.0           0.015152   \n",
       "30851      0.003169               0.0               0.0           0.015152   \n",
       "32487      0.003234               0.0               0.0           0.015152   \n",
       "4342       0.004269               0.0               0.0           0.015152   \n",
       "32285      0.009055               0.0               0.0           0.015152   \n",
       "\n",
       "       PersonsNights  RoomNights  DaysSinceLastStay  DaysSinceFirstStay  \\\n",
       "76295       0.043103    0.043103           0.046154            0.045617   \n",
       "30851       0.025862    0.008621           0.478733            0.473166   \n",
       "32487       0.017241    0.008621           0.454299            0.449016   \n",
       "4342        0.017241    0.008621           0.895023            0.884615   \n",
       "32285       0.086207    0.043103           0.460633            0.455277   \n",
       "\n",
       "       SRHighFloor  SRLowFloor  SRAccessibleRoom  SRMediumFloor  SRBathtub  \\\n",
       "76295          0.0         0.0               0.0            0.0        0.0   \n",
       "30851          0.0         0.0               0.0            0.0        0.0   \n",
       "32487          1.0         0.0               0.0            0.0        0.0   \n",
       "4342           0.0         0.0               0.0            0.0        0.0   \n",
       "32285          0.0         0.0               0.0            0.0        0.0   \n",
       "\n",
       "       SRShower  SRCrib  SRKingSizeBed  SRTwinBed  SRNearElevator  \\\n",
       "76295       0.0     0.0            1.0        0.0             0.0   \n",
       "30851       0.0     0.0            0.0        1.0             0.0   \n",
       "32487       0.0     0.0            1.0        0.0             0.0   \n",
       "4342        0.0     0.0            0.0        0.0             0.0   \n",
       "32285       0.0     0.0            0.0        0.0             0.0   \n",
       "\n",
       "       SRAwayFromElevator  SRNoAlcoholInMiniBar  SRQuietRoom  \n",
       "76295                 0.0                   0.0          0.0  \n",
       "30851                 0.0                   0.0          0.0  \n",
       "32487                 0.0                   0.0          0.0  \n",
       "4342                  0.0                   0.0          0.0  \n",
       "32285                 0.0                   0.0          1.0  "
      ]
     },
     "execution_count": 92,
     "metadata": {},
     "output_type": "execute_result"
    }
   ],
   "source": [
    "data_sample_1=data_sample.drop(['labels'],axis=1)\n",
    "\n",
    "data_sample_1.head()"
   ]
  },
  {
   "cell_type": "code",
   "execution_count": 93,
   "metadata": {},
   "outputs": [
    {
     "name": "stdout",
     "output_type": "stream",
     "text": [
      "[[9.9995100e-01]\n",
      " [7.5960811e-06]\n",
      " [9.9995887e-01]\n",
      " ...\n",
      " [1.1515917e-05]\n",
      " [1.9154750e-05]\n",
      " [1.1251373e-05]]\n"
     ]
    }
   ],
   "source": [
    "y_predicted=model2.predict(data_sample_1)\n",
    "\n",
    "print(y_predicted)"
   ]
  },
  {
   "cell_type": "code",
   "execution_count": 94,
   "metadata": {},
   "outputs": [
    {
     "name": "stdout",
     "output_type": "stream",
     "text": [
      "19692\n"
     ]
    }
   ],
   "source": [
    "result_new=list(map(lambda x:1 if x>=0.5 else 0,y_pred))\n",
    "print(len(result_new))\n",
    "# print(result)"
   ]
  },
  {
   "cell_type": "code",
   "execution_count": 95,
   "metadata": {},
   "outputs": [
    {
     "data": {
      "image/png": "[encoded data removed]",
      "text/plain": [
       "<Figure size 720x720 with 2 Axes>"
      ]
     },
     "metadata": {
      "needs_background": "light"
     },
     "output_type": "display_data"
    }
   ],
   "source": [
    "cf_matrix=(confusion_matrix(y_test,result_new))\n",
    "\n",
    "\n",
    "# https://medium.com/@dtuk81/confusion-matrix-visualization-fc31e3f30fea\n",
    "plt.figure(figsize=(10,10))\n",
    "group_names = ['True Neg','False Pos','False Neg','True Pos']\n",
    "group_counts = [\"{0:0.0f}\".format(value) for value in\n",
    "                cf_matrix.flatten()]\n",
    "group_percentages = [\"{0:.2%}\".format(value) for value in\n",
    "                     cf_matrix.flatten()/np.sum(cf_matrix)]\n",
    "labels = [f\"{v1}\\n{v2}\\n{v3}\" for v1, v2, v3 in\n",
    "          zip(group_names,group_counts,group_percentages)]\n",
    "labels = np.asarray(labels).reshape(2,2)\n",
    "sns.heatmap(cf_matrix, annot=labels, fmt='', cmap='Blues')\n",
    "plt.show()"
   ]
  },
  {
   "cell_type": "markdown",
   "metadata": {},
   "source": [
    "# Model 3 Birch"
   ]
  },
  {
   "cell_type": "markdown",
   "metadata": {},
   "source": [
    "This model take original features. I have done clustering using BIRCH Balanced Iterative Reducing and Clustering using Hierarchies (BIRCH) is a clustering algorithm that can cluster large datasets by first generating a small and compact summary of the large dataset that retains as much information as possible and taken number of clusters =2 for binary classification task as either will person be going to checked in or not.\n",
    "\n",
    "The feature are visualized by PCA with n_compenents =2. The number of clusters taken 2 beacause I have to classify the \n",
    "either will person be going to checked in or not. The number of clusters can be taken more than 2 by using elbow method. \n",
    "\n",
    "\n",
    "The binary value 0 means that person will be going to checked in and binary value 1 means that person will not be going to be \n",
    "checked in."
   ]
  },
  {
   "cell_type": "code",
   "execution_count": 96,
   "metadata": {},
   "outputs": [
    {
     "data": {
      "text/plain": [
       "(78768, 36)"
      ]
     },
     "execution_count": 96,
     "metadata": {},
     "output_type": "execute_result"
    }
   ],
   "source": [
    "data_new_1.shape"
   ]
  },
  {
   "cell_type": "code",
   "execution_count": 97,
   "metadata": {},
   "outputs": [
    {
     "data": {
      "text/plain": [
       "(78768, 2)"
      ]
     },
     "execution_count": 97,
     "metadata": {},
     "output_type": "execute_result"
    }
   ],
   "source": [
    "scaler=MinMaxScaler()\n",
    "data_scaled_birch=scaler.fit_transform(data_new_1)\n",
    "\n",
    "data_scaled_birch=pd.DataFrame(data_scaled_birch,columns=data_new_1.columns)\n",
    "\n",
    "pca=PCA(n_components=2)\n",
    "data_pca_birch=pca.fit_transform(data_scaled_birch)\n",
    "\n",
    "data_pca_birch.shape"
   ]
  },
  {
   "cell_type": "code",
   "execution_count": 98,
   "metadata": {},
   "outputs": [],
   "source": [
    "birch=Birch(n_clusters=2)\n",
    "birch.fit(data_pca_birch)\n",
    "birch.predict(data_pca_birch)\n",
    "\n",
    "birch_labels = birch.labels_"
   ]
  },
  {
   "cell_type": "code",
   "execution_count": 99,
   "metadata": {},
   "outputs": [
    {
     "data": {
      "text/plain": [
       "0    66830\n",
       "1    11938\n",
       "Name: labels, dtype: int64"
      ]
     },
     "execution_count": 99,
     "metadata": {},
     "output_type": "execute_result"
    }
   ],
   "source": [
    "data_scaled_birch['labels']=birch_labels\n",
    "data_scaled_birch['labels'].value_counts()"
   ]
  },
  {
   "cell_type": "code",
   "execution_count": 100,
   "metadata": {},
   "outputs": [
    {
     "data": {
      "image/png": "[encoded data removed]",
      "text/plain": [
       "<Figure size 432x288 with 1 Axes>"
      ]
     },
     "metadata": {
      "needs_background": "light"
     },
     "output_type": "display_data"
    }
   ],
   "source": [
    "filtered_label0 = data_pca_birch[train_labels == 0]\n",
    " \n",
    "filtered_label1 = data_pca_birch[train_labels == 1]\n",
    " \n",
    "#Plotting the results\n",
    "plt.scatter(filtered_label0[:,0] , filtered_label0[:,1] , color = 'red')\n",
    "plt.scatter(filtered_label1[:,0] , filtered_label1[:,1] , color = 'black')\n",
    "plt.show()"
   ]
  },
  {
   "cell_type": "code",
   "execution_count": 101,
   "metadata": {},
   "outputs": [],
   "source": [
    "y=data_scaled_birch['labels'].values\n",
    "X=data_scaled_birch.drop(['labels'],axis=1)"
   ]
  },
  {
   "cell_type": "code",
   "execution_count": 102,
   "metadata": {},
   "outputs": [
    {
     "name": "stdout",
     "output_type": "stream",
     "text": [
      "(59076, 36) (59076,)\n",
      "(19692, 36) (19692,)\n"
     ]
    }
   ],
   "source": [
    "X_train,X_test,y_train,y_test=train_test_split(X,y,stratify=y,random_state=42)\n",
    "\n",
    "print((X_train.shape),y_train.shape)\n",
    "print((X_test.shape),y_test.shape)"
   ]
  },
  {
   "cell_type": "code",
   "execution_count": 103,
   "metadata": {},
   "outputs": [
    {
     "name": "stdout",
     "output_type": "stream",
     "text": [
      "Model: \"sequential_2\"\n",
      "_________________________________________________________________\n",
      " Layer (type)                Output Shape              Param #   \n",
      "=================================================================\n",
      " dense_8 (Dense)             (None, 64)                2368      \n",
      "                                                                 \n",
      " dense_9 (Dense)             (None, 32)                2080      \n",
      "                                                                 \n",
      " dropout_2 (Dropout)         (None, 32)                0         \n",
      "                                                                 \n",
      " batch_normalization_2 (Batc  (None, 32)               128       \n",
      " hNormalization)                                                 \n",
      "                                                                 \n",
      " dense_10 (Dense)            (None, 16)                528       \n",
      "                                                                 \n",
      " dense_11 (Dense)            (None, 1)                 17        \n",
      "                                                                 \n",
      "=================================================================\n",
      "Total params: 5,121\n",
      "Trainable params: 5,057\n",
      "Non-trainable params: 64\n",
      "_________________________________________________________________\n"
     ]
    },
    {
     "name": "stderr",
     "output_type": "stream",
     "text": [
      "C:\\Anaconda\\lib\\site-packages\\keras\\optimizer_v2\\adam.py:105: UserWarning: The `lr` argument is deprecated, use `learning_rate` instead.\n",
      "  super(Adam, self).__init__(name, **kwargs)\n"
     ]
    }
   ],
   "source": [
    "input_shape=(36,)\n",
    "model3=Sequential()\n",
    "\n",
    "model3.add(Dense(64,activation='relu',input_shape=input_shape,kernel_initializer=he_normal(),kernel_regularizer=tf.keras.regularizers.l1(0.0001)))\n",
    "model3.add((Dense(32,activation='relu',kernel_initializer=he_normal(),kernel_regularizer=tf.keras.regularizers.l1(0.0001))))\n",
    "model3.add(Dropout(0.5))\n",
    "model3.add(BatchNormalization())\n",
    "model3.add((Dense(16,activation='relu',kernel_initializer=he_normal(),kernel_regularizer=tf.keras.regularizers.l1(0.0001))))\n",
    "model3.add(Dense(1, activation='sigmoid',kernel_initializer=he_normal(),kernel_regularizer=tf.keras.regularizers.l1(0.0001)))\n",
    "model3.compile(loss='binary_crossentropy',optimizer=Adam(lr=0.0001),metrics=['accuracy'])\n",
    "\n",
    "model3.summary()"
   ]
  },
  {
   "cell_type": "code",
   "execution_count": 104,
   "metadata": {},
   "outputs": [
    {
     "name": "stdout",
     "output_type": "stream",
     "text": [
      "Epoch 1/10\n",
      "1847/1847 [==============================] - 5s 2ms/step - loss: 0.2630 - accuracy: 0.9509 - val_loss: 0.1098 - val_accuracy: 0.9962\n",
      "Epoch 2/10\n",
      "1847/1847 [==============================] - 3s 2ms/step - loss: 0.1123 - accuracy: 0.9910 - val_loss: 0.0816 - val_accuracy: 0.9971\n",
      "Epoch 3/10\n",
      "1847/1847 [==============================] - 3s 2ms/step - loss: 0.0898 - accuracy: 0.9935 - val_loss: 0.0721 - val_accuracy: 0.9981\n",
      "Epoch 4/10\n",
      "1847/1847 [==============================] - 3s 2ms/step - loss: 0.0789 - accuracy: 0.9948 - val_loss: 0.0659 - val_accuracy: 0.9986\n",
      "Epoch 5/10\n",
      "1847/1847 [==============================] - 3s 2ms/step - loss: 0.0712 - accuracy: 0.9959 - val_loss: 0.0613 - val_accuracy: 0.9989\n",
      "Epoch 6/10\n",
      "1847/1847 [==============================] - 3s 2ms/step - loss: 0.0658 - accuracy: 0.9966 - val_loss: 0.0577 - val_accuracy: 0.9990\n",
      "Epoch 7/10\n",
      "1847/1847 [==============================] - 3s 2ms/step - loss: 0.0617 - accuracy: 0.9973 - val_loss: 0.0548 - val_accuracy: 0.9990\n",
      "Epoch 8/10\n",
      "1847/1847 [==============================] - 3s 2ms/step - loss: 0.0590 - accuracy: 0.9974 - val_loss: 0.0518 - val_accuracy: 0.9992\n",
      "Epoch 9/10\n",
      "1847/1847 [==============================] - 3s 2ms/step - loss: 0.0560 - accuracy: 0.9972 - val_loss: 0.0494 - val_accuracy: 0.9992\n",
      "Epoch 10/10\n",
      "1847/1847 [==============================] - 3s 2ms/step - loss: 0.0531 - accuracy: 0.9977 - val_loss: 0.0473 - val_accuracy: 0.9991\n"
     ]
    }
   ],
   "source": [
    "history=model3.fit(X_train,y_train,epochs=10,verbose=1,batch_size=32,\n",
    "         validation_data=(X_test,y_test))"
   ]
  },
  {
   "cell_type": "code",
   "execution_count": 105,
   "metadata": {},
   "outputs": [
    {
     "data": {
      "image/png": "[encoded data removed]",
      "text/plain": [
       "<Figure size 576x576 with 1 Axes>"
      ]
     },
     "metadata": {
      "needs_background": "light"
     },
     "output_type": "display_data"
    },
    {
     "data": {
      "image/png": "[encoded data removed]",
      "text/plain": [
       "<Figure size 576x576 with 1 Axes>"
      ]
     },
     "metadata": {
      "needs_background": "light"
     },
     "output_type": "display_data"
    }
   ],
   "source": [
    "# machine learning mastery\n",
    "plt.figure(figsize=(8,8))\n",
    "plt.plot(history.history['accuracy'])\n",
    "plt.plot(history.history['val_accuracy'])\n",
    "plt.title('model accuracy')\n",
    "plt.ylabel('accuracy')\n",
    "plt.xlabel('epoch')\n",
    "plt.legend(['train', 'test'], loc='upper left')\n",
    "plt.show()\n",
    "\n",
    "\n",
    "plt.figure(figsize=(8,8))\n",
    "plt.plot(history.history['loss'])\n",
    "plt.plot(history.history['val_loss'])\n",
    "plt.title('model loss')\n",
    "plt.ylabel('loss')\n",
    "plt.xlabel('epoch')\n",
    "plt.legend(['train', 'test'], loc='upper left')\n",
    "plt.show()"
   ]
  },
  {
   "cell_type": "code",
   "execution_count": 106,
   "metadata": {},
   "outputs": [
    {
     "name": "stdout",
     "output_type": "stream",
     "text": [
      "[1 1 0 ... 0 0 0]\n",
      "19692\n"
     ]
    }
   ],
   "source": [
    "y_pred=model3.predict(X_test)\n",
    "\n",
    "\n",
    "print(y_test)\n",
    "print(len(y_test))"
   ]
  },
  {
   "cell_type": "code",
   "execution_count": 107,
   "metadata": {},
   "outputs": [
    {
     "name": "stdout",
     "output_type": "stream",
     "text": [
      "19692\n"
     ]
    }
   ],
   "source": [
    "result=list(map(lambda x:1 if x>=0.5 else 0,y_pred))\n",
    "print(len(result))\n",
    "# print(result)"
   ]
  },
  {
   "cell_type": "code",
   "execution_count": 108,
   "metadata": {},
   "outputs": [
    {
     "data": {
      "image/png": "[encoded data removed]",
      "text/plain": [
       "<Figure size 720x720 with 2 Axes>"
      ]
     },
     "metadata": {
      "needs_background": "light"
     },
     "output_type": "display_data"
    }
   ],
   "source": [
    "cf_matrix=(confusion_matrix(y_test,result))\n",
    "\n",
    "\n",
    "# https://medium.com/@dtuk81/confusion-matrix-visualization-fc31e3f30fea\n",
    "plt.figure(figsize=(10,10))\n",
    "group_names = ['True Neg','False Pos','False Neg','True Pos']\n",
    "group_counts = [\"{0:0.0f}\".format(value) for value in\n",
    "                cf_matrix.flatten()]\n",
    "group_percentages = [\"{0:.2%}\".format(value) for value in\n",
    "                     cf_matrix.flatten()/np.sum(cf_matrix)]\n",
    "labels = [f\"{v1}\\n{v2}\\n{v3}\" for v1, v2, v3 in\n",
    "          zip(group_names,group_counts,group_percentages)]\n",
    "labels = np.asarray(labels).reshape(2,2)\n",
    "sns.heatmap(cf_matrix, annot=labels, fmt='', cmap='Blues')\n",
    "plt.show()"
   ]
  },
  {
   "cell_type": "code",
   "execution_count": 109,
   "metadata": {},
   "outputs": [
    {
     "name": "stdout",
     "output_type": "stream",
     "text": [
      "              precision    recall  f1-score   support\n",
      "\n",
      "           0       1.00      1.00      1.00     16708\n",
      "           1       1.00      1.00      1.00      2984\n",
      "\n",
      "    accuracy                           1.00     19692\n",
      "   macro avg       1.00      1.00      1.00     19692\n",
      "weighted avg       1.00      1.00      1.00     19692\n",
      "\n"
     ]
    }
   ],
   "source": [
    "print(classification_report(y_test,result))"
   ]
  },
  {
   "cell_type": "markdown",
   "metadata": {},
   "source": [
    "Taken a random sample of points to check the model,how model is performing."
   ]
  },
  {
   "cell_type": "code",
   "execution_count": 110,
   "metadata": {},
   "outputs": [],
   "source": [
    "data_sample=data_scaled_birch.sample(n=40000)\n",
    "y_actual=data_sample['labels'].values"
   ]
  },
  {
   "cell_type": "code",
   "execution_count": 111,
   "metadata": {},
   "outputs": [
    {
     "data": {
      "text/html": [
       "<div>\n",
       "<style scoped>\n",
       "    .dataframe tbody tr th:only-of-type {\n",
       "        vertical-align: middle;\n",
       "    }\n",
       "\n",
       "    .dataframe tbody tr th {\n",
       "        vertical-align: top;\n",
       "    }\n",
       "\n",
       "    .dataframe thead th {\n",
       "        text-align: right;\n",
       "    }\n",
       "</style>\n",
       "<table border=\"1\" class=\"dataframe\">\n",
       "  <thead>\n",
       "    <tr style=\"text-align: right;\">\n",
       "      <th></th>\n",
       "      <th>Age</th>\n",
       "      <th>DaysSinceCreation</th>\n",
       "      <th>AverageLeadTime</th>\n",
       "      <th>LodgingRevenue</th>\n",
       "      <th>OtherRevenue</th>\n",
       "      <th>BookingsCanceled</th>\n",
       "      <th>BookingsNoShowed</th>\n",
       "      <th>BookingsCheckedIn</th>\n",
       "      <th>PersonsNights</th>\n",
       "      <th>RoomNights</th>\n",
       "      <th>DaysSinceLastStay</th>\n",
       "      <th>DaysSinceFirstStay</th>\n",
       "      <th>SRHighFloor</th>\n",
       "      <th>SRLowFloor</th>\n",
       "      <th>SRAccessibleRoom</th>\n",
       "      <th>SRMediumFloor</th>\n",
       "      <th>SRBathtub</th>\n",
       "      <th>SRShower</th>\n",
       "      <th>SRCrib</th>\n",
       "      <th>SRKingSizeBed</th>\n",
       "      <th>SRTwinBed</th>\n",
       "      <th>SRNearElevator</th>\n",
       "      <th>SRAwayFromElevator</th>\n",
       "      <th>SRNoAlcoholInMiniBar</th>\n",
       "      <th>SRQuietRoom</th>\n",
       "      <th>Corporate</th>\n",
       "      <th>Direct</th>\n",
       "      <th>Electronic Distribution</th>\n",
       "      <th>Travel Agent/Operator</th>\n",
       "      <th>Aviation</th>\n",
       "      <th>Complementary</th>\n",
       "      <th>Corporate</th>\n",
       "      <th>Direct</th>\n",
       "      <th>Groups</th>\n",
       "      <th>Other</th>\n",
       "      <th>Travel Agent/Operator</th>\n",
       "    </tr>\n",
       "  </thead>\n",
       "  <tbody>\n",
       "    <tr>\n",
       "      <th>26198</th>\n",
       "      <td>0.322314</td>\n",
       "      <td>0.539243</td>\n",
       "      <td>0.215986</td>\n",
       "      <td>0.056236</td>\n",
       "      <td>0.005433</td>\n",
       "      <td>0.0</td>\n",
       "      <td>0.0</td>\n",
       "      <td>0.015152</td>\n",
       "      <td>0.017241</td>\n",
       "      <td>0.008621</td>\n",
       "      <td>0.541176</td>\n",
       "      <td>0.534884</td>\n",
       "      <td>0.0</td>\n",
       "      <td>0.0</td>\n",
       "      <td>0.0</td>\n",
       "      <td>0.0</td>\n",
       "      <td>0.0</td>\n",
       "      <td>0.0</td>\n",
       "      <td>0.0</td>\n",
       "      <td>0.0</td>\n",
       "      <td>1.0</td>\n",
       "      <td>0.0</td>\n",
       "      <td>0.0</td>\n",
       "      <td>0.0</td>\n",
       "      <td>0.0</td>\n",
       "      <td>0.0</td>\n",
       "      <td>0.0</td>\n",
       "      <td>0.0</td>\n",
       "      <td>1.0</td>\n",
       "      <td>0.0</td>\n",
       "      <td>0.0</td>\n",
       "      <td>0.0</td>\n",
       "      <td>0.0</td>\n",
       "      <td>0.0</td>\n",
       "      <td>1.0</td>\n",
       "      <td>0.0</td>\n",
       "    </tr>\n",
       "    <tr>\n",
       "      <th>16800</th>\n",
       "      <td>0.545455</td>\n",
       "      <td>0.706371</td>\n",
       "      <td>0.051020</td>\n",
       "      <td>0.027039</td>\n",
       "      <td>0.010090</td>\n",
       "      <td>0.0</td>\n",
       "      <td>0.0</td>\n",
       "      <td>0.015152</td>\n",
       "      <td>0.051724</td>\n",
       "      <td>0.025862</td>\n",
       "      <td>0.706787</td>\n",
       "      <td>0.698569</td>\n",
       "      <td>0.0</td>\n",
       "      <td>0.0</td>\n",
       "      <td>0.0</td>\n",
       "      <td>0.0</td>\n",
       "      <td>0.0</td>\n",
       "      <td>0.0</td>\n",
       "      <td>0.0</td>\n",
       "      <td>0.0</td>\n",
       "      <td>0.0</td>\n",
       "      <td>0.0</td>\n",
       "      <td>0.0</td>\n",
       "      <td>0.0</td>\n",
       "      <td>0.0</td>\n",
       "      <td>0.0</td>\n",
       "      <td>0.0</td>\n",
       "      <td>0.0</td>\n",
       "      <td>1.0</td>\n",
       "      <td>0.0</td>\n",
       "      <td>0.0</td>\n",
       "      <td>0.0</td>\n",
       "      <td>0.0</td>\n",
       "      <td>0.0</td>\n",
       "      <td>1.0</td>\n",
       "      <td>0.0</td>\n",
       "    </tr>\n",
       "    <tr>\n",
       "      <th>18033</th>\n",
       "      <td>0.413223</td>\n",
       "      <td>0.683287</td>\n",
       "      <td>0.005102</td>\n",
       "      <td>0.029662</td>\n",
       "      <td>0.000517</td>\n",
       "      <td>0.0</td>\n",
       "      <td>0.0</td>\n",
       "      <td>0.015152</td>\n",
       "      <td>0.034483</td>\n",
       "      <td>0.034483</td>\n",
       "      <td>0.685068</td>\n",
       "      <td>0.677102</td>\n",
       "      <td>0.0</td>\n",
       "      <td>0.0</td>\n",
       "      <td>0.0</td>\n",
       "      <td>0.0</td>\n",
       "      <td>0.0</td>\n",
       "      <td>0.0</td>\n",
       "      <td>0.0</td>\n",
       "      <td>0.0</td>\n",
       "      <td>0.0</td>\n",
       "      <td>0.0</td>\n",
       "      <td>0.0</td>\n",
       "      <td>0.0</td>\n",
       "      <td>0.0</td>\n",
       "      <td>0.0</td>\n",
       "      <td>0.0</td>\n",
       "      <td>0.0</td>\n",
       "      <td>1.0</td>\n",
       "      <td>0.0</td>\n",
       "      <td>0.0</td>\n",
       "      <td>0.0</td>\n",
       "      <td>0.0</td>\n",
       "      <td>0.0</td>\n",
       "      <td>1.0</td>\n",
       "      <td>0.0</td>\n",
       "    </tr>\n",
       "    <tr>\n",
       "      <th>10883</th>\n",
       "      <td>0.190083</td>\n",
       "      <td>0.789474</td>\n",
       "      <td>0.134354</td>\n",
       "      <td>0.098994</td>\n",
       "      <td>0.008150</td>\n",
       "      <td>0.0</td>\n",
       "      <td>0.0</td>\n",
       "      <td>0.015152</td>\n",
       "      <td>0.025862</td>\n",
       "      <td>0.025862</td>\n",
       "      <td>0.788235</td>\n",
       "      <td>0.779070</td>\n",
       "      <td>0.0</td>\n",
       "      <td>0.0</td>\n",
       "      <td>0.0</td>\n",
       "      <td>0.0</td>\n",
       "      <td>0.0</td>\n",
       "      <td>0.0</td>\n",
       "      <td>0.0</td>\n",
       "      <td>1.0</td>\n",
       "      <td>0.0</td>\n",
       "      <td>0.0</td>\n",
       "      <td>0.0</td>\n",
       "      <td>0.0</td>\n",
       "      <td>0.0</td>\n",
       "      <td>0.0</td>\n",
       "      <td>0.0</td>\n",
       "      <td>0.0</td>\n",
       "      <td>1.0</td>\n",
       "      <td>0.0</td>\n",
       "      <td>0.0</td>\n",
       "      <td>0.0</td>\n",
       "      <td>0.0</td>\n",
       "      <td>0.0</td>\n",
       "      <td>1.0</td>\n",
       "      <td>0.0</td>\n",
       "    </tr>\n",
       "    <tr>\n",
       "      <th>26596</th>\n",
       "      <td>0.297521</td>\n",
       "      <td>0.533703</td>\n",
       "      <td>0.154762</td>\n",
       "      <td>0.017893</td>\n",
       "      <td>0.003881</td>\n",
       "      <td>0.0</td>\n",
       "      <td>0.0</td>\n",
       "      <td>0.015152</td>\n",
       "      <td>0.034483</td>\n",
       "      <td>0.017241</td>\n",
       "      <td>0.536652</td>\n",
       "      <td>0.530411</td>\n",
       "      <td>0.0</td>\n",
       "      <td>0.0</td>\n",
       "      <td>0.0</td>\n",
       "      <td>0.0</td>\n",
       "      <td>0.0</td>\n",
       "      <td>0.0</td>\n",
       "      <td>0.0</td>\n",
       "      <td>0.0</td>\n",
       "      <td>0.0</td>\n",
       "      <td>0.0</td>\n",
       "      <td>0.0</td>\n",
       "      <td>0.0</td>\n",
       "      <td>0.0</td>\n",
       "      <td>0.0</td>\n",
       "      <td>0.0</td>\n",
       "      <td>0.0</td>\n",
       "      <td>1.0</td>\n",
       "      <td>0.0</td>\n",
       "      <td>0.0</td>\n",
       "      <td>0.0</td>\n",
       "      <td>0.0</td>\n",
       "      <td>0.0</td>\n",
       "      <td>1.0</td>\n",
       "      <td>0.0</td>\n",
       "    </tr>\n",
       "  </tbody>\n",
       "</table>\n",
       "</div>"
      ],
      "text/plain": [
       "            Age  DaysSinceCreation  AverageLeadTime  LodgingRevenue  \\\n",
       "26198  0.322314           0.539243         0.215986        0.056236   \n",
       "16800  0.545455           0.706371         0.051020        0.027039   \n",
       "18033  0.413223           0.683287         0.005102        0.029662   \n",
       "10883  0.190083           0.789474         0.134354        0.098994   \n",
       "26596  0.297521           0.533703         0.154762        0.017893   \n",
       "\n",
       "       OtherRevenue  BookingsCanceled  BookingsNoShowed  BookingsCheckedIn  \\\n",
       "26198      0.005433               0.0               0.0           0.015152   \n",
       "16800      0.010090               0.0               0.0           0.015152   \n",
       "18033      0.000517               0.0               0.0           0.015152   \n",
       "10883      0.008150               0.0               0.0           0.015152   \n",
       "26596      0.003881               0.0               0.0           0.015152   \n",
       "\n",
       "       PersonsNights  RoomNights  DaysSinceLastStay  DaysSinceFirstStay  \\\n",
       "26198       0.017241    0.008621           0.541176            0.534884   \n",
       "16800       0.051724    0.025862           0.706787            0.698569   \n",
       "18033       0.034483    0.034483           0.685068            0.677102   \n",
       "10883       0.025862    0.025862           0.788235            0.779070   \n",
       "26596       0.034483    0.017241           0.536652            0.530411   \n",
       "\n",
       "       SRHighFloor  SRLowFloor  SRAccessibleRoom  SRMediumFloor  SRBathtub  \\\n",
       "26198          0.0         0.0               0.0            0.0        0.0   \n",
       "16800          0.0         0.0               0.0            0.0        0.0   \n",
       "18033          0.0         0.0               0.0            0.0        0.0   \n",
       "10883          0.0         0.0               0.0            0.0        0.0   \n",
       "26596          0.0         0.0               0.0            0.0        0.0   \n",
       "\n",
       "       SRShower  SRCrib  SRKingSizeBed  SRTwinBed  SRNearElevator  \\\n",
       "26198       0.0     0.0            0.0        1.0             0.0   \n",
       "16800       0.0     0.0            0.0        0.0             0.0   \n",
       "18033       0.0     0.0            0.0        0.0             0.0   \n",
       "10883       0.0     0.0            1.0        0.0             0.0   \n",
       "26596       0.0     0.0            0.0        0.0             0.0   \n",
       "\n",
       "       SRAwayFromElevator  SRNoAlcoholInMiniBar  SRQuietRoom  Corporate  \\\n",
       "26198                 0.0                   0.0          0.0        0.0   \n",
       "16800                 0.0                   0.0          0.0        0.0   \n",
       "18033                 0.0                   0.0          0.0        0.0   \n",
       "10883                 0.0                   0.0          0.0        0.0   \n",
       "26596                 0.0                   0.0          0.0        0.0   \n",
       "\n",
       "       Direct  Electronic Distribution  Travel Agent/Operator  Aviation  \\\n",
       "26198     0.0                      0.0                    1.0       0.0   \n",
       "16800     0.0                      0.0                    1.0       0.0   \n",
       "18033     0.0                      0.0                    1.0       0.0   \n",
       "10883     0.0                      0.0                    1.0       0.0   \n",
       "26596     0.0                      0.0                    1.0       0.0   \n",
       "\n",
       "       Complementary  Corporate  Direct  Groups  Other  Travel Agent/Operator  \n",
       "26198            0.0        0.0     0.0     0.0    1.0                    0.0  \n",
       "16800            0.0        0.0     0.0     0.0    1.0                    0.0  \n",
       "18033            0.0        0.0     0.0     0.0    1.0                    0.0  \n",
       "10883            0.0        0.0     0.0     0.0    1.0                    0.0  \n",
       "26596            0.0        0.0     0.0     0.0    1.0                    0.0  "
      ]
     },
     "execution_count": 111,
     "metadata": {},
     "output_type": "execute_result"
    }
   ],
   "source": [
    "data_sample_1=data_sample.drop(['labels'],axis=1)\n",
    "\n",
    "data_sample_1.head()"
   ]
  },
  {
   "cell_type": "code",
   "execution_count": 112,
   "metadata": {},
   "outputs": [
    {
     "name": "stdout",
     "output_type": "stream",
     "text": [
      "[[3.7416798e-05]\n",
      " [1.9663599e-05]\n",
      " [2.9616263e-05]\n",
      " ...\n",
      " [7.1789123e-05]\n",
      " [9.9995887e-01]\n",
      " [2.2682967e-05]]\n"
     ]
    }
   ],
   "source": [
    "y_predicted=model3.predict(data_sample_1)\n",
    "\n",
    "print(y_predicted)"
   ]
  },
  {
   "cell_type": "code",
   "execution_count": 113,
   "metadata": {},
   "outputs": [
    {
     "name": "stdout",
     "output_type": "stream",
     "text": [
      "19692\n"
     ]
    }
   ],
   "source": [
    "result_new=list(map(lambda x:1 if x>=0.5 else 0,y_pred))\n",
    "print(len(result_new))\n",
    "# print(result)"
   ]
  },
  {
   "cell_type": "code",
   "execution_count": 114,
   "metadata": {},
   "outputs": [
    {
     "data": {
      "image/png": "[encoded data removed]",
      "text/plain": [
       "<Figure size 720x720 with 2 Axes>"
      ]
     },
     "metadata": {
      "needs_background": "light"
     },
     "output_type": "display_data"
    }
   ],
   "source": [
    "cf_matrix=(confusion_matrix(y_test,result_new))\n",
    "\n",
    "\n",
    "# https://medium.com/@dtuk81/confusion-matrix-visualization-fc31e3f30fea\n",
    "plt.figure(figsize=(10,10))\n",
    "group_names = ['True Neg','False Pos','False Neg','True Pos']\n",
    "group_counts = [\"{0:0.0f}\".format(value) for value in\n",
    "                cf_matrix.flatten()]\n",
    "group_percentages = [\"{0:.2%}\".format(value) for value in\n",
    "                     cf_matrix.flatten()/np.sum(cf_matrix)]\n",
    "labels = [f\"{v1}\\n{v2}\\n{v3}\" for v1, v2, v3 in\n",
    "          zip(group_names,group_counts,group_percentages)]\n",
    "labels = np.asarray(labels).reshape(2,2)\n",
    "sns.heatmap(cf_matrix, annot=labels, fmt='', cmap='Blues')\n",
    "plt.show()"
   ]
  },
  {
   "cell_type": "markdown",
   "metadata": {},
   "source": [
    "# Model 4 "
   ]
  },
  {
   "cell_type": "markdown",
   "metadata": {},
   "source": [
    "This model take original features. I have done clustering using and taken number of clusters =2 for binary classification task as either will person be going to checked in or not.\n",
    "\n",
    "The feature I used for classification are ['Age', 'AverageLeadTime', 'PersonsNights', 'RoomNights', 'TotalRevenue']\n",
    "Total Revenue is the sum of lodging revenue + other revenue.\n",
    "\n",
    "These features are taken beacuse they are explaining the variance in data.These feature can help in making cluster more easily\n",
    "and more good as their intercluster distance would be large and intracluster distance would be small.Other features are not explaining that much variance.\n",
    "\n",
    "The feature are visualized by PCA with n_compenents =2. The number of clusters taken 2 beacause I have to classify the \n",
    "either will person be going to checked in or not. The number of clusters can be taken more than 2 by using elbow method. \n",
    "\n",
    "\n",
    "The binary value 0 means that person will be going to checked in and binary value 1 means that person will not be going to be \n",
    "checked in."
   ]
  },
  {
   "cell_type": "code",
   "execution_count": 115,
   "metadata": {},
   "outputs": [],
   "source": [
    "data['TotalRevenue']=data['LodgingRevenue'] + data['OtherRevenue']"
   ]
  },
  {
   "cell_type": "code",
   "execution_count": 116,
   "metadata": {},
   "outputs": [],
   "source": [
    "train_df_new = data[['Age', 'AverageLeadTime', 'PersonsNights', 'RoomNights', 'TotalRevenue']]"
   ]
  },
  {
   "cell_type": "code",
   "execution_count": 117,
   "metadata": {},
   "outputs": [],
   "source": [
    "# Standardizing the data\n",
    "from sklearn.preprocessing import MinMaxScaler\n",
    "min_max=MinMaxScaler()\n",
    "\n",
    "scaler=min_max.fit(train_df_new)\n",
    "train_df_scaled=scaler.transform(train_df_new)"
   ]
  },
  {
   "cell_type": "code",
   "execution_count": 118,
   "metadata": {},
   "outputs": [],
   "source": [
    "with open('model_min_max.pkl', 'wb') as files1:\n",
    "    pickle.dump(scaler, files1)"
   ]
  },
  {
   "cell_type": "code",
   "execution_count": 119,
   "metadata": {},
   "outputs": [],
   "source": [
    "# train_df_scaled=min_max.fit_transform(train_df_new)"
   ]
  },
  {
   "cell_type": "code",
   "execution_count": 120,
   "metadata": {},
   "outputs": [
    {
     "data": {
      "text/html": [
       "<div>\n",
       "<style scoped>\n",
       "    .dataframe tbody tr th:only-of-type {\n",
       "        vertical-align: middle;\n",
       "    }\n",
       "\n",
       "    .dataframe tbody tr th {\n",
       "        vertical-align: top;\n",
       "    }\n",
       "\n",
       "    .dataframe thead th {\n",
       "        text-align: right;\n",
       "    }\n",
       "</style>\n",
       "<table border=\"1\" class=\"dataframe\">\n",
       "  <thead>\n",
       "    <tr style=\"text-align: right;\">\n",
       "      <th></th>\n",
       "      <th>Age</th>\n",
       "      <th>AverageLeadTime</th>\n",
       "      <th>PersonsNights</th>\n",
       "      <th>RoomNights</th>\n",
       "      <th>TotalRevenue</th>\n",
       "    </tr>\n",
       "  </thead>\n",
       "  <tbody>\n",
       "    <tr>\n",
       "      <th>0</th>\n",
       "      <td>0.413223</td>\n",
       "      <td>0.076531</td>\n",
       "      <td>0.068966</td>\n",
       "      <td>0.043103</td>\n",
       "      <td>0.039922</td>\n",
       "    </tr>\n",
       "    <tr>\n",
       "      <th>1</th>\n",
       "      <td>0.247934</td>\n",
       "      <td>0.000000</td>\n",
       "      <td>0.000000</td>\n",
       "      <td>0.000000</td>\n",
       "      <td>0.000000</td>\n",
       "    </tr>\n",
       "    <tr>\n",
       "      <th>2</th>\n",
       "      <td>0.487603</td>\n",
       "      <td>0.158163</td>\n",
       "      <td>0.086207</td>\n",
       "      <td>0.043103</td>\n",
       "      <td>0.025145</td>\n",
       "    </tr>\n",
       "    <tr>\n",
       "      <th>3</th>\n",
       "      <td>0.413223</td>\n",
       "      <td>0.000000</td>\n",
       "      <td>0.000000</td>\n",
       "      <td>0.000000</td>\n",
       "      <td>0.000000</td>\n",
       "    </tr>\n",
       "    <tr>\n",
       "      <th>4</th>\n",
       "      <td>0.438017</td>\n",
       "      <td>0.098639</td>\n",
       "      <td>0.034483</td>\n",
       "      <td>0.017241</td>\n",
       "      <td>0.021290</td>\n",
       "    </tr>\n",
       "  </tbody>\n",
       "</table>\n",
       "</div>"
      ],
      "text/plain": [
       "        Age  AverageLeadTime  PersonsNights  RoomNights  TotalRevenue\n",
       "0  0.413223         0.076531       0.068966    0.043103      0.039922\n",
       "1  0.247934         0.000000       0.000000    0.000000      0.000000\n",
       "2  0.487603         0.158163       0.086207    0.043103      0.025145\n",
       "3  0.413223         0.000000       0.000000    0.000000      0.000000\n",
       "4  0.438017         0.098639       0.034483    0.017241      0.021290"
      ]
     },
     "execution_count": 120,
     "metadata": {},
     "output_type": "execute_result"
    }
   ],
   "source": [
    "train_df_scaled= pd.DataFrame(train_df_scaled, columns=train_df_new.columns)\n",
    "train_df_scaled.head()"
   ]
  },
  {
   "cell_type": "code",
   "execution_count": 121,
   "metadata": {},
   "outputs": [],
   "source": [
    "# Reducing the dimensions to two\n",
    "pca=PCA(2)\n",
    "df_reduced=pca.fit_transform(train_df_scaled)"
   ]
  },
  {
   "cell_type": "code",
   "execution_count": 122,
   "metadata": {},
   "outputs": [
    {
     "data": {
      "text/plain": [
       "array([1, 1, 0, ..., 1, 1, 1])"
      ]
     },
     "execution_count": 122,
     "metadata": {},
     "output_type": "execute_result"
    }
   ],
   "source": [
    "kmeans = KMeans(n_clusters=2,init='k-means++', \n",
    "                n_init=10, max_iter=300, tol=0.0001, verbose=0, random_state=None, copy_x=True)\n",
    "kmeans.fit_predict(df_reduced)\n",
    "labels=kmeans.labels_\n",
    "labels"
   ]
  },
  {
   "cell_type": "code",
   "execution_count": 123,
   "metadata": {},
   "outputs": [
    {
     "data": {
      "image/png": "[encoded data removed]",
      "text/plain": [
       "<Figure size 432x288 with 1 Axes>"
      ]
     },
     "metadata": {
      "needs_background": "light"
     },
     "output_type": "display_data"
    }
   ],
   "source": [
    "# plotting the results\n",
    "filtered_label0 = df_reduced[labels == 0]\n",
    " \n",
    "filtered_label1 = df_reduced[labels == 1]\n",
    " \n",
    "#Plotting the results\n",
    "plt.scatter(filtered_label0[:,0] , filtered_label0[:,1] , color = 'red')\n",
    "plt.scatter(filtered_label1[:,0] , filtered_label1[:,1] , color = 'black')\n",
    "plt.show()"
   ]
  },
  {
   "cell_type": "code",
   "execution_count": 124,
   "metadata": {},
   "outputs": [],
   "source": [
    "# Adding labels to dataframe\n",
    "train_df_scaled['labels']=labels"
   ]
  },
  {
   "cell_type": "code",
   "execution_count": 125,
   "metadata": {},
   "outputs": [
    {
     "data": {
      "text/plain": [
       "1    59636\n",
       "0    19132\n",
       "Name: labels, dtype: int64"
      ]
     },
     "execution_count": 125,
     "metadata": {},
     "output_type": "execute_result"
    }
   ],
   "source": [
    "train_df_scaled['labels'].value_counts()"
   ]
  },
  {
   "cell_type": "code",
   "execution_count": 126,
   "metadata": {},
   "outputs": [],
   "source": [
    "X=train_df_scaled.drop(['labels'], axis=1)\n",
    "y=train_df_scaled['labels']"
   ]
  },
  {
   "cell_type": "code",
   "execution_count": 127,
   "metadata": {},
   "outputs": [
    {
     "name": "stdout",
     "output_type": "stream",
     "text": [
      "Model: \"sequential_3\"\n",
      "_________________________________________________________________\n",
      " Layer (type)                Output Shape              Param #   \n",
      "=================================================================\n",
      " dense_12 (Dense)            (None, 64)                384       \n",
      "                                                                 \n",
      " dense_13 (Dense)            (None, 64)                4160      \n",
      "                                                                 \n",
      " dropout_3 (Dropout)         (None, 64)                0         \n",
      "                                                                 \n",
      " batch_normalization_3 (Batc  (None, 64)               256       \n",
      " hNormalization)                                                 \n",
      "                                                                 \n",
      " dense_14 (Dense)            (None, 16)                1040      \n",
      "                                                                 \n",
      " dense_15 (Dense)            (None, 1)                 17        \n",
      "                                                                 \n",
      "=================================================================\n",
      "Total params: 5,857\n",
      "Trainable params: 5,729\n",
      "Non-trainable params: 128\n",
      "_________________________________________________________________\n"
     ]
    }
   ],
   "source": [
    "input_shape=(X.shape[1], )\n",
    "\n",
    "model4=Sequential()\n",
    "model4.add(Dense(64,activation='relu',input_shape=input_shape,kernel_initializer=he_normal(),kernel_regularizer=tf.keras.regularizers.l1(0.0001)))\n",
    "model4.add((Dense(64,activation='relu',kernel_initializer=he_normal(),kernel_regularizer=tf.keras.regularizers.l1(0.0001))))\n",
    "model4.add(Dropout(0.4))\n",
    "model4.add(BatchNormalization())\n",
    "model4.add((Dense(16,activation='relu',kernel_initializer=he_normal(),kernel_regularizer=tf.keras.regularizers.l1(0.0001))))\n",
    "model4.add(Dense(1, activation='sigmoid',kernel_initializer=he_normal(),kernel_regularizer=tf.keras.regularizers.l1(0.0001)))\n",
    "model4.compile(loss='binary_crossentropy',optimizer=Adam(learning_rate=0.0001),metrics=['accuracy'])\n",
    "\n",
    "model4.summary()\n"
   ]
  },
  {
   "cell_type": "code",
   "execution_count": 128,
   "metadata": {},
   "outputs": [],
   "source": [
    "path=r'C:\\Users\\DELL\\Desktop\\Assesment'"
   ]
  },
  {
   "cell_type": "code",
   "execution_count": 129,
   "metadata": {},
   "outputs": [
    {
     "name": "stdout",
     "output_type": "stream",
     "text": [
      "Epoch 1/10\n",
      "1970/1970 [==============================] - 4s 2ms/step - loss: 0.3037 - accuracy: 0.9090 - val_loss: 0.1124 - val_accuracy: 0.9924\n",
      "Epoch 2/10\n",
      "1970/1970 [==============================] - 3s 2ms/step - loss: 0.1495 - accuracy: 0.9659 - val_loss: 0.0836 - val_accuracy: 0.9964\n",
      "Epoch 3/10\n",
      "1970/1970 [==============================] - 3s 2ms/step - loss: 0.1284 - accuracy: 0.9720 - val_loss: 0.0772 - val_accuracy: 0.9937\n",
      "Epoch 4/10\n",
      "1970/1970 [==============================] - 3s 2ms/step - loss: 0.1152 - accuracy: 0.9759 - val_loss: 0.0699 - val_accuracy: 0.9976\n",
      "Epoch 5/10\n",
      "1970/1970 [==============================] - 3s 2ms/step - loss: 0.1071 - accuracy: 0.9787 - val_loss: 0.0661 - val_accuracy: 0.9977\n",
      "Epoch 6/10\n",
      "1970/1970 [==============================] - 3s 2ms/step - loss: 0.1011 - accuracy: 0.9806 - val_loss: 0.0631 - val_accuracy: 0.9975\n",
      "Epoch 7/10\n",
      "1970/1970 [==============================] - 3s 2ms/step - loss: 0.0981 - accuracy: 0.9818 - val_loss: 0.0610 - val_accuracy: 0.9981\n",
      "Epoch 8/10\n",
      "1970/1970 [==============================] - 3s 2ms/step - loss: 0.0919 - accuracy: 0.9833 - val_loss: 0.0619 - val_accuracy: 0.9950\n",
      "Epoch 9/10\n",
      "1970/1970 [==============================] - 3s 2ms/step - loss: 0.0883 - accuracy: 0.9843 - val_loss: 0.0585 - val_accuracy: 0.9974\n",
      "Epoch 10/10\n",
      "1970/1970 [==============================] - 4s 2ms/step - loss: 0.0852 - accuracy: 0.9853 - val_loss: 0.0572 - val_accuracy: 0.9971\n"
     ]
    }
   ],
   "source": [
    "checkpoint = ModelCheckpoint(os.path.join(path, 'model_2.hdf5'), monitor = 'val_acc')\n",
    "history=model4.fit(X,y,epochs=10,verbose=1,batch_size=32, validation_split=0.2, shuffle=True,callbacks=[checkpoint])"
   ]
  },
  {
   "cell_type": "code",
   "execution_count": 130,
   "metadata": {},
   "outputs": [
    {
     "data": {
      "image/png": "[encoded data removed]",
      "text/plain": [
       "<Figure size 576x576 with 1 Axes>"
      ]
     },
     "metadata": {
      "needs_background": "light"
     },
     "output_type": "display_data"
    },
    {
     "data": {
      "image/png": "[encoded data removed]",
      "text/plain": [
       "<Figure size 576x576 with 1 Axes>"
      ]
     },
     "metadata": {
      "needs_background": "light"
     },
     "output_type": "display_data"
    }
   ],
   "source": [
    "# machine learning mastery\n",
    "plt.figure(figsize=(8,8))\n",
    "plt.plot(history.history['accuracy'])\n",
    "plt.plot(history.history['val_accuracy'])\n",
    "plt.title('model accuracy')\n",
    "plt.ylabel('accuracy')\n",
    "plt.xlabel('epoch')\n",
    "plt.legend(['train', 'test'], loc='upper left')\n",
    "plt.show()\n",
    "\n",
    "\n",
    "plt.figure(figsize=(8,8))\n",
    "plt.plot(history.history['loss'])\n",
    "plt.plot(history.history['val_loss'])\n",
    "plt.title('model loss')\n",
    "plt.ylabel('loss')\n",
    "plt.xlabel('epoch')\n",
    "plt.legend(['train', 'test'], loc='upper left')\n",
    "plt.show()"
   ]
  },
  {
   "cell_type": "markdown",
   "metadata": {},
   "source": [
    "Taken a random sample of points to check the model,how model is performing."
   ]
  },
  {
   "cell_type": "code",
   "execution_count": 131,
   "metadata": {},
   "outputs": [],
   "source": [
    "import random\n",
    "random_list=random.sample(range(len(y)), 40000)\n",
    "X_test_sample = X.loc[random_list]\n",
    "y_test_sample = y[random_list].values"
   ]
  },
  {
   "cell_type": "code",
   "execution_count": 132,
   "metadata": {},
   "outputs": [
    {
     "name": "stdout",
     "output_type": "stream",
     "text": [
      "[1 1 0 ... 0 0 0]\n",
      "19692\n"
     ]
    }
   ],
   "source": [
    "y_pred=model4.predict(X_test_sample)\n",
    "\n",
    "\n",
    "print(y_test)\n",
    "print(len(y_test))"
   ]
  },
  {
   "cell_type": "code",
   "execution_count": 133,
   "metadata": {},
   "outputs": [
    {
     "name": "stdout",
     "output_type": "stream",
     "text": [
      "40000\n"
     ]
    }
   ],
   "source": [
    "result=list(map(lambda x:1 if x>=0.5 else 0,y_pred))\n",
    "print(len(result))\n",
    "# print(result)"
   ]
  },
  {
   "cell_type": "code",
   "execution_count": 134,
   "metadata": {},
   "outputs": [
    {
     "data": {
      "image/png": "[encoded data removed]",
      "text/plain": [
       "<Figure size 720x720 with 2 Axes>"
      ]
     },
     "metadata": {
      "needs_background": "light"
     },
     "output_type": "display_data"
    }
   ],
   "source": [
    "cf_matrix=(confusion_matrix(y_test_sample,result))\n",
    "\n",
    "\n",
    "# https://medium.com/@dtuk81/confusion-matrix-visualization-fc31e3f30fea\n",
    "plt.figure(figsize=(10,10))\n",
    "group_names = ['True Neg','False Pos','False Neg','True Pos']\n",
    "group_counts = [\"{0:0.0f}\".format(value) for value in\n",
    "                cf_matrix.flatten()]\n",
    "group_percentages = [\"{0:.2%}\".format(value) for value in\n",
    "                     cf_matrix.flatten()/np.sum(cf_matrix)]\n",
    "labels = [f\"{v1}\\n{v2}\\n{v3}\" for v1, v2, v3 in\n",
    "          zip(group_names,group_counts,group_percentages)]\n",
    "labels = np.asarray(labels).reshape(2,2)\n",
    "sns.heatmap(cf_matrix, annot=labels, fmt='', cmap='Blues')\n",
    "plt.show()"
   ]
  },
  {
   "cell_type": "code",
   "execution_count": 135,
   "metadata": {},
   "outputs": [
    {
     "name": "stdout",
     "output_type": "stream",
     "text": [
      "              precision    recall  f1-score   support\n",
      "\n",
      "           0       1.00      0.98      0.99      9700\n",
      "           1       0.99      1.00      1.00     30300\n",
      "\n",
      "    accuracy                           1.00     40000\n",
      "   macro avg       1.00      0.99      0.99     40000\n",
      "weighted avg       1.00      1.00      1.00     40000\n",
      "\n"
     ]
    }
   ],
   "source": [
    "print(classification_report(y_test_sample, result))"
   ]
  },
  {
   "cell_type": "code",
   "execution_count": 136,
   "metadata": {},
   "outputs": [],
   "source": [
    "mean_age=data['Age'].mean()"
   ]
  },
  {
   "cell_type": "code",
   "execution_count": 137,
   "metadata": {},
   "outputs": [
    {
     "name": "stdout",
     "output_type": "stream",
     "text": [
      "45.50284379443429\n"
     ]
    }
   ],
   "source": [
    "print(mean_age)"
   ]
  },
  {
   "cell_type": "markdown",
   "metadata": {},
   "source": [
    "# Testing"
   ]
  },
  {
   "cell_type": "code",
   "execution_count": 138,
   "metadata": {},
   "outputs": [
    {
     "data": {
      "text/html": [
       "<div>\n",
       "<style scoped>\n",
       "    .dataframe tbody tr th:only-of-type {\n",
       "        vertical-align: middle;\n",
       "    }\n",
       "\n",
       "    .dataframe tbody tr th {\n",
       "        vertical-align: top;\n",
       "    }\n",
       "\n",
       "    .dataframe thead th {\n",
       "        text-align: right;\n",
       "    }\n",
       "</style>\n",
       "<table border=\"1\" class=\"dataframe\">\n",
       "  <thead>\n",
       "    <tr style=\"text-align: right;\">\n",
       "      <th></th>\n",
       "      <th>Unnamed: 0</th>\n",
       "      <th>ID</th>\n",
       "      <th>Nationality</th>\n",
       "      <th>Age</th>\n",
       "      <th>DaysSinceCreation</th>\n",
       "      <th>AverageLeadTime</th>\n",
       "      <th>LodgingRevenue</th>\n",
       "      <th>OtherRevenue</th>\n",
       "      <th>BookingsCanceled</th>\n",
       "      <th>BookingsNoShowed</th>\n",
       "      <th>BookingsCheckedIn</th>\n",
       "      <th>PersonsNights</th>\n",
       "      <th>RoomNights</th>\n",
       "      <th>DaysSinceLastStay</th>\n",
       "      <th>DaysSinceFirstStay</th>\n",
       "      <th>DistributionChannel</th>\n",
       "      <th>MarketSegment</th>\n",
       "      <th>SRHighFloor</th>\n",
       "      <th>SRLowFloor</th>\n",
       "      <th>SRAccessibleRoom</th>\n",
       "      <th>SRMediumFloor</th>\n",
       "      <th>SRBathtub</th>\n",
       "      <th>SRShower</th>\n",
       "      <th>SRCrib</th>\n",
       "      <th>SRKingSizeBed</th>\n",
       "      <th>SRTwinBed</th>\n",
       "      <th>SRNearElevator</th>\n",
       "      <th>SRAwayFromElevator</th>\n",
       "      <th>SRNoAlcoholInMiniBar</th>\n",
       "      <th>SRQuietRoom</th>\n",
       "    </tr>\n",
       "  </thead>\n",
       "  <tbody>\n",
       "    <tr>\n",
       "      <th>0</th>\n",
       "      <td>82590</td>\n",
       "      <td>82591</td>\n",
       "      <td>SGP</td>\n",
       "      <td>47.0</td>\n",
       "      <td>11</td>\n",
       "      <td>0</td>\n",
       "      <td>0.00</td>\n",
       "      <td>0.0</td>\n",
       "      <td>0</td>\n",
       "      <td>0</td>\n",
       "      <td>0</td>\n",
       "      <td>0</td>\n",
       "      <td>0</td>\n",
       "      <td>-1</td>\n",
       "      <td>-1</td>\n",
       "      <td>Travel Agent/Operator</td>\n",
       "      <td>Other</td>\n",
       "      <td>0</td>\n",
       "      <td>0</td>\n",
       "      <td>0</td>\n",
       "      <td>0</td>\n",
       "      <td>0</td>\n",
       "      <td>0</td>\n",
       "      <td>0</td>\n",
       "      <td>0</td>\n",
       "      <td>0</td>\n",
       "      <td>0</td>\n",
       "      <td>0</td>\n",
       "      <td>0</td>\n",
       "      <td>0</td>\n",
       "    </tr>\n",
       "    <tr>\n",
       "      <th>1</th>\n",
       "      <td>82591</td>\n",
       "      <td>82592</td>\n",
       "      <td>SGP</td>\n",
       "      <td>16.0</td>\n",
       "      <td>11</td>\n",
       "      <td>130</td>\n",
       "      <td>483.48</td>\n",
       "      <td>155.1</td>\n",
       "      <td>0</td>\n",
       "      <td>0</td>\n",
       "      <td>1</td>\n",
       "      <td>15</td>\n",
       "      <td>5</td>\n",
       "      <td>16</td>\n",
       "      <td>16</td>\n",
       "      <td>Travel Agent/Operator</td>\n",
       "      <td>Other</td>\n",
       "      <td>0</td>\n",
       "      <td>0</td>\n",
       "      <td>0</td>\n",
       "      <td>0</td>\n",
       "      <td>0</td>\n",
       "      <td>0</td>\n",
       "      <td>0</td>\n",
       "      <td>0</td>\n",
       "      <td>0</td>\n",
       "      <td>0</td>\n",
       "      <td>0</td>\n",
       "      <td>0</td>\n",
       "      <td>0</td>\n",
       "    </tr>\n",
       "    <tr>\n",
       "      <th>2</th>\n",
       "      <td>82592</td>\n",
       "      <td>82593</td>\n",
       "      <td>SGP</td>\n",
       "      <td>15.0</td>\n",
       "      <td>11</td>\n",
       "      <td>0</td>\n",
       "      <td>0.00</td>\n",
       "      <td>0.0</td>\n",
       "      <td>0</td>\n",
       "      <td>0</td>\n",
       "      <td>0</td>\n",
       "      <td>0</td>\n",
       "      <td>0</td>\n",
       "      <td>-1</td>\n",
       "      <td>-1</td>\n",
       "      <td>Travel Agent/Operator</td>\n",
       "      <td>Other</td>\n",
       "      <td>0</td>\n",
       "      <td>0</td>\n",
       "      <td>0</td>\n",
       "      <td>0</td>\n",
       "      <td>0</td>\n",
       "      <td>0</td>\n",
       "      <td>0</td>\n",
       "      <td>0</td>\n",
       "      <td>0</td>\n",
       "      <td>0</td>\n",
       "      <td>0</td>\n",
       "      <td>0</td>\n",
       "      <td>0</td>\n",
       "    </tr>\n",
       "    <tr>\n",
       "      <th>3</th>\n",
       "      <td>82593</td>\n",
       "      <td>82594</td>\n",
       "      <td>SGP</td>\n",
       "      <td>12.0</td>\n",
       "      <td>11</td>\n",
       "      <td>0</td>\n",
       "      <td>0.00</td>\n",
       "      <td>0.0</td>\n",
       "      <td>0</td>\n",
       "      <td>0</td>\n",
       "      <td>0</td>\n",
       "      <td>0</td>\n",
       "      <td>0</td>\n",
       "      <td>-1</td>\n",
       "      <td>-1</td>\n",
       "      <td>Travel Agent/Operator</td>\n",
       "      <td>Other</td>\n",
       "      <td>0</td>\n",
       "      <td>0</td>\n",
       "      <td>0</td>\n",
       "      <td>0</td>\n",
       "      <td>0</td>\n",
       "      <td>0</td>\n",
       "      <td>0</td>\n",
       "      <td>0</td>\n",
       "      <td>0</td>\n",
       "      <td>0</td>\n",
       "      <td>0</td>\n",
       "      <td>0</td>\n",
       "      <td>0</td>\n",
       "    </tr>\n",
       "    <tr>\n",
       "      <th>4</th>\n",
       "      <td>82594</td>\n",
       "      <td>82595</td>\n",
       "      <td>PRT</td>\n",
       "      <td>NaN</td>\n",
       "      <td>11</td>\n",
       "      <td>0</td>\n",
       "      <td>0.00</td>\n",
       "      <td>0.0</td>\n",
       "      <td>0</td>\n",
       "      <td>0</td>\n",
       "      <td>0</td>\n",
       "      <td>0</td>\n",
       "      <td>0</td>\n",
       "      <td>-1</td>\n",
       "      <td>-1</td>\n",
       "      <td>Travel Agent/Operator</td>\n",
       "      <td>Other</td>\n",
       "      <td>1</td>\n",
       "      <td>0</td>\n",
       "      <td>0</td>\n",
       "      <td>0</td>\n",
       "      <td>0</td>\n",
       "      <td>0</td>\n",
       "      <td>0</td>\n",
       "      <td>1</td>\n",
       "      <td>0</td>\n",
       "      <td>0</td>\n",
       "      <td>0</td>\n",
       "      <td>0</td>\n",
       "      <td>0</td>\n",
       "    </tr>\n",
       "  </tbody>\n",
       "</table>\n",
       "</div>"
      ],
      "text/plain": [
       "   Unnamed: 0     ID Nationality   Age  DaysSinceCreation  AverageLeadTime  \\\n",
       "0       82590  82591         SGP  47.0                 11                0   \n",
       "1       82591  82592         SGP  16.0                 11              130   \n",
       "2       82592  82593         SGP  15.0                 11                0   \n",
       "3       82593  82594         SGP  12.0                 11                0   \n",
       "4       82594  82595         PRT   NaN                 11                0   \n",
       "\n",
       "   LodgingRevenue  OtherRevenue  BookingsCanceled  BookingsNoShowed  \\\n",
       "0            0.00           0.0                 0                 0   \n",
       "1          483.48         155.1                 0                 0   \n",
       "2            0.00           0.0                 0                 0   \n",
       "3            0.00           0.0                 0                 0   \n",
       "4            0.00           0.0                 0                 0   \n",
       "\n",
       "   BookingsCheckedIn  PersonsNights  RoomNights  DaysSinceLastStay  \\\n",
       "0                  0              0           0                 -1   \n",
       "1                  1             15           5                 16   \n",
       "2                  0              0           0                 -1   \n",
       "3                  0              0           0                 -1   \n",
       "4                  0              0           0                 -1   \n",
       "\n",
       "   DaysSinceFirstStay    DistributionChannel MarketSegment  SRHighFloor  \\\n",
       "0                  -1  Travel Agent/Operator         Other            0   \n",
       "1                  16  Travel Agent/Operator         Other            0   \n",
       "2                  -1  Travel Agent/Operator         Other            0   \n",
       "3                  -1  Travel Agent/Operator         Other            0   \n",
       "4                  -1  Travel Agent/Operator         Other            1   \n",
       "\n",
       "   SRLowFloor  SRAccessibleRoom  SRMediumFloor  SRBathtub  SRShower  SRCrib  \\\n",
       "0           0                 0              0          0         0       0   \n",
       "1           0                 0              0          0         0       0   \n",
       "2           0                 0              0          0         0       0   \n",
       "3           0                 0              0          0         0       0   \n",
       "4           0                 0              0          0         0       0   \n",
       "\n",
       "   SRKingSizeBed  SRTwinBed  SRNearElevator  SRAwayFromElevator  \\\n",
       "0              0          0               0                   0   \n",
       "1              0          0               0                   0   \n",
       "2              0          0               0                   0   \n",
       "3              0          0               0                   0   \n",
       "4              1          0               0                   0   \n",
       "\n",
       "   SRNoAlcoholInMiniBar  SRQuietRoom  \n",
       "0                     0            0  \n",
       "1                     0            0  \n",
       "2                     0            0  \n",
       "3                     0            0  \n",
       "4                     0            0  "
      ]
     },
     "execution_count": 138,
     "metadata": {},
     "output_type": "execute_result"
    }
   ],
   "source": [
    "data_test=pd.read_csv('test_data_evaluation_part2.csv')\n",
    "data_test.head()"
   ]
  },
  {
   "cell_type": "code",
   "execution_count": 139,
   "metadata": {},
   "outputs": [
    {
     "data": {
      "text/plain": [
       "Unnamed: 0               0\n",
       "ID                       0\n",
       "Nationality              0\n",
       "Age                     33\n",
       "DaysSinceCreation        0\n",
       "AverageLeadTime          0\n",
       "LodgingRevenue           0\n",
       "OtherRevenue             0\n",
       "BookingsCanceled         0\n",
       "BookingsNoShowed         0\n",
       "BookingsCheckedIn        0\n",
       "PersonsNights            0\n",
       "RoomNights               0\n",
       "DaysSinceLastStay        0\n",
       "DaysSinceFirstStay       0\n",
       "DistributionChannel      0\n",
       "MarketSegment            0\n",
       "SRHighFloor              0\n",
       "SRLowFloor               0\n",
       "SRAccessibleRoom         0\n",
       "SRMediumFloor            0\n",
       "SRBathtub                0\n",
       "SRShower                 0\n",
       "SRCrib                   0\n",
       "SRKingSizeBed            0\n",
       "SRTwinBed                0\n",
       "SRNearElevator           0\n",
       "SRAwayFromElevator       0\n",
       "SRNoAlcoholInMiniBar     0\n",
       "SRQuietRoom              0\n",
       "dtype: int64"
      ]
     },
     "execution_count": 139,
     "metadata": {},
     "output_type": "execute_result"
    }
   ],
   "source": [
    "data_test.isna().sum()"
   ]
  },
  {
   "cell_type": "markdown",
   "metadata": {},
   "source": [
    "As there are nan values in age column,I have filled it with the mean age value from train dataset"
   ]
  },
  {
   "cell_type": "code",
   "execution_count": 140,
   "metadata": {},
   "outputs": [],
   "source": [
    "data_test['Age']=data_test['Age'].fillna(mean_age)"
   ]
  },
  {
   "cell_type": "code",
   "execution_count": 141,
   "metadata": {},
   "outputs": [
    {
     "data": {
      "text/plain": [
       "Unnamed: 0              0\n",
       "ID                      0\n",
       "Nationality             0\n",
       "Age                     0\n",
       "DaysSinceCreation       0\n",
       "AverageLeadTime         0\n",
       "LodgingRevenue          0\n",
       "OtherRevenue            0\n",
       "BookingsCanceled        0\n",
       "BookingsNoShowed        0\n",
       "BookingsCheckedIn       0\n",
       "PersonsNights           0\n",
       "RoomNights              0\n",
       "DaysSinceLastStay       0\n",
       "DaysSinceFirstStay      0\n",
       "DistributionChannel     0\n",
       "MarketSegment           0\n",
       "SRHighFloor             0\n",
       "SRLowFloor              0\n",
       "SRAccessibleRoom        0\n",
       "SRMediumFloor           0\n",
       "SRBathtub               0\n",
       "SRShower                0\n",
       "SRCrib                  0\n",
       "SRKingSizeBed           0\n",
       "SRTwinBed               0\n",
       "SRNearElevator          0\n",
       "SRAwayFromElevator      0\n",
       "SRNoAlcoholInMiniBar    0\n",
       "SRQuietRoom             0\n",
       "dtype: int64"
      ]
     },
     "execution_count": 141,
     "metadata": {},
     "output_type": "execute_result"
    }
   ],
   "source": [
    "data_test.isna().sum()"
   ]
  },
  {
   "cell_type": "code",
   "execution_count": 142,
   "metadata": {},
   "outputs": [
    {
     "data": {
      "text/plain": [
       "(1000, 30)"
      ]
     },
     "execution_count": 142,
     "metadata": {},
     "output_type": "execute_result"
    }
   ],
   "source": [
    "data_test.shape"
   ]
  },
  {
   "cell_type": "code",
   "execution_count": 143,
   "metadata": {},
   "outputs": [],
   "source": [
    "data_test['TotalRevenue']=data_test['LodgingRevenue'] + data_test['OtherRevenue']\n",
    "\n",
    "data_test_new=data_test[['Age', 'AverageLeadTime', 'PersonsNights', 'RoomNights', 'TotalRevenue']]"
   ]
  },
  {
   "cell_type": "code",
   "execution_count": 144,
   "metadata": {},
   "outputs": [
    {
     "data": {
      "text/plain": [
       "(1000, 5)"
      ]
     },
     "execution_count": 144,
     "metadata": {},
     "output_type": "execute_result"
    }
   ],
   "source": [
    "data_test_new.shape"
   ]
  },
  {
   "cell_type": "code",
   "execution_count": 145,
   "metadata": {},
   "outputs": [
    {
     "data": {
      "text/plain": [
       "Age                45.502844\n",
       "AverageLeadTime     0.000000\n",
       "PersonsNights       0.000000\n",
       "RoomNights          0.000000\n",
       "TotalRevenue        0.000000\n",
       "Name: 10, dtype: float64"
      ]
     },
     "execution_count": 145,
     "metadata": {},
     "output_type": "execute_result"
    }
   ],
   "source": [
    "data_test_new.iloc[10]"
   ]
  },
  {
   "cell_type": "code",
   "execution_count": 152,
   "metadata": {},
   "outputs": [],
   "source": [
    "with open('model_min_max.pkl' , 'rb') as f:\n",
    "    scaler = pickle.load(f)\n",
    "    \n",
    "model = load_model('model_1.hdf5')"
   ]
  },
  {
   "cell_type": "code",
   "execution_count": 153,
   "metadata": {},
   "outputs": [],
   "source": [
    "scaled_data=scaler.transform(data_test_new)\n",
    "\n",
    "y_test_predicted=model.predict(scaled_data)"
   ]
  },
  {
   "cell_type": "code",
   "execution_count": 154,
   "metadata": {},
   "outputs": [
    {
     "name": "stdout",
     "output_type": "stream",
     "text": [
      "[0, 0, 0, 0, 0, 0, 0, 0, 0, 0, 0, 0, 0, 0, 0, 0, 0, 0, 0, 0, 0, 0, 0, 0, 0, 0, 0, 0, 0, 0, 0, 0, 0, 0, 0, 0, 0, 0, 0, 0, 0, 0, 0, 0, 0, 0, 0, 0, 0, 0, 0, 0, 0, 0, 0, 0, 0, 0, 0, 0, 0, 0, 0, 0, 0, 0, 0, 0, 0, 0, 0, 0, 0, 0, 0, 0, 0, 0, 0, 0, 0, 0, 0, 0, 0, 1, 0, 1, 0, 0, 0, 0, 0, 0, 0, 0, 0, 0, 0, 0, 0, 0, 1, 0, 0, 0, 0, 0, 0, 0, 0, 0, 0, 1, 0, 0, 0, 0, 0, 0, 0, 0, 1, 0, 0, 1, 0, 0, 0, 0, 0, 0, 0, 0, 0, 0, 0, 0, 0, 0, 0, 0, 0, 0, 0, 0, 0, 0, 0, 0, 0, 0, 0, 0, 0, 0, 1, 0, 0, 0, 0, 0, 0, 0, 0, 0, 0, 0, 0, 0, 0, 0, 0, 0, 0, 0, 0, 0, 0, 0, 1, 0, 0, 0, 0, 0, 0, 0, 0, 0, 0, 0, 0, 0, 0, 0, 0, 0, 0, 0, 0, 0, 0, 0, 0, 0, 0, 0, 0, 0, 0, 0, 0, 0, 0, 0, 0, 0, 0, 0, 0, 0, 0, 0, 0, 0, 0, 0, 0, 0, 0, 0, 0, 0, 1, 0, 0, 0, 0, 0, 0, 0, 0, 0, 0, 0, 0, 0, 0, 0, 0, 0, 0, 0, 0, 0, 0, 0, 0, 0, 0, 0, 0, 0, 0, 0, 0, 0, 0, 0, 0, 0, 0, 0, 0, 1, 0, 1, 0, 1, 0, 0, 0, 0, 0, 0, 0, 0, 1, 0, 0, 0, 0, 0, 0, 0, 0, 0, 0, 0, 0, 0, 0, 0, 0, 0, 0, 1, 0, 0, 0, 1, 0, 0, 0, 0, 1, 0, 0, 0, 0, 0, 0, 0, 0, 0, 0, 0, 0, 0, 0, 0, 0, 0, 0, 0, 0, 0, 0, 1, 0, 0, 0, 0, 0, 0, 0, 0, 0, 0, 0, 0, 0, 0, 0, 0, 0, 0, 0, 0, 0, 0, 0, 0, 0, 0, 0, 0, 0, 0, 0, 0, 0, 0, 0, 0, 0, 0, 0, 0, 0, 0, 0, 0, 0, 0, 0, 0, 0, 0, 0, 0, 0, 0, 0, 0, 0, 0, 0, 0, 0, 0, 0, 0, 0, 0, 1, 0, 0, 0, 0, 0, 0, 0, 0, 0, 0, 0, 1, 0, 0, 0, 0, 1, 0, 1, 0, 0, 0, 0, 0, 0, 0, 0, 0, 0, 0, 0, 0, 0, 0, 0, 0, 0, 0, 0, 0, 0, 0, 0, 0, 0, 0, 0, 0, 0, 0, 0, 1, 0, 0, 0, 0, 0, 0, 0, 0, 0, 0, 0, 0, 0, 0, 0, 0, 1, 0, 1, 0, 0, 0, 0, 0, 0, 0, 1, 0, 1, 0, 1, 1, 0, 1, 0, 1, 0, 1, 0, 1, 0, 1, 1, 0, 1, 0, 1, 0, 1, 0, 0, 0, 0, 0, 0, 0, 0, 0, 1, 0, 0, 0, 0, 0, 1, 0, 1, 0, 1, 0, 1, 0, 0, 0, 0, 0, 0, 0, 0, 1, 0, 0, 1, 0, 1, 0, 0, 0, 0, 1, 0, 0, 0, 0, 1, 0, 0, 0, 0, 0, 0, 0, 0, 0, 0, 0, 0, 1, 0, 0, 0, 0, 0, 0, 0, 0, 0, 0, 0, 0, 0, 0, 0, 0, 0, 0, 0, 0, 0, 0, 0, 0, 0, 0, 0, 0, 1, 0, 0, 1, 1, 0, 1, 0, 1, 0, 1, 0, 1, 0, 0, 1, 0, 1, 0, 1, 0, 0, 0, 0, 0, 0, 1, 0, 0, 0, 0, 0, 0, 1, 0, 0, 1, 0, 0, 0, 0, 0, 1, 0, 1, 0, 1, 0, 1, 0, 0, 1, 0, 0, 0, 0, 1, 0, 1, 0, 0, 1, 0, 1, 0, 0, 1, 0, 1, 0, 0, 1, 1, 0, 1, 0, 1, 0, 1, 0, 0, 0, 0, 1, 1, 0, 0, 1, 0, 1, 0, 1, 0, 0, 0, 0, 1, 0, 0, 0, 0, 0, 1, 0, 0, 0, 0, 0, 0, 0, 1, 0, 0, 0, 0, 0, 0, 0, 1, 0, 0, 0, 0, 0, 1, 0, 0, 0, 0, 0, 0, 1, 0, 1, 0, 1, 0, 1, 0, 0, 0, 0, 0, 0, 0, 0, 0, 0, 0, 1, 0, 0, 1, 0, 0, 0, 1, 0, 0, 1, 0, 0, 1, 0, 0, 0, 0, 0, 0, 0, 0, 0, 0, 0, 0, 0, 0, 0, 0, 1, 0, 1, 0, 0, 1, 0, 0, 1, 0, 0, 1, 0, 0, 0, 0, 0, 1, 0, 0, 0, 0, 0, 0, 0, 0, 0, 0, 0, 0, 0, 0, 1, 0, 0, 0, 1, 0, 0, 0, 0, 0, 0, 0, 0, 1, 0, 0, 1, 0, 0, 0, 1, 0, 1, 0, 0, 1, 0, 1, 0, 1, 0, 0, 0, 0, 1, 0, 0, 0, 0, 0, 0, 0, 1, 0, 0, 0, 0, 0, 0, 0, 0, 0, 0, 0, 0, 0, 0, 0, 0, 0, 0, 0, 0, 0, 0, 0, 0, 1, 0, 0, 0, 0, 0, 0, 0, 1, 0, 1, 0, 0, 0, 0, 0, 0, 0, 0, 0, 0, 0, 0, 0, 0, 0, 0, 0, 0, 0, 0, 0, 0, 0, 0, 0, 1, 0, 0, 0, 0, 0, 0, 0, 0, 0, 0, 0, 0, 0, 0, 0, 1, 0, 0, 0, 0, 0, 0, 1, 0, 0, 0, 0, 1, 0, 0, 0, 0, 0, 0, 0, 0, 0, 1, 0, 0, 0, 1, 0, 0, 0, 0, 0, 0, 0, 0, 0, 0, 0, 0, 1, 0, 1, 0, 0, 0, 1, 0, 0, 0, 0, 1, 0, 0, 0, 0, 0, 0, 0, 0, 0, 0, 0, 0, 0, 0, 0, 0, 0, 0, 1, 0, 0, 0, 1, 0]\n"
     ]
    }
   ],
   "source": [
    "result=list(map(lambda x:1 if x>=0.5 else 0,y_test_predicted))\n",
    "print(result)"
   ]
  },
  {
   "cell_type": "markdown",
   "metadata": {},
   "source": [
    "# Conclusions"
   ]
  },
  {
   "cell_type": "markdown",
   "metadata": {},
   "source": [
    "I've decided to use only columns that I think are most suitable for our task which is done in Model 4.\n",
    "\n",
    "As we can see that Model1,Model2,Model3 with scaled dataframe,the results were similar or even more messy\n",
    "\n",
    "Dummies feature which are made for categorical columns weren't necessary but can be used in the future.\n",
    "\n"
   ]
  },
  {
   "cell_type": "code",
   "execution_count": null,
   "metadata": {},
   "outputs": [],
   "source": []
  }
 ],
 "metadata": {
  "kernelspec": {
   "display_name": "Python 3",
   "language": "python",
   "name": "python3"
  },
  "language_info": {
   "codemirror_mode": {
    "name": "ipython",
    "version": 3
   },
   "file_extension": ".py",
   "mimetype": "text/x-python",
   "name": "python",
   "nbconvert_exporter": "python",
   "pygments_lexer": "ipython3",
   "version": "3.8.5"
  }
 },
 "nbformat": 4,
 "nbformat_minor": 4
}
